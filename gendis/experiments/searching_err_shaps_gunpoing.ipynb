{
 "cells": [
  {
   "cell_type": "code",
   "execution_count": 1,
   "id": "f71c0773",
   "metadata": {},
   "outputs": [],
   "source": [
    "import datetime\n",
    "import matplotlib.pyplot as plt\n",
    "import multiprocessing\n",
    "import os\n",
    "import pandas as pd"
   ]
  },
  {
   "cell_type": "code",
   "execution_count": 2,
   "id": "32faee9d",
   "metadata": {},
   "outputs": [
    {
     "name": "stdout",
     "output_type": "stream",
     "text": [
      "/home/samirj/miniconda3/envs/gendis/bin/pip\r\n"
     ]
    }
   ],
   "source": [
    "!which pip"
   ]
  },
  {
   "cell_type": "code",
   "execution_count": 3,
   "id": "1f2f5ec1",
   "metadata": {},
   "outputs": [
    {
     "name": "stdout",
     "output_type": "stream",
     "text": [
      "GENDIS==1.0.13\r\n"
     ]
    }
   ],
   "source": [
    "!pip freeze | grep GENDIS"
   ]
  },
  {
   "cell_type": "code",
   "execution_count": 4,
   "id": "d9de2f05",
   "metadata": {
    "scrolled": true
   },
   "outputs": [
    {
     "name": "stdout",
     "output_type": "stream",
     "text": [
      "In except import\n"
     ]
    },
    {
     "name": "stderr",
     "output_type": "stream",
     "text": [
      "/home/samirj/miniconda3/envs/gendis/lib/python3.6/site-packages/sklearn/utils/deprecation.py:144: FutureWarning: The sklearn.cluster.k_means_ module is  deprecated in version 0.22 and will be removed in version 0.24. The corresponding classes / functions should instead be imported from sklearn.cluster. Anything that cannot be imported from sklearn.cluster is now part of the private API.\n",
      "  warnings.warn(message, FutureWarning)\n"
     ]
    }
   ],
   "source": [
    "from gendis.genetic import GeneticExtractor\n",
    "from gendis.fitness import SubgroupDistance"
   ]
  },
  {
   "cell_type": "code",
   "execution_count": 5,
   "id": "dacba51f",
   "metadata": {},
   "outputs": [],
   "source": [
    "error_df = pd.read_csv('data/gunpoint_processed_error.csv')"
   ]
  },
  {
   "cell_type": "code",
   "execution_count": 6,
   "id": "48745539",
   "metadata": {},
   "outputs": [
    {
     "data": {
      "text/html": [
       "<div>\n",
       "<style scoped>\n",
       "    .dataframe tbody tr th:only-of-type {\n",
       "        vertical-align: middle;\n",
       "    }\n",
       "\n",
       "    .dataframe tbody tr th {\n",
       "        vertical-align: top;\n",
       "    }\n",
       "\n",
       "    .dataframe thead th {\n",
       "        text-align: right;\n",
       "    }\n",
       "</style>\n",
       "<table border=\"1\" class=\"dataframe\">\n",
       "  <thead>\n",
       "    <tr style=\"text-align: right;\">\n",
       "      <th></th>\n",
       "      <th>0</th>\n",
       "      <th>1</th>\n",
       "      <th>2</th>\n",
       "      <th>3</th>\n",
       "      <th>4</th>\n",
       "      <th>5</th>\n",
       "      <th>6</th>\n",
       "      <th>7</th>\n",
       "      <th>8</th>\n",
       "      <th>9</th>\n",
       "      <th>...</th>\n",
       "      <th>144</th>\n",
       "      <th>145</th>\n",
       "      <th>146</th>\n",
       "      <th>147</th>\n",
       "      <th>148</th>\n",
       "      <th>149</th>\n",
       "      <th>truth</th>\n",
       "      <th>clf_pred</th>\n",
       "      <th>clf_prob</th>\n",
       "      <th>error</th>\n",
       "    </tr>\n",
       "  </thead>\n",
       "  <tbody>\n",
       "    <tr>\n",
       "      <th>0</th>\n",
       "      <td>-1.054014</td>\n",
       "      <td>-1.050717</td>\n",
       "      <td>-1.047666</td>\n",
       "      <td>-1.047448</td>\n",
       "      <td>-1.048769</td>\n",
       "      <td>-1.047781</td>\n",
       "      <td>-1.047891</td>\n",
       "      <td>-1.047536</td>\n",
       "      <td>-1.047369</td>\n",
       "      <td>-1.044656</td>\n",
       "      <td>...</td>\n",
       "      <td>-1.071325</td>\n",
       "      <td>-1.068112</td>\n",
       "      <td>-1.068966</td>\n",
       "      <td>-1.069154</td>\n",
       "      <td>-1.066642</td>\n",
       "      <td>-1.064798</td>\n",
       "      <td>1</td>\n",
       "      <td>1</td>\n",
       "      <td>0.920254</td>\n",
       "      <td>0.079746</td>\n",
       "    </tr>\n",
       "    <tr>\n",
       "      <th>1</th>\n",
       "      <td>-0.966288</td>\n",
       "      <td>-0.971525</td>\n",
       "      <td>-0.971881</td>\n",
       "      <td>-0.972672</td>\n",
       "      <td>-0.966935</td>\n",
       "      <td>-0.966532</td>\n",
       "      <td>-0.967584</td>\n",
       "      <td>-0.966147</td>\n",
       "      <td>-0.966501</td>\n",
       "      <td>-0.966086</td>\n",
       "      <td>...</td>\n",
       "      <td>-1.009584</td>\n",
       "      <td>-1.011476</td>\n",
       "      <td>-1.010935</td>\n",
       "      <td>-1.008073</td>\n",
       "      <td>-1.009745</td>\n",
       "      <td>-1.006283</td>\n",
       "      <td>1</td>\n",
       "      <td>1</td>\n",
       "      <td>0.927635</td>\n",
       "      <td>0.072365</td>\n",
       "    </tr>\n",
       "    <tr>\n",
       "      <th>2</th>\n",
       "      <td>-0.693911</td>\n",
       "      <td>-0.690750</td>\n",
       "      <td>-0.683657</td>\n",
       "      <td>-0.676097</td>\n",
       "      <td>-0.675943</td>\n",
       "      <td>-0.674141</td>\n",
       "      <td>-0.671976</td>\n",
       "      <td>-0.670974</td>\n",
       "      <td>-0.670276</td>\n",
       "      <td>-0.670103</td>\n",
       "      <td>...</td>\n",
       "      <td>-0.591039</td>\n",
       "      <td>-0.590049</td>\n",
       "      <td>-0.588937</td>\n",
       "      <td>-0.586893</td>\n",
       "      <td>-0.586506</td>\n",
       "      <td>-0.589174</td>\n",
       "      <td>2</td>\n",
       "      <td>2</td>\n",
       "      <td>0.095378</td>\n",
       "      <td>0.095378</td>\n",
       "    </tr>\n",
       "  </tbody>\n",
       "</table>\n",
       "<p>3 rows × 154 columns</p>\n",
       "</div>"
      ],
      "text/plain": [
       "          0         1         2         3         4         5         6  \\\n",
       "0 -1.054014 -1.050717 -1.047666 -1.047448 -1.048769 -1.047781 -1.047891   \n",
       "1 -0.966288 -0.971525 -0.971881 -0.972672 -0.966935 -0.966532 -0.967584   \n",
       "2 -0.693911 -0.690750 -0.683657 -0.676097 -0.675943 -0.674141 -0.671976   \n",
       "\n",
       "          7         8         9    ...          144       145       146  \\\n",
       "0 -1.047536 -1.047369 -1.044656    ...    -1.071325 -1.068112 -1.068966   \n",
       "1 -0.966147 -0.966501 -0.966086    ...    -1.009584 -1.011476 -1.010935   \n",
       "2 -0.670974 -0.670276 -0.670103    ...    -0.591039 -0.590049 -0.588937   \n",
       "\n",
       "        147       148       149  truth  clf_pred  clf_prob     error  \n",
       "0 -1.069154 -1.066642 -1.064798      1         1  0.920254  0.079746  \n",
       "1 -1.008073 -1.009745 -1.006283      1         1  0.927635  0.072365  \n",
       "2 -0.586893 -0.586506 -0.589174      2         2  0.095378  0.095378  \n",
       "\n",
       "[3 rows x 154 columns]"
      ]
     },
     "execution_count": 6,
     "metadata": {},
     "output_type": "execute_result"
    }
   ],
   "source": [
    "error_df.head(3)"
   ]
  },
  {
   "cell_type": "code",
   "execution_count": 7,
   "id": "c724d4bc",
   "metadata": {},
   "outputs": [],
   "source": [
    "X_train = error_df.drop(columns=['truth', 'clf_pred', 'clf_prob', 'error'])\n",
    "y_train = error_df['error']"
   ]
  },
  {
   "cell_type": "code",
   "execution_count": 8,
   "id": "660dfdc5",
   "metadata": {},
   "outputs": [
    {
     "data": {
      "text/plain": [
       "count    66.000000\n",
       "mean      0.244938\n",
       "std       0.194964\n",
       "min       0.000008\n",
       "25%       0.104760\n",
       "50%       0.195218\n",
       "75%       0.367542\n",
       "max       0.734978\n",
       "Name: error, dtype: float64"
      ]
     },
     "execution_count": 8,
     "metadata": {},
     "output_type": "execute_result"
    }
   ],
   "source": [
    "y_train.describe()"
   ]
  },
  {
   "cell_type": "code",
   "execution_count": 9,
   "id": "e2fc9d65",
   "metadata": {
    "scrolled": true
   },
   "outputs": [
    {
     "name": "stdout",
     "output_type": "stream",
     "text": [
      "Help on class GeneticExtractor in module gendis.genetic:\n",
      "\n",
      "class GeneticExtractor(sklearn.base.BaseEstimator, sklearn.base.TransformerMixin)\n",
      " |  Feature selection with genetic algorithm.\n",
      " |  \n",
      " |  Parameters\n",
      " |  ----------\n",
      " |  population_size : int\n",
      " |      The number of individuals in our population. Increasing this parameter\n",
      " |      increases both the runtime per generation, as the probability of\n",
      " |      finding a good solution.\n",
      " |  \n",
      " |  iterations : int\n",
      " |      The maximum number of generations the algorithm may run.\n",
      " |  \n",
      " |  wait : int\n",
      " |      If no improvement has been found for `wait` iterations, then stop\n",
      " |  \n",
      " |  add_noise_prob : float\n",
      " |      The chance that gaussian noise is added to a random shapelet from a\n",
      " |      random individual every generation\n",
      " |  \n",
      " |  add_shapelet_prob : float\n",
      " |      The chance that a shapelet is added to a random shapelet set every gen\n",
      " |  \n",
      " |  remove_shapelet_prob : float\n",
      " |      The chance that a shapelet is deleted to a random shap set every gen\n",
      " |  \n",
      " |  crossover_prob : float\n",
      " |      The chance that of crossing over two shapelet sets every generation\n",
      " |  \n",
      " |  normed : boolean\n",
      " |      Whether we first have to normalize before calculating distances\n",
      " |  \n",
      " |  n_jobs : int\n",
      " |      The number of threads to use\n",
      " |  \n",
      " |  verbose : boolean\n",
      " |      Whether to print some statistics in every generation\n",
      " |  \n",
      " |  plot : object\n",
      " |      Whether to plot the individuals every generation (if the population \n",
      " |      size is <= 20), or to plot the fittest individual\n",
      " |  \n",
      " |  Attributes\n",
      " |  ----------\n",
      " |  shapelets : array-like\n",
      " |      The fittest shapelet set after evolution\n",
      " |  label_mapping: dict\n",
      " |      A dictionary that maps the labels to the range [0, ..., C-1]\n",
      " |  \n",
      " |  Example\n",
      " |  -------\n",
      " |  An example showing genetic shapelet extraction on a simple dataset:\n",
      " |  \n",
      " |  >>> from tslearn.generators import random_walk_blobs\n",
      " |  >>> from genetic import GeneticExtractor\n",
      " |  >>> from sklearn.linear_model import LogisticRegression\n",
      " |  >>> import numpy as np\n",
      " |  >>> np.random.seed(1337)\n",
      " |  >>> X, y = random_walk_blobs(n_ts_per_blob=20, sz=64, noise_level=0.1)\n",
      " |  >>> X = np.reshape(X, (X.shape[0], X.shape[1]))\n",
      " |  >>> extractor = GeneticExtractor(iterations=5, population_size=10)\n",
      " |  >>> distances = extractor.fit_transform(X, y)\n",
      " |  >>> lr = LogisticRegression()\n",
      " |  >>> _ = lr.fit(distances, y)\n",
      " |  >>> lr.score(distances, y)\n",
      " |  1.0\n",
      " |  \n",
      " |  Method resolution order:\n",
      " |      GeneticExtractor\n",
      " |      sklearn.base.BaseEstimator\n",
      " |      sklearn.base.TransformerMixin\n",
      " |      builtins.object\n",
      " |  \n",
      " |  Methods defined here:\n",
      " |  \n",
      " |  __init__(self, population_size=50, iterations=25, verbose=False, normed=False, mutation_prob=0.1, wait=10, plot=None, max_shaps=None, crossover_prob=0.4, n_jobs=1, max_len=None, _min_length=0, fitness=None, init_ops=[<function random_shapelet at 0x7f8ef7075620>, <function kmeans at 0x7f8ef4980730>], cx_ops=[<function merge_crossover at 0x7f8ef4981840>, <function point_crossover at 0x7f8ef4981950>, <function shap_point_crossover at 0x7f8ef49819d8>], mut_ops=[<function add_shapelet at 0x7f8ef4981620>, <function remove_shapelet at 0x7f8ef49816a8>, <function mask_shapelet at 0x7f8ef4981730>])\n",
      " |      Initialize self.  See help(type(self)) for accurate signature.\n",
      " |  \n",
      " |  fit(self, X, y, convert_categorical_labels=False)\n",
      " |      Extract shapelets from the provided timeseries and labels.\n",
      " |      \n",
      " |      Parameters\n",
      " |      ----------\n",
      " |      X : array-like, shape = [n_ts, ]\n",
      " |          The training input timeseries. Each timeseries must be an array,\n",
      " |          but the lengths can be variable\n",
      " |      \n",
      " |      y : array-like, shape = [n_samples]\n",
      " |          The target values.\n",
      " |  \n",
      " |  fit_transform(self, X, y)\n",
      " |      Combine both the fit and transform method in one.\n",
      " |      \n",
      " |      Parameters\n",
      " |      ----------\n",
      " |      X : array-like, shape = [n_ts, ]\n",
      " |          The training input timeseries. Each timeseries must be an array,\n",
      " |          but the lengths can be variable\n",
      " |      \n",
      " |      y : array-like, shape = [n_samples]\n",
      " |          The target values.\n",
      " |      \n",
      " |      Returns\n",
      " |      -------\n",
      " |      D : array-like, shape = [n_ts, n_shaps]\n",
      " |          The matrix with distances\n",
      " |  \n",
      " |  save(self, path)\n",
      " |      Write away all hyper-parameters and discovered shapelets to disk\n",
      " |  \n",
      " |  transform(self, X, shapelets=None)\n",
      " |      After fitting the Extractor, we can transform collections of \n",
      " |      timeseries in matrices with distances to each of the shapelets in\n",
      " |      the evolved shapelet set.\n",
      " |      \n",
      " |      Parameters\n",
      " |      ----------\n",
      " |      X : array-like, shape = [n_ts, ]\n",
      " |          The training input timeseries. Each timeseries must be an array,\n",
      " |          but the lengths can be variable\n",
      " |      \n",
      " |      Returns\n",
      " |      -------\n",
      " |      D : array-like, shape = [n_ts, n_shaps]\n",
      " |          The matrix with distances\n",
      " |      L : array-like, shape = [n_ts, n_shaps]\n",
      " |          The matrix with localization of shapelets\n",
      " |  \n",
      " |  ----------------------------------------------------------------------\n",
      " |  Static methods defined here:\n",
      " |  \n",
      " |  load(path)\n",
      " |      Instantiate a saved GeneticExtractor\n",
      " |  \n",
      " |  ----------------------------------------------------------------------\n",
      " |  Methods inherited from sklearn.base.BaseEstimator:\n",
      " |  \n",
      " |  __getstate__(self)\n",
      " |  \n",
      " |  __repr__(self, N_CHAR_MAX=700)\n",
      " |      Return repr(self).\n",
      " |  \n",
      " |  __setstate__(self, state)\n",
      " |  \n",
      " |  get_params(self, deep=True)\n",
      " |      Get parameters for this estimator.\n",
      " |      \n",
      " |      Parameters\n",
      " |      ----------\n",
      " |      deep : bool, default=True\n",
      " |          If True, will return the parameters for this estimator and\n",
      " |          contained subobjects that are estimators.\n",
      " |      \n",
      " |      Returns\n",
      " |      -------\n",
      " |      params : mapping of string to any\n",
      " |          Parameter names mapped to their values.\n",
      " |  \n",
      " |  set_params(self, **params)\n",
      " |      Set the parameters of this estimator.\n",
      " |      \n",
      " |      The method works on simple estimators as well as on nested objects\n",
      " |      (such as pipelines). The latter have parameters of the form\n",
      " |      ``<component>__<parameter>`` so that it's possible to update each\n",
      " |      component of a nested object.\n",
      " |      \n",
      " |      Parameters\n",
      " |      ----------\n",
      " |      **params : dict\n",
      " |          Estimator parameters.\n",
      " |      \n",
      " |      Returns\n",
      " |      -------\n",
      " |      self : object\n",
      " |          Estimator instance.\n",
      " |  \n",
      " |  ----------------------------------------------------------------------\n",
      " |  Data descriptors inherited from sklearn.base.BaseEstimator:\n",
      " |  \n",
      " |  __dict__\n",
      " |      dictionary for instance variables (if defined)\n",
      " |  \n",
      " |  __weakref__\n",
      " |      list of weak references to the object (if defined)\n",
      "\n"
     ]
    }
   ],
   "source": [
    "help(GeneticExtractor)"
   ]
  },
  {
   "cell_type": "code",
   "execution_count": 11,
   "id": "f73e4305",
   "metadata": {},
   "outputs": [],
   "source": [
    "fitness_func = SubgroupDistance(\n",
    "    distance_function=SubgroupDistance.wasserstein_distance, \n",
    "    shapelet_dist_threshold=1.0\n",
    ")\n",
    "\n",
    "args = {\n",
    "    \"fitness\": fitness_func,\n",
    "    \"population_size\": 20, \n",
    "    \"iterations\": 5,  \n",
    "    \"mutation_prob\": 0.3, \n",
    "    \"crossover_prob\": 0.3,\n",
    "    \"max_shaps\": 5,\n",
    "    \"wait\": 20, \n",
    "    \"max_len\": 30,\n",
    "    \"n_jobs\": multiprocessing.cpu_count() - 2,\n",
    "    \"verbose\": True,\n",
    "} \n",
    "\n",
    "gendis = GeneticExtractor(**args)"
   ]
  },
  {
   "cell_type": "code",
   "execution_count": 12,
   "id": "31af6497",
   "metadata": {},
   "outputs": [
    {
     "data": {
      "text/plain": [
       "{'population_size': 20,\n",
       " 'iterations': 5,\n",
       " 'verbose': True,\n",
       " 'mutation_prob': 0.3,\n",
       " 'crossover_prob': 0.3,\n",
       " 'plot': None,\n",
       " 'wait': 20,\n",
       " 'n_jobs': 6,\n",
       " 'normed': False,\n",
       " '_min_length': 0,\n",
       " 'max_len': 30,\n",
       " 'max_shaps': 5,\n",
       " 'init_ops': [<function gendis.operators.random_shapelet(X, n_shapelets, min_len, max_len)>,\n",
       "  <function gendis.operators.kmeans(X, n_shapelets, min_len, max_len, n_draw=None)>],\n",
       " 'cx_ops': [<function gendis.operators.merge_crossover(ind1, ind2, p=0.25)>,\n",
       "  <function gendis.operators.point_crossover(ind1, ind2)>,\n",
       "  <function gendis.operators.shap_point_crossover(ind1, ind2, p=0.25)>],\n",
       " 'mut_ops': [<function gendis.operators.add_shapelet(shapelets, toolbox)>,\n",
       "  <function gendis.operators.remove_shapelet(shapelets, toolbox)>,\n",
       "  <function gendis.operators.mask_shapelet(shapelets, toolbox)>],\n",
       " 'is_fitted': False,\n",
       " 'fitness': <gendis.fitness.SubgroupDistance at 0x7f8ef49bcb00>,\n",
       " 'label_mapping': {},\n",
       " 'shapelets': []}"
      ]
     },
     "execution_count": 12,
     "metadata": {},
     "output_type": "execute_result"
    }
   ],
   "source": [
    "gendis.__dict__"
   ]
  },
  {
   "cell_type": "code",
   "execution_count": 13,
   "id": "f4467843",
   "metadata": {
    "scrolled": false
   },
   "outputs": [
    {
     "name": "stdout",
     "output_type": "stream",
     "text": [
      "it\t\tavg\t\tstd\t\tmax\t\ttime\n",
      "1\t\t0.0774\t\t0.057\t\t0.148142\t0.5094\n",
      "2\t\t0.1032\t\t0.058\t\t0.174604\t0.8846\n",
      "3\t\t0.1364\t\t0.044\t\t0.174604\t0.8956\n",
      "4\t\t0.1574\t\t0.032\t\t0.174604\t1.0008\n",
      "5\t\t0.1519\t\t0.045\t\t0.174604\t1.0317\n",
      "CPU times: user 4.67 s, sys: 33.8 ms, total: 4.7 s\n",
      "Wall time: 8.27 s\n"
     ]
    }
   ],
   "source": [
    "%%time\n",
    "gendis.fit(X_train, y_train.values)"
   ]
  },
  {
   "cell_type": "code",
   "execution_count": 14,
   "id": "d30b5b59",
   "metadata": {},
   "outputs": [
    {
     "data": {
      "text/plain": [
       "{'it': 2,\n",
       " 'score': 0.1746043737173814,\n",
       " 'info': {'dist': 0.19312289223589993,\n",
       "  'subgroup_error_mean': 0.09276351283886676,\n",
       "  'rest_error_mean': 0.2787542585954856,\n",
       "  'subgroup_size': 12},\n",
       " 'shapelets': [array([0.21816356, 0.23740276, 0.25895812, 0.29802638, 0.34573555,\n",
       "         0.40881008, 0.47942169, 0.54808819, 0.65392624, 0.69151381,\n",
       "         0.8448462 , 0.91713644, 0.98916768, 1.06428431, 1.13249343,\n",
       "         1.18146319, 1.22323289, 1.23856422, 1.24803745, 1.25071998,\n",
       "         1.25321106, 1.25075508, 1.24736191]),\n",
       "  array([-1.16349676, -1.24014825, -1.28422746, -1.3089622 , -1.31141043,\n",
       "         -1.27672311, -1.25813879, -1.26126833, -1.25913321, -1.25761065,\n",
       "         -1.25084361, -1.23206312, -1.2163123 , -1.19764137, -1.18228242,\n",
       "         -1.18175378, -1.18626416, -1.17862122, -1.1491538 , -1.11071193,\n",
       "         -1.0444358 , -0.97110219, -0.90186464])]}"
      ]
     },
     "execution_count": 14,
     "metadata": {},
     "output_type": "execute_result"
    }
   ],
   "source": [
    "gendis.best"
   ]
  },
  {
   "cell_type": "code",
   "execution_count": 15,
   "id": "69b2c3f1",
   "metadata": {
    "scrolled": false
   },
   "outputs": [
    {
     "data": {
      "text/plain": [
       "[{'score': 0.1746043737173814,\n",
       "  'info': {'dist': 0.19312289223589993,\n",
       "   'subgroup_error_mean': 0.09276351283886676,\n",
       "   'rest_error_mean': 0.2787542585954856,\n",
       "   'subgroup_size': 12},\n",
       "  'shapelets': [array([0.21816356, 0.23740276, 0.25895812, 0.29802638, 0.34573555,\n",
       "          0.40881008, 0.47942169, 0.54808819, 0.65392624, 0.69151381,\n",
       "          0.8448462 , 0.91713644, 0.98916768, 1.06428431, 1.13249343,\n",
       "          1.18146319, 1.22323289, 1.23856422, 1.24803745, 1.25071998,\n",
       "          1.25321106, 1.25075508, 1.24736191]),\n",
       "   array([-1.16349676, -1.24014825, -1.28422746, -1.3089622 , -1.31141043,\n",
       "          -1.27672311, -1.25813879, -1.26126833, -1.25913321, -1.25761065,\n",
       "          -1.25084361, -1.23206312, -1.2163123 , -1.19764137, -1.18228242,\n",
       "          -1.18175378, -1.18626416, -1.17862122, -1.1491538 , -1.11071193,\n",
       "          -1.0444358 , -0.97110219, -0.90186464])]},\n",
       " {'score': 0.1746043737173814,\n",
       "  'info': {'dist': 0.19312289223589993,\n",
       "   'subgroup_error_mean': 0.09276351283886676,\n",
       "   'rest_error_mean': 0.2787542585954856,\n",
       "   'subgroup_size': 12},\n",
       "  'shapelets': [array([-1.16349676, -1.24014825, -1.28422746, -1.3089622 , -1.31141043,\n",
       "          -1.27672311, -1.25813879, -1.26126833, -1.25913321, -1.25761065,\n",
       "          -1.25084361, -1.23206312, -1.2163123 , -1.19764137, -1.18228242,\n",
       "          -1.18175378, -1.18626416, -1.17862122, -1.1491538 , -1.11071193,\n",
       "          -1.0444358 , -0.97110219, -0.90186464]),\n",
       "   array([0.21816356, 0.23740276, 0.25895812, 0.29802638, 0.34573555,\n",
       "          0.40881008, 0.47942169, 0.54808819, 0.65392624, 0.69151381,\n",
       "          0.8448462 , 0.91713644, 0.98916768, 1.06428431, 1.13249343,\n",
       "          1.18146319, 1.22323289, 1.23856422, 1.24803745, 1.25071998,\n",
       "          1.25321106, 1.25075508, 1.24736191])]},\n",
       " {'score': 0.1746043737173814,\n",
       "  'info': {'dist': 0.19312289223589993,\n",
       "   'subgroup_error_mean': 0.09276351283886676,\n",
       "   'rest_error_mean': 0.2787542585954856,\n",
       "   'subgroup_size': 12},\n",
       "  'shapelets': [array([0.21816356, 0.23740276, 0.25895812, 0.29802638, 0.34573555,\n",
       "          0.40881008, 0.47942169, 0.54808819, 0.65392624, 0.69151381,\n",
       "          0.8448462 , 0.91713644, 0.98916768, 1.06428431, 1.13249343,\n",
       "          1.18146319, 1.22323289, 1.23856422, 1.24803745, 1.25071998,\n",
       "          1.25321106, 1.25075508, 1.24736191]),\n",
       "   array([-1.16349676, -1.24014825, -1.28422746, -1.3089622 , -1.31141043,\n",
       "          -1.27672311, -1.25813879, -1.26126833, -1.25913321, -1.25761065,\n",
       "          -1.25084361, -1.23206312, -1.2163123 , -1.19764137, -1.18228242,\n",
       "          -1.18175378, -1.18626416, -1.17862122, -1.1491538 , -1.11071193,\n",
       "          -1.0444358 , -0.97110219, -0.90186464])]},\n",
       " {'score': 0.1746043737173814,\n",
       "  'info': {'dist': 0.19312289223589993,\n",
       "   'subgroup_error_mean': 0.09276351283886676,\n",
       "   'rest_error_mean': 0.2787542585954856,\n",
       "   'subgroup_size': 12},\n",
       "  'shapelets': [array([-1.16349676, -1.24014825, -1.28422746, -1.3089622 , -1.31141043,\n",
       "          -1.27672311, -1.25813879, -1.26126833, -1.25913321, -1.25761065,\n",
       "          -1.25084361, -1.23206312, -1.2163123 , -1.19764137, -1.18228242,\n",
       "          -1.18175378, -1.18626416, -1.17862122, -1.1491538 , -1.11071193,\n",
       "          -1.0444358 , -0.97110219, -0.90186464]),\n",
       "   array([0.21816356, 0.23740276, 0.25895812, 0.29802638, 0.34573555,\n",
       "          0.40881008, 0.47942169, 0.54808819, 0.65392624, 0.69151381,\n",
       "          0.8448462 , 0.91713644, 0.98916768, 1.06428431, 1.13249343,\n",
       "          1.18146319, 1.22323289, 1.23856422, 1.24803745, 1.25071998,\n",
       "          1.25321106, 1.25075508, 1.24736191])]},\n",
       " {'score': 0.1746043737173814,\n",
       "  'info': {'dist': 0.19312289223589993,\n",
       "   'subgroup_error_mean': 0.09276351283886676,\n",
       "   'rest_error_mean': 0.2787542585954856,\n",
       "   'subgroup_size': 12},\n",
       "  'shapelets': [array([0.21816356, 0.23740276, 0.25895812, 0.29802638, 0.34573555,\n",
       "          0.40881008, 0.47942169, 0.54808819, 0.65392624, 0.69151381,\n",
       "          0.8448462 , 0.91713644, 0.98916768, 1.06428431, 1.13249343,\n",
       "          1.18146319, 1.22323289, 1.23856422, 1.24803745, 1.25071998,\n",
       "          1.25321106, 1.25075508, 1.24736191]),\n",
       "   array([-1.16349676, -1.24014825, -1.28422746, -1.3089622 , -1.31141043,\n",
       "          -1.27672311, -1.25813879, -1.26126833, -1.25913321, -1.25761065,\n",
       "          -1.25084361, -1.23206312, -1.2163123 , -1.19764137, -1.18228242,\n",
       "          -1.18175378, -1.18626416, -1.17862122, -1.1491538 , -1.11071193,\n",
       "          -1.0444358 , -0.97110219, -0.90186464])]},\n",
       " {'score': 0.1746043737173814,\n",
       "  'info': {'dist': 0.19312289223589993,\n",
       "   'subgroup_error_mean': 0.09276351283886676,\n",
       "   'rest_error_mean': 0.2787542585954856,\n",
       "   'subgroup_size': 12},\n",
       "  'shapelets': [array([-1.16349676, -1.24014825, -1.28422746, -1.3089622 , -1.31141043,\n",
       "          -1.27672311, -1.25813879, -1.26126833, -1.25913321, -1.25761065,\n",
       "          -1.25084361, -1.23206312, -1.2163123 , -1.19764137, -1.18228242,\n",
       "          -1.18175378, -1.18626416, -1.17862122, -1.1491538 , -1.11071193,\n",
       "          -1.0444358 , -0.97110219, -0.90186464]),\n",
       "   array([0.21816356, 0.23740276, 0.25895812, 0.29802638, 0.34573555,\n",
       "          0.40881008, 0.47942169, 0.54808819, 0.65392624, 0.69151381,\n",
       "          0.8448462 , 0.91713644, 0.98916768, 1.06428431, 1.13249343,\n",
       "          1.18146319, 1.22323289, 1.23856422, 1.24803745, 1.25071998,\n",
       "          1.25321106, 1.25075508, 1.24736191])]},\n",
       " {'score': 0.1746043737173814,\n",
       "  'info': {'dist': 0.19312289223589993,\n",
       "   'subgroup_error_mean': 0.09276351283886676,\n",
       "   'rest_error_mean': 0.2787542585954856,\n",
       "   'subgroup_size': 12},\n",
       "  'shapelets': [array([-1.16349676, -1.24014825, -1.28422746, -1.3089622 , -1.31141043,\n",
       "          -1.27672311, -1.25813879, -1.26126833, -1.25913321, -1.25761065,\n",
       "          -1.25084361, -1.23206312, -1.2163123 , -1.19764137, -1.18228242,\n",
       "          -1.18175378, -1.18626416, -1.17862122, -1.1491538 , -1.11071193,\n",
       "          -1.0444358 , -0.97110219, -0.90186464]),\n",
       "   array([0.21816356, 0.23740276, 0.25895812, 0.29802638, 0.34573555,\n",
       "          0.40881008, 0.47942169, 0.54808819, 0.65392624, 0.69151381,\n",
       "          0.8448462 , 0.91713644, 0.98916768, 1.06428431, 1.13249343,\n",
       "          1.18146319, 1.22323289, 1.23856422, 1.24803745, 1.25071998,\n",
       "          1.25321106, 1.25075508, 1.24736191])]},\n",
       " {'score': 0.1746043737173814,\n",
       "  'info': {'dist': 0.19312289223589993,\n",
       "   'subgroup_error_mean': 0.09276351283886676,\n",
       "   'rest_error_mean': 0.2787542585954856,\n",
       "   'subgroup_size': 12},\n",
       "  'shapelets': [array([0.21816356, 0.23740276, 0.25895812, 0.29802638, 0.34573555,\n",
       "          0.40881008, 0.47942169, 0.54808819, 0.65392624, 0.69151381,\n",
       "          0.8448462 , 0.91713644, 0.98916768, 1.06428431, 1.13249343,\n",
       "          1.18146319, 1.22323289, 1.23856422, 1.24803745, 1.25071998,\n",
       "          1.25321106, 1.25075508, 1.24736191]),\n",
       "   array([-1.16349676, -1.24014825, -1.28422746, -1.3089622 , -1.31141043,\n",
       "          -1.27672311, -1.25813879, -1.26126833, -1.25913321, -1.25761065,\n",
       "          -1.25084361, -1.23206312, -1.2163123 , -1.19764137, -1.18228242,\n",
       "          -1.18175378, -1.18626416, -1.17862122, -1.1491538 , -1.11071193,\n",
       "          -1.0444358 , -0.97110219, -0.90186464]),\n",
       "   array([-1.0888274 , -1.0638232 , -1.017793  , -0.92762264])]},\n",
       " {'score': 0.17290683334443038,\n",
       "  'info': {'dist': 0.19251467648168527,\n",
       "   'subgroup_error_mean': 0.10210046254530009,\n",
       "   'rest_error_mean': 0.2869487290204534,\n",
       "   'subgroup_size': 15},\n",
       "  'shapelets': [array([-0.03653968,  0.00162737,  0.04997816,  0.12900158,  0.2217524 ,\n",
       "           0.33745128,  0.47151381,  0.57845496,  0.70103256,  0.78095081,\n",
       "           0.92155384,  1.01082431,  1.09421309,  1.16731838,  1.22964685,\n",
       "           1.27381868,  1.30457394,  1.31442514,  1.31779518,  1.31939318,\n",
       "           1.32250839,  1.32228332,  1.32288935]),\n",
       "   array([0.82647717, 0.83936245, 0.86129994, 0.89189536, 0.92116855,\n",
       "          0.97123566])]},\n",
       " {'score': 0.17290683334443038,\n",
       "  'info': {'dist': 0.19251467648168527,\n",
       "   'subgroup_error_mean': 0.10210046254530009,\n",
       "   'rest_error_mean': 0.2869487290204534,\n",
       "   'subgroup_size': 15},\n",
       "  'shapelets': [array([-0.03653968,  0.00162737,  0.04997816,  0.12900158,  0.2217524 ,\n",
       "           0.33745128,  0.47151381,  0.57845496,  0.70103256,  0.78095081,\n",
       "           0.92155384,  1.01082431,  1.09421309,  1.16731838,  1.22964685,\n",
       "           1.27381868,  1.30457394,  1.31442514,  1.31779518,  1.31939318,\n",
       "           1.32250839,  1.32228332,  1.32288935]),\n",
       "   array([0.82647717, 0.83936245, 0.86129994, 0.89189536, 0.92116855,\n",
       "          0.97123566])]}]"
      ]
     },
     "execution_count": 15,
     "metadata": {},
     "output_type": "execute_result"
    }
   ],
   "source": [
    "gendis.top_10_best"
   ]
  },
  {
   "cell_type": "code",
   "execution_count": 16,
   "id": "6f4ecc1e",
   "metadata": {},
   "outputs": [
    {
     "name": "stdout",
     "output_type": "stream",
     "text": [
      "Help on method transform in module gendis.genetic:\n",
      "\n",
      "transform(X, shapelets=None) method of gendis.genetic.GeneticExtractor instance\n",
      "    After fitting the Extractor, we can transform collections of \n",
      "    timeseries in matrices with distances to each of the shapelets in\n",
      "    the evolved shapelet set.\n",
      "    \n",
      "    Parameters\n",
      "    ----------\n",
      "    X : array-like, shape = [n_ts, ]\n",
      "        The training input timeseries. Each timeseries must be an array,\n",
      "        but the lengths can be variable\n",
      "    \n",
      "    Returns\n",
      "    -------\n",
      "    D : array-like, shape = [n_ts, n_shaps]\n",
      "        The matrix with distances\n",
      "    L : array-like, shape = [n_ts, n_shaps]\n",
      "        The matrix with localization of shapelets\n",
      "\n"
     ]
    }
   ],
   "source": [
    "help(gendis.transform)"
   ]
  },
  {
   "cell_type": "code",
   "execution_count": 17,
   "id": "5576625d",
   "metadata": {},
   "outputs": [],
   "source": [
    "D, L = gendis.transform(X=X_train)"
   ]
  },
  {
   "cell_type": "code",
   "execution_count": 18,
   "id": "8f8cee49",
   "metadata": {},
   "outputs": [
    {
     "data": {
      "text/plain": [
       "[<matplotlib.lines.Line2D at 0x7f8ef4879eb8>]"
      ]
     },
     "execution_count": 18,
     "metadata": {},
     "output_type": "execute_result"
    },
    {
     "data": {
      "image/png": "[encoded data removed]",
      "text/plain": [
       "<matplotlib.figure.Figure at 0x7f8f001e6f60>"
      ]
     },
     "metadata": {
      "needs_background": "light"
     },
     "output_type": "display_data"
    }
   ],
   "source": [
    "plt.plot(X_train.iloc[0].values)"
   ]
  },
  {
   "cell_type": "code",
   "execution_count": 19,
   "id": "cac44694",
   "metadata": {},
   "outputs": [],
   "source": [
    "sg_filter = SubgroupDistance.filter_subgroup_shapelets(\n",
    "    y_train, D, shapelet_dist_threshold=1.0, return_filter=True\n",
    ")"
   ]
  },
  {
   "cell_type": "code",
   "execution_count": 20,
   "id": "8686306b",
   "metadata": {},
   "outputs": [],
   "source": [
    "X_sg, y_sg = X_train[sg_filter], y_train[sg_filter]\n",
    "D_sg, L_sg = D[sg_filter], L[sg_filter]"
   ]
  },
  {
   "cell_type": "code",
   "execution_count": 21,
   "id": "98fc7fa5",
   "metadata": {},
   "outputs": [
    {
     "data": {
      "text/plain": [
       "[<matplotlib.lines.Line2D at 0x7f8ef4795a20>]"
      ]
     },
     "execution_count": 21,
     "metadata": {},
     "output_type": "execute_result"
    },
    {
     "data": {
      "image/png": "[encoded data removed]",
      "text/plain": [
       "<matplotlib.figure.Figure at 0x7f8ef492fdd8>"
      ]
     },
     "metadata": {
      "needs_background": "light"
     },
     "output_type": "display_data"
    }
   ],
   "source": [
    "plt.plot(X_sg.iloc[0].values)"
   ]
  },
  {
   "cell_type": "code",
   "execution_count": 23,
   "id": "1ae19716",
   "metadata": {},
   "outputs": [
    {
     "data": {
      "image/png": "[encoded data removed]",
      "text/plain": [
       "<matplotlib.figure.Figure at 0x7f8ef4720b38>"
      ]
     },
     "metadata": {
      "needs_background": "light"
     },
     "output_type": "display_data"
    },
    {
     "data": {
      "image/png": "[encoded data removed]",
      "text/plain": [
       "<matplotlib.figure.Figure at 0x7f8ef472d2b0>"
      ]
     },
     "metadata": {
      "needs_background": "light"
     },
     "output_type": "display_data"
    },
    {
     "data": {
      "image/png": "[encoded data removed]",
      "text/plain": [
       "<matplotlib.figure.Figure at 0x7f8ef4705ba8>"
      ]
     },
     "metadata": {
      "needs_background": "light"
     },
     "output_type": "display_data"
    },
    {
     "data": {
      "image/png": "[encoded data removed]",
      "text/plain": [
       "<matplotlib.figure.Figure at 0x7f8ef43ba780>"
      ]
     },
     "metadata": {
      "needs_background": "light"
     },
     "output_type": "display_data"
    }
   ],
   "source": [
    "from math import ceil, floor\n",
    "\n",
    "for series_idx in [5, 6, 7, 8]:\n",
    "    series = X_sg.iloc[series_idx].values\n",
    "    plt.plot(series, alpha=0.5)\n",
    "\n",
    "    for shap_idx, shap in enumerate(gendis.best[\"shapelets\"]): \n",
    "\n",
    "        loc = L_sg[series_idx][shap_idx]\n",
    "        #shap = gendis.best[\"shapelets\"][shap_idx]\n",
    "        k = loc * float(len(series) - len(shap)) \n",
    "\n",
    "\n",
    "        start = floor(k)\n",
    "        end = ceil(start + len(shap))\n",
    "        shap_idx = list(range(start, end))\n",
    "\n",
    "        plt.plot(shap_idx, shap)\n",
    "    \n",
    "    plt.show()"
   ]
  },
  {
   "cell_type": "code",
   "execution_count": 24,
   "id": "53bd0e99",
   "metadata": {},
   "outputs": [],
   "source": [
    "X_nsg, y_nsg = X_train[~sg_filter], y_train[~sg_filter]\n"
   ]
  },
  {
   "cell_type": "code",
   "execution_count": 42,
   "id": "a1ea05ce",
   "metadata": {},
   "outputs": [
    {
     "data": {
      "text/plain": [
       "2     0.095378\n",
       "3     0.734978\n",
       "4     0.066358\n",
       "6     0.514319\n",
       "7     0.328106\n",
       "11    0.143796\n",
       "12    0.391555\n",
       "13    0.000008\n",
       "14    0.209971\n",
       "15    0.281285\n",
       "16    0.185688\n",
       "18    0.200076\n",
       "19    0.089668\n",
       "20    0.191943\n",
       "21    0.353056\n",
       "22    0.249169\n",
       "23    0.132040\n",
       "24    0.207166\n",
       "25    0.223106\n",
       "26    0.000214\n",
       "27    0.033967\n",
       "28    0.660377\n",
       "29    0.281479\n",
       "30    0.634107\n",
       "31    0.638407\n",
       "32    0.401589\n",
       "33    0.002650\n",
       "35    0.104033\n",
       "36    0.158164\n",
       "37    0.030392\n",
       "38    0.437004\n",
       "39    0.212037\n",
       "40    0.029080\n",
       "41    0.244087\n",
       "43    0.198492\n",
       "44    0.132520\n",
       "45    0.224172\n",
       "46    0.415477\n",
       "47    0.122833\n",
       "48    0.176805\n",
       "49    0.113342\n",
       "50    0.418684\n",
       "51    0.444101\n",
       "53    0.678336\n",
       "54    0.256065\n",
       "55    0.520608\n",
       "56    0.104505\n",
       "57    0.561946\n",
       "58    0.706261\n",
       "61    0.224323\n",
       "62    0.434576\n",
       "63    0.365658\n",
       "64    0.368170\n",
       "65    0.120600\n",
       "Name: error, dtype: float64"
      ]
     },
     "execution_count": 42,
     "metadata": {},
     "output_type": "execute_result"
    }
   ],
   "source": [
    "y_nsg"
   ]
  },
  {
   "cell_type": "code",
   "execution_count": 57,
   "id": "5d9885a2",
   "metadata": {
    "scrolled": false
   },
   "outputs": [
    {
     "name": "stdout",
     "output_type": "stream",
     "text": [
      "0.7349781185970585\n"
     ]
    },
    {
     "data": {
      "image/png": "[encoded data removed]",
      "text/plain": [
       "<matplotlib.figure.Figure at 0x7f8ee1a61828>"
      ]
     },
     "metadata": {
      "needs_background": "light"
     },
     "output_type": "display_data"
    },
    {
     "name": "stdout",
     "output_type": "stream",
     "text": [
      "0.6384074847708407\n"
     ]
    },
    {
     "data": {
      "image/png": "[encoded data removed]",
      "text/plain": [
       "<matplotlib.figure.Figure at 0x7f8ee17d7940>"
      ]
     },
     "metadata": {
      "needs_background": "light"
     },
     "output_type": "display_data"
    },
    {
     "name": "stdout",
     "output_type": "stream",
     "text": [
      "0.4015894131141644\n"
     ]
    },
    {
     "data": {
      "image/png": "[encoded data removed]",
      "text/plain": [
       "<matplotlib.figure.Figure at 0x7f8ee1ebd240>"
      ]
     },
     "metadata": {
      "needs_background": "light"
     },
     "output_type": "display_data"
    },
    {
     "name": "stdout",
     "output_type": "stream",
     "text": [
      "0.6603772118871061\n"
     ]
    },
    {
     "data": {
      "image/png": "[encoded data removed]",
      "text/plain": [
       "<matplotlib.figure.Figure at 0x7f8ee1725390>"
      ]
     },
     "metadata": {
      "needs_background": "light"
     },
     "output_type": "display_data"
    },
    {
     "name": "stdout",
     "output_type": "stream",
     "text": [
      "0.6341072018893763\n"
     ]
    },
    {
     "data": {
      "image/png": "[encoded data removed]",
      "text/plain": [
       "<matplotlib.figure.Figure at 0x7f8ee170ae80>"
      ]
     },
     "metadata": {
      "needs_background": "light"
     },
     "output_type": "display_data"
    },
    {
     "name": "stdout",
     "output_type": "stream",
     "text": [
      "0.7062610604564414\n"
     ]
    },
    {
     "data": {
      "image/png": "[encoded data removed]",
      "text/plain": [
       "<matplotlib.figure.Figure at 0x7f8ee17a0588>"
      ]
     },
     "metadata": {
      "needs_background": "light"
     },
     "output_type": "display_data"
    },
    {
     "name": "stdout",
     "output_type": "stream",
     "text": [
      "0.6783356830549622\n"
     ]
    },
    {
     "data": {
      "image/png": "[encoded data removed]",
      "text/plain": [
       "<matplotlib.figure.Figure at 0x7f8ee12dd400>"
      ]
     },
     "metadata": {
      "needs_background": "light"
     },
     "output_type": "display_data"
    }
   ],
   "source": [
    "n=[3, 31, 32, 28, 30, 58, 53]\n",
    "\n",
    "for x in n:\n",
    "    print(y_nsg[x])\n",
    "    plt.plot(X_nsg.loc[x].values)\n",
    "    plt.show()"
   ]
  },
  {
   "cell_type": "code",
   "execution_count": 41,
   "id": "a0e50734",
   "metadata": {},
   "outputs": [],
   "source": [
    "ts = datetime.datetime.now().strftime('%Y%m%d%H%M%S')\n",
    "folder = f'./results/gunpoint/{ts}/'\n",
    "os.makedirs(folder)\n",
    "gendis.save(f'{folder}/gendis.pickle')"
   ]
  }
 ],
 "metadata": {
  "kernelspec": {
   "display_name": "Python 3 (ipykernel)",
   "language": "python",
   "name": "python3"
  },
  "language_info": {
   "codemirror_mode": {
    "name": "ipython",
    "version": 3
   },
   "file_extension": ".py",
   "mimetype": "text/x-python",
   "name": "python",
   "nbconvert_exporter": "python",
   "pygments_lexer": "ipython3",
   "version": "3.6.13"
  }
 },
 "nbformat": 4,
 "nbformat_minor": 5
}
