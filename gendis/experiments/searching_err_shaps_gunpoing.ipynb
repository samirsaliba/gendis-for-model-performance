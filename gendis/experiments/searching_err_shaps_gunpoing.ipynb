{
 "cells": [
  {
   "cell_type": "code",
   "execution_count": 1,
   "id": "f71c0773",
   "metadata": {},
   "outputs": [],
   "source": [
    "import datetime\n",
    "import matplotlib.pyplot as plt\n",
    "import multiprocessing\n",
    "import os\n",
    "import pandas as pd"
   ]
  },
  {
   "cell_type": "code",
   "execution_count": 2,
   "id": "16501765",
   "metadata": {},
   "outputs": [
    {
     "name": "stdout",
     "output_type": "stream",
     "text": [
      "/home/samirj/miniconda3/envs/gendis/bin/pip\r\n"
     ]
    }
   ],
   "source": [
    "!which pip"
   ]
  },
  {
   "cell_type": "code",
   "execution_count": 3,
   "id": "cffe07fc",
   "metadata": {},
   "outputs": [
    {
     "name": "stdout",
     "output_type": "stream",
     "text": [
      "GENDIS==1.0.13\r\n"
     ]
    }
   ],
   "source": [
    "!pip freeze | grep GENDIS"
   ]
  },
  {
   "cell_type": "code",
   "execution_count": 4,
   "id": "d9de2f05",
   "metadata": {
    "scrolled": true
   },
   "outputs": [
    {
     "name": "stdout",
     "output_type": "stream",
     "text": [
      "In except import\n"
     ]
    },
    {
     "name": "stderr",
     "output_type": "stream",
     "text": [
      "/home/samirj/miniconda3/envs/gendis/lib/python3.6/site-packages/sklearn/utils/deprecation.py:144: FutureWarning: The sklearn.cluster.k_means_ module is  deprecated in version 0.22 and will be removed in version 0.24. The corresponding classes / functions should instead be imported from sklearn.cluster. Anything that cannot be imported from sklearn.cluster is now part of the private API.\n",
      "  warnings.warn(message, FutureWarning)\n"
     ]
    }
   ],
   "source": [
    "from gendis.genetic import GeneticExtractor\n",
    "from gendis.fitness import SubgroupDistance"
   ]
  },
  {
   "cell_type": "code",
   "execution_count": 5,
   "id": "dacba51f",
   "metadata": {},
   "outputs": [],
   "source": [
    "error_df = pd.read_csv('data/gunpoint_processed_error.csv')"
   ]
  },
  {
   "cell_type": "code",
   "execution_count": 6,
   "id": "48745539",
   "metadata": {},
   "outputs": [
    {
     "data": {
      "text/html": [
       "<div>\n",
       "<style scoped>\n",
       "    .dataframe tbody tr th:only-of-type {\n",
       "        vertical-align: middle;\n",
       "    }\n",
       "\n",
       "    .dataframe tbody tr th {\n",
       "        vertical-align: top;\n",
       "    }\n",
       "\n",
       "    .dataframe thead th {\n",
       "        text-align: right;\n",
       "    }\n",
       "</style>\n",
       "<table border=\"1\" class=\"dataframe\">\n",
       "  <thead>\n",
       "    <tr style=\"text-align: right;\">\n",
       "      <th></th>\n",
       "      <th>0</th>\n",
       "      <th>1</th>\n",
       "      <th>2</th>\n",
       "      <th>3</th>\n",
       "      <th>4</th>\n",
       "      <th>5</th>\n",
       "      <th>6</th>\n",
       "      <th>7</th>\n",
       "      <th>8</th>\n",
       "      <th>9</th>\n",
       "      <th>...</th>\n",
       "      <th>144</th>\n",
       "      <th>145</th>\n",
       "      <th>146</th>\n",
       "      <th>147</th>\n",
       "      <th>148</th>\n",
       "      <th>149</th>\n",
       "      <th>truth</th>\n",
       "      <th>clf_pred</th>\n",
       "      <th>clf_prob</th>\n",
       "      <th>error</th>\n",
       "    </tr>\n",
       "  </thead>\n",
       "  <tbody>\n",
       "    <tr>\n",
       "      <th>0</th>\n",
       "      <td>-1.054014</td>\n",
       "      <td>-1.050717</td>\n",
       "      <td>-1.047666</td>\n",
       "      <td>-1.047448</td>\n",
       "      <td>-1.048769</td>\n",
       "      <td>-1.047781</td>\n",
       "      <td>-1.047891</td>\n",
       "      <td>-1.047536</td>\n",
       "      <td>-1.047369</td>\n",
       "      <td>-1.044656</td>\n",
       "      <td>...</td>\n",
       "      <td>-1.071325</td>\n",
       "      <td>-1.068112</td>\n",
       "      <td>-1.068966</td>\n",
       "      <td>-1.069154</td>\n",
       "      <td>-1.066642</td>\n",
       "      <td>-1.064798</td>\n",
       "      <td>1</td>\n",
       "      <td>1</td>\n",
       "      <td>0.920254</td>\n",
       "      <td>0.079746</td>\n",
       "    </tr>\n",
       "    <tr>\n",
       "      <th>1</th>\n",
       "      <td>-0.966288</td>\n",
       "      <td>-0.971525</td>\n",
       "      <td>-0.971881</td>\n",
       "      <td>-0.972672</td>\n",
       "      <td>-0.966935</td>\n",
       "      <td>-0.966532</td>\n",
       "      <td>-0.967584</td>\n",
       "      <td>-0.966147</td>\n",
       "      <td>-0.966501</td>\n",
       "      <td>-0.966086</td>\n",
       "      <td>...</td>\n",
       "      <td>-1.009584</td>\n",
       "      <td>-1.011476</td>\n",
       "      <td>-1.010935</td>\n",
       "      <td>-1.008073</td>\n",
       "      <td>-1.009745</td>\n",
       "      <td>-1.006283</td>\n",
       "      <td>1</td>\n",
       "      <td>1</td>\n",
       "      <td>0.927635</td>\n",
       "      <td>0.072365</td>\n",
       "    </tr>\n",
       "    <tr>\n",
       "      <th>2</th>\n",
       "      <td>-0.693911</td>\n",
       "      <td>-0.690750</td>\n",
       "      <td>-0.683657</td>\n",
       "      <td>-0.676097</td>\n",
       "      <td>-0.675943</td>\n",
       "      <td>-0.674141</td>\n",
       "      <td>-0.671976</td>\n",
       "      <td>-0.670974</td>\n",
       "      <td>-0.670276</td>\n",
       "      <td>-0.670103</td>\n",
       "      <td>...</td>\n",
       "      <td>-0.591039</td>\n",
       "      <td>-0.590049</td>\n",
       "      <td>-0.588937</td>\n",
       "      <td>-0.586893</td>\n",
       "      <td>-0.586506</td>\n",
       "      <td>-0.589174</td>\n",
       "      <td>2</td>\n",
       "      <td>2</td>\n",
       "      <td>0.095378</td>\n",
       "      <td>0.095378</td>\n",
       "    </tr>\n",
       "  </tbody>\n",
       "</table>\n",
       "<p>3 rows × 154 columns</p>\n",
       "</div>"
      ],
      "text/plain": [
       "          0         1         2         3         4         5         6  \\\n",
       "0 -1.054014 -1.050717 -1.047666 -1.047448 -1.048769 -1.047781 -1.047891   \n",
       "1 -0.966288 -0.971525 -0.971881 -0.972672 -0.966935 -0.966532 -0.967584   \n",
       "2 -0.693911 -0.690750 -0.683657 -0.676097 -0.675943 -0.674141 -0.671976   \n",
       "\n",
       "          7         8         9    ...          144       145       146  \\\n",
       "0 -1.047536 -1.047369 -1.044656    ...    -1.071325 -1.068112 -1.068966   \n",
       "1 -0.966147 -0.966501 -0.966086    ...    -1.009584 -1.011476 -1.010935   \n",
       "2 -0.670974 -0.670276 -0.670103    ...    -0.591039 -0.590049 -0.588937   \n",
       "\n",
       "        147       148       149  truth  clf_pred  clf_prob     error  \n",
       "0 -1.069154 -1.066642 -1.064798      1         1  0.920254  0.079746  \n",
       "1 -1.008073 -1.009745 -1.006283      1         1  0.927635  0.072365  \n",
       "2 -0.586893 -0.586506 -0.589174      2         2  0.095378  0.095378  \n",
       "\n",
       "[3 rows x 154 columns]"
      ]
     },
     "execution_count": 6,
     "metadata": {},
     "output_type": "execute_result"
    }
   ],
   "source": [
    "error_df.head(3)"
   ]
  },
  {
   "cell_type": "code",
   "execution_count": 7,
   "id": "c724d4bc",
   "metadata": {},
   "outputs": [],
   "source": [
    "X_train = error_df.drop(columns=['truth', 'clf_pred', 'clf_prob', 'error'])\n",
    "y_train = error_df['error']"
   ]
  },
  {
   "cell_type": "code",
   "execution_count": 8,
   "id": "660dfdc5",
   "metadata": {},
   "outputs": [
    {
     "data": {
      "text/plain": [
       "count    66.000000\n",
       "mean      0.244938\n",
       "std       0.194964\n",
       "min       0.000008\n",
       "25%       0.104760\n",
       "50%       0.195218\n",
       "75%       0.367542\n",
       "max       0.734978\n",
       "Name: error, dtype: float64"
      ]
     },
     "execution_count": 8,
     "metadata": {},
     "output_type": "execute_result"
    }
   ],
   "source": [
    "y_train.describe()"
   ]
  },
  {
   "cell_type": "code",
   "execution_count": 9,
   "id": "e2fc9d65",
   "metadata": {
    "scrolled": true
   },
   "outputs": [
    {
     "name": "stdout",
     "output_type": "stream",
     "text": [
      "Help on class GeneticExtractor in module gendis.genetic:\n",
      "\n",
      "class GeneticExtractor(sklearn.base.BaseEstimator, sklearn.base.TransformerMixin)\n",
      " |  Feature selection with genetic algorithm.\n",
      " |  \n",
      " |  Parameters\n",
      " |  ----------\n",
      " |  population_size : int\n",
      " |      The number of individuals in our population. Increasing this parameter\n",
      " |      increases both the runtime per generation, as the probability of\n",
      " |      finding a good solution.\n",
      " |  \n",
      " |  iterations : int\n",
      " |      The maximum number of generations the algorithm may run.\n",
      " |  \n",
      " |  wait : int\n",
      " |      If no improvement has been found for `wait` iterations, then stop\n",
      " |  \n",
      " |  add_noise_prob : float\n",
      " |      The chance that gaussian noise is added to a random shapelet from a\n",
      " |      random individual every generation\n",
      " |  \n",
      " |  add_shapelet_prob : float\n",
      " |      The chance that a shapelet is added to a random shapelet set every gen\n",
      " |  \n",
      " |  remove_shapelet_prob : float\n",
      " |      The chance that a shapelet is deleted to a random shap set every gen\n",
      " |  \n",
      " |  crossover_prob : float\n",
      " |      The chance that of crossing over two shapelet sets every generation\n",
      " |  \n",
      " |  normed : boolean\n",
      " |      Whether we first have to normalize before calculating distances\n",
      " |  \n",
      " |  n_jobs : int\n",
      " |      The number of threads to use\n",
      " |  \n",
      " |  verbose : boolean\n",
      " |      Whether to print some statistics in every generation\n",
      " |  \n",
      " |  plot : object\n",
      " |      Whether to plot the individuals every generation (if the population \n",
      " |      size is <= 20), or to plot the fittest individual\n",
      " |  \n",
      " |  Attributes\n",
      " |  ----------\n",
      " |  shapelets : array-like\n",
      " |      The fittest shapelet set after evolution\n",
      " |  label_mapping: dict\n",
      " |      A dictionary that maps the labels to the range [0, ..., C-1]\n",
      " |  \n",
      " |  Example\n",
      " |  -------\n",
      " |  An example showing genetic shapelet extraction on a simple dataset:\n",
      " |  \n",
      " |  >>> from tslearn.generators import random_walk_blobs\n",
      " |  >>> from genetic import GeneticExtractor\n",
      " |  >>> from sklearn.linear_model import LogisticRegression\n",
      " |  >>> import numpy as np\n",
      " |  >>> np.random.seed(1337)\n",
      " |  >>> X, y = random_walk_blobs(n_ts_per_blob=20, sz=64, noise_level=0.1)\n",
      " |  >>> X = np.reshape(X, (X.shape[0], X.shape[1]))\n",
      " |  >>> extractor = GeneticExtractor(iterations=5, population_size=10)\n",
      " |  >>> distances = extractor.fit_transform(X, y)\n",
      " |  >>> lr = LogisticRegression()\n",
      " |  >>> _ = lr.fit(distances, y)\n",
      " |  >>> lr.score(distances, y)\n",
      " |  1.0\n",
      " |  \n",
      " |  Method resolution order:\n",
      " |      GeneticExtractor\n",
      " |      sklearn.base.BaseEstimator\n",
      " |      sklearn.base.TransformerMixin\n",
      " |      builtins.object\n",
      " |  \n",
      " |  Methods defined here:\n",
      " |  \n",
      " |  __init__(self, population_size=50, iterations=25, verbose=False, normed=False, mutation_prob=0.1, wait=10, plot=None, max_shaps=None, crossover_prob=0.4, n_jobs=1, max_len=None, _min_length=0, fitness=None, init_ops=[<function random_shapelet at 0x7fc1080757b8>, <function kmeans at 0x7fc1019818c8>], cx_ops=[<function merge_crossover at 0x7fc1019829d8>, <function point_crossover at 0x7fc101982ae8>, <function shap_point_crossover at 0x7fc101982b70>], mut_ops=[<function add_shapelet at 0x7fc1019827b8>, <function remove_shapelet at 0x7fc101982840>, <function mask_shapelet at 0x7fc1019828c8>])\n",
      " |      Initialize self.  See help(type(self)) for accurate signature.\n",
      " |  \n",
      " |  fit(self, X, y, convert_categorical_labels=False)\n",
      " |      Extract shapelets from the provided timeseries and labels.\n",
      " |      \n",
      " |      Parameters\n",
      " |      ----------\n",
      " |      X : array-like, shape = [n_ts, ]\n",
      " |          The training input timeseries. Each timeseries must be an array,\n",
      " |          but the lengths can be variable\n",
      " |      \n",
      " |      y : array-like, shape = [n_samples]\n",
      " |          The target values.\n",
      " |  \n",
      " |  fit_transform(self, X, y)\n",
      " |      Combine both the fit and transform method in one.\n",
      " |      \n",
      " |      Parameters\n",
      " |      ----------\n",
      " |      X : array-like, shape = [n_ts, ]\n",
      " |          The training input timeseries. Each timeseries must be an array,\n",
      " |          but the lengths can be variable\n",
      " |      \n",
      " |      y : array-like, shape = [n_samples]\n",
      " |          The target values.\n",
      " |      \n",
      " |      Returns\n",
      " |      -------\n",
      " |      D : array-like, shape = [n_ts, n_shaps]\n",
      " |          The matrix with distances\n",
      " |  \n",
      " |  save(self, path)\n",
      " |      Write away all hyper-parameters and discovered shapelets to disk\n",
      " |  \n",
      " |  transform(self, X, shapelets=None)\n",
      " |      After fitting the Extractor, we can transform collections of \n",
      " |      timeseries in matrices with distances to each of the shapelets in\n",
      " |      the evolved shapelet set.\n",
      " |      \n",
      " |      Parameters\n",
      " |      ----------\n",
      " |      X : array-like, shape = [n_ts, ]\n",
      " |          The training input timeseries. Each timeseries must be an array,\n",
      " |          but the lengths can be variable\n",
      " |      \n",
      " |      Returns\n",
      " |      -------\n",
      " |      D : array-like, shape = [n_ts, n_shaps]\n",
      " |          The matrix with distances\n",
      " |      L : array-like, shape = [n_ts, n_shaps]\n",
      " |          The matrix with localization of shapelets\n",
      " |  \n",
      " |  ----------------------------------------------------------------------\n",
      " |  Static methods defined here:\n",
      " |  \n",
      " |  load(path)\n",
      " |      Instantiate a saved GeneticExtractor\n",
      " |  \n",
      " |  ----------------------------------------------------------------------\n",
      " |  Methods inherited from sklearn.base.BaseEstimator:\n",
      " |  \n",
      " |  __getstate__(self)\n",
      " |  \n",
      " |  __repr__(self, N_CHAR_MAX=700)\n",
      " |      Return repr(self).\n",
      " |  \n",
      " |  __setstate__(self, state)\n",
      " |  \n",
      " |  get_params(self, deep=True)\n",
      " |      Get parameters for this estimator.\n",
      " |      \n",
      " |      Parameters\n",
      " |      ----------\n",
      " |      deep : bool, default=True\n",
      " |          If True, will return the parameters for this estimator and\n",
      " |          contained subobjects that are estimators.\n",
      " |      \n",
      " |      Returns\n",
      " |      -------\n",
      " |      params : mapping of string to any\n",
      " |          Parameter names mapped to their values.\n",
      " |  \n",
      " |  set_params(self, **params)\n",
      " |      Set the parameters of this estimator.\n",
      " |      \n",
      " |      The method works on simple estimators as well as on nested objects\n",
      " |      (such as pipelines). The latter have parameters of the form\n",
      " |      ``<component>__<parameter>`` so that it's possible to update each\n",
      " |      component of a nested object.\n",
      " |      \n",
      " |      Parameters\n",
      " |      ----------\n",
      " |      **params : dict\n",
      " |          Estimator parameters.\n",
      " |      \n",
      " |      Returns\n",
      " |      -------\n",
      " |      self : object\n",
      " |          Estimator instance.\n",
      " |  \n",
      " |  ----------------------------------------------------------------------\n",
      " |  Data descriptors inherited from sklearn.base.BaseEstimator:\n",
      " |  \n",
      " |  __dict__\n",
      " |      dictionary for instance variables (if defined)\n",
      " |  \n",
      " |  __weakref__\n",
      " |      list of weak references to the object (if defined)\n",
      "\n"
     ]
    }
   ],
   "source": [
    "help(GeneticExtractor)"
   ]
  },
  {
   "cell_type": "code",
   "execution_count": 10,
   "id": "f73e4305",
   "metadata": {},
   "outputs": [],
   "source": [
    "fitness_func = SubgroupDistance(\n",
    "    distance_function=SubgroupDistance.wasserstein_distance, \n",
    "    shapelet_dist_threshold=1.0\n",
    ")\n",
    "\n",
    "args = {\n",
    "    \"fitness\": fitness_func,\n",
    "    \"population_size\": 50, \n",
    "    \"iterations\": 50,  \n",
    "    \"mutation_prob\": 0.3, \n",
    "    \"crossover_prob\": 0.3,\n",
    "    \"max_shaps\": 5,\n",
    "    \"wait\": 20, \n",
    "    \"max_len\": 30,\n",
    "    \"n_jobs\": multiprocessing.cpu_count() - 2,\n",
    "    \"verbose\": True,\n",
    "} \n",
    "\n",
    "gendis = GeneticExtractor(**args)"
   ]
  },
  {
   "cell_type": "code",
   "execution_count": 11,
   "id": "31af6497",
   "metadata": {},
   "outputs": [
    {
     "data": {
      "text/plain": [
       "{'population_size': 50,\n",
       " 'iterations': 50,\n",
       " 'verbose': True,\n",
       " 'mutation_prob': 0.3,\n",
       " 'crossover_prob': 0.3,\n",
       " 'plot': None,\n",
       " 'wait': 20,\n",
       " 'n_jobs': 6,\n",
       " 'normed': False,\n",
       " '_min_length': 0,\n",
       " 'max_len': 30,\n",
       " 'max_shaps': 5,\n",
       " 'init_ops': [<function gendis.operators.random_shapelet(X, n_shapelets, min_len, max_len)>,\n",
       "  <function gendis.operators.kmeans(X, n_shapelets, min_len, max_len, n_draw=None)>],\n",
       " 'cx_ops': [<function gendis.operators.merge_crossover(ind1, ind2, p=0.25)>,\n",
       "  <function gendis.operators.point_crossover(ind1, ind2)>,\n",
       "  <function gendis.operators.shap_point_crossover(ind1, ind2, p=0.25)>],\n",
       " 'mut_ops': [<function gendis.operators.add_shapelet(shapelets, toolbox)>,\n",
       "  <function gendis.operators.remove_shapelet(shapelets, toolbox)>,\n",
       "  <function gendis.operators.mask_shapelet(shapelets, toolbox)>],\n",
       " 'is_fitted': False,\n",
       " 'fitness': <gendis.fitness.SubgroupDistance at 0x7fc1019651d0>,\n",
       " 'label_mapping': {},\n",
       " 'shapelets': []}"
      ]
     },
     "execution_count": 11,
     "metadata": {},
     "output_type": "execute_result"
    }
   ],
   "source": [
    "gendis.__dict__"
   ]
  },
  {
   "cell_type": "code",
   "execution_count": 12,
   "id": "f4467843",
   "metadata": {
    "scrolled": false
   },
   "outputs": [
    {
     "name": "stdout",
     "output_type": "stream",
     "text": [
      "it\t\tavg\t\tstd\t\tmax\t\ttime\n",
      "1\t\t0.0872\t\t0.062\t\t0.171788\t1.0668\n",
      "2\t\t0.1306\t\t0.047\t\t0.171788\t1.8974\n",
      "3\t\t0.141\t\t0.047\t\t0.171788\t2.4742\n",
      "4\t\t0.1548\t\t0.037\t\t0.172907\t3.0495\n",
      "5\t\t0.1661\t\t0.011\t\t0.172907\t3.2621\n",
      "6\t\t0.1671\t\t0.019\t\t0.172907\t3.1266\n",
      "7\t\t0.1672\t\t0.019\t\t0.172907\t3.3525\n",
      "8\t\t0.1619\t\t0.034\t\t0.172907\t3.8116\n",
      "9\t\t0.1598\t\t0.035\t\t0.172907\t4.3736\n",
      "10\t\t0.1632\t\t0.03\t\t0.172907\t5.8238\n",
      "11\t\t0.1576\t\t0.039\t\t0.172907\t5.6931\n",
      "12\t\t0.1648\t\t0.027\t\t0.172907\t5.0675\n",
      "13\t\t0.1687\t\t0.022\t\t0.172907\t6.4843\n",
      "14\t\t0.1648\t\t0.026\t\t0.172907\t4.6742\n",
      "15\t\t0.155\t\t0.038\t\t0.172907\t4.5069\n",
      "16\t\t0.1412\t\t0.048\t\t0.172907\t4.4124\n",
      "17\t\t0.1574\t\t0.031\t\t0.172907\t4.562\n",
      "18\t\t0.1606\t\t0.028\t\t0.172907\t5.7777\n",
      "19\t\t0.1504\t\t0.04\t\t0.172907\t5.3524\n",
      "20\t\t0.1569\t\t0.032\t\t0.172907\t4.8948\n",
      "21\t\t0.1631\t\t0.022\t\t0.172907\t4.4935\n",
      "22\t\t0.149\t\t0.037\t\t0.172907\t4.3175\n",
      "23\t\t0.1555\t\t0.036\t\t0.172907\t5.5529\n",
      "CPU times: user 21 s, sys: 195 ms, total: 21.2 s\n",
      "Wall time: 1min 48s\n"
     ]
    }
   ],
   "source": [
    "%%time\n",
    "gendis.fit(X_train, y_train.values)"
   ]
  },
  {
   "cell_type": "code",
   "execution_count": 13,
   "id": "48d1d60c",
   "metadata": {},
   "outputs": [
    {
     "data": {
      "text/plain": [
       "{'it': 4,\n",
       " 'score': 0.17290683334443038,\n",
       " 'info': {'dist': 0.19251467648168527,\n",
       "  'subgroup_error_mean': 0.10210046254530009,\n",
       "  'rest_error_mean': 0.2869487290204534,\n",
       "  'subgroup_size': 15},\n",
       " 'shapelets': [array([-0.58971045, -0.55122157, -0.51120065, -0.44503167, -0.34310032,\n",
       "         -0.20343029, -0.05229112,  0.10347705,  0.26672193,  0.41806662,\n",
       "          0.55298043,  0.67376046]),\n",
       "  array([1.18304477, 1.17716522, 1.1717195 , 1.15267895, 1.12887993,\n",
       "         1.10479743, 1.08105514, 1.04709864, 1.01293744, 0.97306163,\n",
       "         0.91854064, 0.87780525, 0.82954651, 0.77861606]),\n",
       "  array([-0.64829471, -0.6533382 , -0.65563746, -0.65583705, -0.65138246,\n",
       "         -0.64784339, -0.64125616]),\n",
       "  array([-0.61876657, -0.62884563, -0.63758018, -0.64178127, -0.63617017,\n",
       "         -0.62400912, -0.59869621, -0.58402688, -0.56760071, -0.55841123,\n",
       "         -0.53031039, -0.4886851 , -0.43014372, -0.35365126, -0.1720348 ]),\n",
       "  array([1.24092497, 1.23780168, 1.2423039 , 1.23686655, 1.23257103,\n",
       "         1.23643615, 1.2387076 , 1.23522115, 1.2344144 , 1.2351718 ,\n",
       "         1.22816507, 1.2291868 , 1.22896308, 1.2269007 ])]}"
      ]
     },
     "execution_count": 13,
     "metadata": {},
     "output_type": "execute_result"
    }
   ],
   "source": [
    "gendis.best"
   ]
  },
  {
   "cell_type": "code",
   "execution_count": 14,
   "id": "bd405630",
   "metadata": {},
   "outputs": [
    {
     "data": {
      "text/plain": [
       "[{'score': 0.17290683334443038,\n",
       "  'info': {'dist': 0.19251467648168527,\n",
       "   'subgroup_error_mean': 0.10210046254530009,\n",
       "   'rest_error_mean': 0.2869487290204534,\n",
       "   'subgroup_size': 15},\n",
       "  'shapelets': [array([-0.61353932, -0.60710891, -0.59826437, -0.5779627 , -0.5397969 ,\n",
       "          -0.48670969, -0.42326735, -0.3644603 , -0.30253474, -0.24837615,\n",
       "          -0.1882963 , -0.12481129]),\n",
       "   array([1.24073391, 1.23685122, 1.24281856, 1.23696745, 1.22909707,\n",
       "          1.23210056, 1.23598553, 1.23049149, 1.22897972, 1.2292653 ,\n",
       "          1.21826267, 1.2182563 , 1.21669961, 1.21373838])]},\n",
       " {'score': 0.17290683334443038,\n",
       "  'info': {'dist': 0.19251467648168527,\n",
       "   'subgroup_error_mean': 0.10210046254530009,\n",
       "   'rest_error_mean': 0.2869487290204534,\n",
       "   'subgroup_size': 15},\n",
       "  'shapelets': [array([-0.61353932, -0.60710891, -0.59826437, -0.5779627 , -0.5397969 ,\n",
       "          -0.48670969, -0.42326735, -0.3644603 , -0.30253474, -0.24837615,\n",
       "          -0.1882963 , -0.12481129]),\n",
       "   array([1.24073391, 1.23685122, 1.24281856, 1.23696745, 1.22909707,\n",
       "          1.23210056, 1.23598553, 1.23049149, 1.22897972, 1.2292653 ,\n",
       "          1.21826267, 1.2182563 , 1.21669961, 1.21373838])]},\n",
       " {'score': 0.17290683334443038,\n",
       "  'info': {'dist': 0.19251467648168527,\n",
       "   'subgroup_error_mean': 0.10210046254530009,\n",
       "   'rest_error_mean': 0.2869487290204534,\n",
       "   'subgroup_size': 15},\n",
       "  'shapelets': [array([-0.61380566, -0.60734501, -0.59836701, -0.5779666 , -0.53977098,\n",
       "          -0.48686621, -0.42385813, -0.36536347, -0.30380456, -0.24989074,\n",
       "          -0.19022311, -0.12727341]),\n",
       "   array([1.23367379, 1.23024285, 1.23526608, 1.23197658, 1.22439243,\n",
       "          1.22618759, 1.22997039, 1.225986  , 1.2232699 , 1.22181324,\n",
       "          1.20984601, 1.20912382, 1.19704991, 1.18715248])]},\n",
       " {'score': 0.17290683334443038,\n",
       "  'info': {'dist': 0.19251467648168527,\n",
       "   'subgroup_error_mean': 0.10210046254530009,\n",
       "   'rest_error_mean': 0.2869487290204534,\n",
       "   'subgroup_size': 15},\n",
       "  'shapelets': [array([1.23210493, 1.22872461, 1.23406481, 1.23095216, 1.22317486,\n",
       "          1.22508018, 1.22926064, 1.22527298, 1.22275767, 1.22157517,\n",
       "          1.2094732 , 1.20895366, 1.19702421, 1.18728625]),\n",
       "   array([-0.61344821, -0.60604345, -0.59598972, -0.57415683, -0.53413463,\n",
       "          -0.47908699, -0.41429731, -0.35356295, -0.28972349, -0.23345223,\n",
       "          -0.17232913, -0.10861757])]},\n",
       " {'score': 0.17290683334443038,\n",
       "  'info': {'dist': 0.19251467648168527,\n",
       "   'subgroup_error_mean': 0.10210046254530009,\n",
       "   'rest_error_mean': 0.2869487290204534,\n",
       "   'subgroup_size': 15},\n",
       "  'shapelets': [array([-0.44152347, -0.44766742, -0.44862898, -0.43277605, -0.43125785,\n",
       "          -0.40971431, -0.39783643, -0.38478675, -0.36129837]),\n",
       "   array([1.22070209, 1.21868937, 1.22316388, 1.2215324 , 1.21403126,\n",
       "          1.21476519, 1.21942711, 1.2165859 , 1.21323528, 1.211238  ,\n",
       "          1.19890297, 1.19800658, 1.18004235, 1.16634113]),\n",
       "   array([-0.29446589, -0.31345232, -0.32083324, -0.30086612, -0.32318603,\n",
       "          -0.32149156, -0.34837857, -0.3741049 , -0.38466853])]},\n",
       " {'score': 0.17290683334443038,\n",
       "  'info': {'dist': 0.19251467648168527,\n",
       "   'subgroup_error_mean': 0.10210046254530009,\n",
       "   'rest_error_mean': 0.2869487290204534,\n",
       "   'subgroup_size': 15},\n",
       "  'shapelets': [array([-0.61385349, -0.60793379, -0.59960006, -0.58003728, -0.54288467,\n",
       "          -0.49114276, -0.42903215, -0.37171592, -0.3113424 , -0.25868485,\n",
       "          -0.19973623, -0.13709293]),\n",
       "   array([1.24089485, 1.23701843, 1.24301622, 1.23720225, 1.22937957,\n",
       "          1.23245934, 1.2364198 , 1.23100695, 1.22958682, 1.22998475,\n",
       "          1.21910711, 1.21921519, 1.21778989, 1.21496317]),\n",
       "   array([ 0.1717219 ,  0.09394338,  0.02179198, -0.04378765, -0.10572973,\n",
       "          -0.15445396, -0.18575104, -0.21846888, -0.24343221])]},\n",
       " {'score': 0.17290683334443038,\n",
       "  'info': {'dist': 0.19251467648168527,\n",
       "   'subgroup_error_mean': 0.10210046254530009,\n",
       "   'rest_error_mean': 0.2869487290204534,\n",
       "   'subgroup_size': 15},\n",
       "  'shapelets': [array([-0.29498446, -0.31450715, -0.32242032, -0.30310755, -0.32626189,\n",
       "          -0.32556266, -0.35315301, -0.37989245, -0.39145785]),\n",
       "   array([-0.58909963, -0.58293736, -0.5780118 , -0.56692741, -0.54240551,\n",
       "          -0.50200815, -0.45206873, -0.40125616, -0.34471753]),\n",
       "   array([1.22774535, 1.22462529, 1.22929184, 1.2276601 , 1.22001346,\n",
       "          1.22104193, 1.22497806, 1.2217845 , 1.21835676, 1.21588856,\n",
       "          1.20301913, 1.20184874, 1.18325966, 1.16904244])]},\n",
       " {'score': 0.17290683334443038,\n",
       "  'info': {'dist': 0.19251467648168527,\n",
       "   'subgroup_error_mean': 0.10210046254530009,\n",
       "   'rest_error_mean': 0.2869487290204534,\n",
       "   'subgroup_size': 15},\n",
       "  'shapelets': [array([-0.29498446, -0.31450715, -0.32242032, -0.30310755, -0.32626189,\n",
       "          -0.32556266, -0.35315301, -0.37989245, -0.39145785]),\n",
       "   array([-0.58909963, -0.58293736, -0.5780118 , -0.56692741, -0.54240551,\n",
       "          -0.50200815, -0.45206873, -0.40125616, -0.34471753]),\n",
       "   array([1.22774535, 1.22462529, 1.22929184, 1.2276601 , 1.22001346,\n",
       "          1.22104193, 1.22497806, 1.2217845 , 1.21835676, 1.21588856,\n",
       "          1.20301913, 1.20184874, 1.18325966, 1.16904244])]},\n",
       " {'score': 0.17290683334443038,\n",
       "  'info': {'dist': 0.19251467648168527,\n",
       "   'subgroup_error_mean': 0.10210046254530009,\n",
       "   'rest_error_mean': 0.2869487290204534,\n",
       "   'subgroup_size': 15},\n",
       "  'shapelets': [array([-0.44152347, -0.44766742, -0.44862898, -0.43277605, -0.43125785,\n",
       "          -0.40971431, -0.39783643, -0.38478675, -0.36129837]),\n",
       "   array([1.22070209, 1.21868937, 1.22316388, 1.2215324 , 1.21403126,\n",
       "          1.21476519, 1.21942711, 1.2165859 , 1.21323528, 1.211238  ,\n",
       "          1.19890297, 1.19800658, 1.18004235, 1.16634113]),\n",
       "   array([-0.29446589, -0.31345232, -0.32083324, -0.30086612, -0.32318603,\n",
       "          -0.32149156, -0.34837857, -0.3741049 , -0.38466853])]},\n",
       " {'score': 0.17290683334443038,\n",
       "  'info': {'dist': 0.19251467648168527,\n",
       "   'subgroup_error_mean': 0.10210046254530009,\n",
       "   'rest_error_mean': 0.2869487290204534,\n",
       "   'subgroup_size': 15},\n",
       "  'shapelets': [array([-0.04268304, -0.09610907, -0.11815136, -0.20639177, -0.29831581]),\n",
       "   array([-0.51309006, -0.51191946, -0.5240372 , -0.54736152, -0.571706  ,\n",
       "          -0.57780222, -0.57447567, -0.55603203, -0.52406933, -0.5012518 ,\n",
       "          -0.45905372]),\n",
       "   array([1.22474707, 1.2218069 , 1.22614667, 1.22552692, 1.21794759,\n",
       "          1.21850346, 1.22244209, 1.21981388, 1.21592472, 1.21279212,\n",
       "          1.19949433, 1.19804722, 1.17535749, 1.15843448])]}]"
      ]
     },
     "execution_count": 14,
     "metadata": {},
     "output_type": "execute_result"
    }
   ],
   "source": [
    "gendis.top_10_best"
   ]
  },
  {
   "cell_type": "code",
   "execution_count": 15,
   "id": "3b84e063",
   "metadata": {},
   "outputs": [
    {
     "name": "stdout",
     "output_type": "stream",
     "text": [
      "Help on method transform in module gendis.genetic:\n",
      "\n",
      "transform(X, shapelets=None) method of gendis.genetic.GeneticExtractor instance\n",
      "    After fitting the Extractor, we can transform collections of \n",
      "    timeseries in matrices with distances to each of the shapelets in\n",
      "    the evolved shapelet set.\n",
      "    \n",
      "    Parameters\n",
      "    ----------\n",
      "    X : array-like, shape = [n_ts, ]\n",
      "        The training input timeseries. Each timeseries must be an array,\n",
      "        but the lengths can be variable\n",
      "    \n",
      "    Returns\n",
      "    -------\n",
      "    D : array-like, shape = [n_ts, n_shaps]\n",
      "        The matrix with distances\n",
      "    L : array-like, shape = [n_ts, n_shaps]\n",
      "        The matrix with localization of shapelets\n",
      "\n"
     ]
    }
   ],
   "source": [
    "help(gendis.transform)"
   ]
  },
  {
   "cell_type": "code",
   "execution_count": 16,
   "id": "a9f2a8ab",
   "metadata": {},
   "outputs": [],
   "source": [
    "D, L = gendis.transform(X=X_train)"
   ]
  },
  {
   "cell_type": "code",
   "execution_count": 17,
   "id": "80114de4",
   "metadata": {},
   "outputs": [
    {
     "data": {
      "text/plain": [
       "[<matplotlib.lines.Line2D at 0x7fc0fca46cf8>]"
      ]
     },
     "execution_count": 17,
     "metadata": {},
     "output_type": "execute_result"
    },
    {
     "data": {
      "image/png": "[encoded data removed]",
      "text/plain": [
       "<matplotlib.figure.Figure at 0x7fc10199e1d0>"
      ]
     },
     "metadata": {
      "needs_background": "light"
     },
     "output_type": "display_data"
    }
   ],
   "source": [
    "plt.plot(X_train.iloc[0].values)"
   ]
  },
  {
   "cell_type": "code",
   "execution_count": 18,
   "id": "4e50451f",
   "metadata": {},
   "outputs": [],
   "source": [
    "sg_filter = SubgroupDistance.filter_subgroup_shapelets(\n",
    "    y_train, D, shapelet_dist_threshold=1.0, return_filter=True\n",
    ")"
   ]
  },
  {
   "cell_type": "code",
   "execution_count": 32,
   "id": "ea0be4ed",
   "metadata": {},
   "outputs": [],
   "source": [
    "X_sg, y_sg = X_train[sg_filter], y_train[sg_filter]\n",
    "D_sg, L_sg = D[sg_filter], L[sg_filter]"
   ]
  },
  {
   "cell_type": "code",
   "execution_count": 20,
   "id": "eab7d281",
   "metadata": {},
   "outputs": [
    {
     "data": {
      "text/plain": [
       "[<matplotlib.lines.Line2D at 0x7fc0fc9e5550>]"
      ]
     },
     "execution_count": 20,
     "metadata": {},
     "output_type": "execute_result"
    },
    {
     "data": {
      "image/png": "[encoded data removed]",
      "text/plain": [
       "<matplotlib.figure.Figure at 0x7fc1018caa90>"
      ]
     },
     "metadata": {
      "needs_background": "light"
     },
     "output_type": "display_data"
    }
   ],
   "source": [
    "plt.plot(X_sg.iloc[0].values)"
   ]
  },
  {
   "cell_type": "code",
   "execution_count": 45,
   "id": "6aa79972",
   "metadata": {},
   "outputs": [
    {
     "data": {
      "image/png": "[encoded data removed]",
      "text/plain": [
       "<matplotlib.figure.Figure at 0x7fc0f3300278>"
      ]
     },
     "metadata": {
      "needs_background": "light"
     },
     "output_type": "display_data"
    },
    {
     "data": {
      "image/png": "[encoded data removed]",
      "text/plain": [
       "<matplotlib.figure.Figure at 0x7fc0f334b7b8>"
      ]
     },
     "metadata": {
      "needs_background": "light"
     },
     "output_type": "display_data"
    },
    {
     "data": {
      "image/png": "[encoded data removed]",
      "text/plain": [
       "<matplotlib.figure.Figure at 0x7fc0f36e9a90>"
      ]
     },
     "metadata": {
      "needs_background": "light"
     },
     "output_type": "display_data"
    },
    {
     "data": {
      "image/png": "[encoded data removed]",
      "text/plain": [
       "<matplotlib.figure.Figure at 0x7fc0f2696d68>"
      ]
     },
     "metadata": {
      "needs_background": "light"
     },
     "output_type": "display_data"
    }
   ],
   "source": [
    "from math import ceil, floor\n",
    "\n",
    "for series_idx in [1,2,3,4]:\n",
    "    series = X_sg.iloc[series_idx].values\n",
    "    plt.plot(series)\n",
    "\n",
    "    for shap_idx, shap in enumerate(gendis.best[\"shapelets\"]): \n",
    "\n",
    "        loc = L_sg[series_idx][shap_idx]\n",
    "        #shap = gendis.best[\"shapelets\"][shap_idx]\n",
    "\n",
    "        start = floor(loc * len(series))\n",
    "        end = ceil(start + len(shap))\n",
    "        shap_idx = list(range(start, end))\n",
    "\n",
    "        plt.plot(shap_idx, shap)\n",
    "    \n",
    "    plt.show()"
   ]
  },
  {
   "cell_type": "code",
   "execution_count": 41,
   "id": "a0e50734",
   "metadata": {},
   "outputs": [],
   "source": [
    "ts = datetime.datetime.now().strftime('%Y%m%d%H%M%S')\n",
    "folder = f'./results/gunpoint/{ts}/'\n",
    "os.makedirs(folder)\n",
    "gendis.save(f'{folder}/gendis.pickle')"
   ]
  }
 ],
 "metadata": {
  "kernelspec": {
   "display_name": "Python 3 (ipykernel)",
   "language": "python",
   "name": "python3"
  },
  "language_info": {
   "codemirror_mode": {
    "name": "ipython",
    "version": 3
   },
   "file_extension": ".py",
   "mimetype": "text/x-python",
   "name": "python",
   "nbconvert_exporter": "python",
   "pygments_lexer": "ipython3",
   "version": "3.6.13"
  }
 },
 "nbformat": 4,
 "nbformat_minor": 5
}
