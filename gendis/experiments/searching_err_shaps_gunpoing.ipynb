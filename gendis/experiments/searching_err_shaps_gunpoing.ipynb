{
 "cells": [
  {
   "cell_type": "code",
   "execution_count": 1,
   "id": "f71c0773",
   "metadata": {},
   "outputs": [],
   "source": [
    "import datetime\n",
    "import matplotlib.pyplot as plt\n",
    "import multiprocessing\n",
    "import os\n",
    "import pandas as pd"
   ]
  },
  {
   "cell_type": "code",
   "execution_count": 2,
   "id": "d9de2f05",
   "metadata": {},
   "outputs": [
    {
     "name": "stderr",
     "output_type": "stream",
     "text": [
      "/home/samir/miniconda3/envs/gendis/lib/python3.6/site-packages/sklearn/utils/deprecation.py:144: FutureWarning: The sklearn.cluster.k_means_ module is  deprecated in version 0.22 and will be removed in version 0.24. The corresponding classes / functions should instead be imported from sklearn.cluster. Anything that cannot be imported from sklearn.cluster is now part of the private API.\n",
      "  warnings.warn(message, FutureWarning)\n"
     ]
    }
   ],
   "source": [
    "from gendis.genetic import GeneticExtractor"
   ]
  },
  {
   "cell_type": "code",
   "execution_count": 3,
   "id": "dacba51f",
   "metadata": {},
   "outputs": [],
   "source": [
    "error_df = pd.read_csv('data/gunpoint_processed_error.csv')"
   ]
  },
  {
   "cell_type": "code",
   "execution_count": 4,
   "id": "48745539",
   "metadata": {},
   "outputs": [
    {
     "data": {
      "text/html": [
       "<div>\n",
       "<style scoped>\n",
       "    .dataframe tbody tr th:only-of-type {\n",
       "        vertical-align: middle;\n",
       "    }\n",
       "\n",
       "    .dataframe tbody tr th {\n",
       "        vertical-align: top;\n",
       "    }\n",
       "\n",
       "    .dataframe thead th {\n",
       "        text-align: right;\n",
       "    }\n",
       "</style>\n",
       "<table border=\"1\" class=\"dataframe\">\n",
       "  <thead>\n",
       "    <tr style=\"text-align: right;\">\n",
       "      <th></th>\n",
       "      <th>0</th>\n",
       "      <th>1</th>\n",
       "      <th>2</th>\n",
       "      <th>3</th>\n",
       "      <th>4</th>\n",
       "      <th>5</th>\n",
       "      <th>6</th>\n",
       "      <th>7</th>\n",
       "      <th>8</th>\n",
       "      <th>9</th>\n",
       "      <th>...</th>\n",
       "      <th>144</th>\n",
       "      <th>145</th>\n",
       "      <th>146</th>\n",
       "      <th>147</th>\n",
       "      <th>148</th>\n",
       "      <th>149</th>\n",
       "      <th>truth</th>\n",
       "      <th>clf_pred</th>\n",
       "      <th>clf_prob</th>\n",
       "      <th>error</th>\n",
       "    </tr>\n",
       "  </thead>\n",
       "  <tbody>\n",
       "    <tr>\n",
       "      <th>0</th>\n",
       "      <td>-1.054014</td>\n",
       "      <td>-1.050717</td>\n",
       "      <td>-1.047666</td>\n",
       "      <td>-1.047448</td>\n",
       "      <td>-1.048769</td>\n",
       "      <td>-1.047781</td>\n",
       "      <td>-1.047891</td>\n",
       "      <td>-1.047536</td>\n",
       "      <td>-1.047369</td>\n",
       "      <td>-1.044656</td>\n",
       "      <td>...</td>\n",
       "      <td>-1.071325</td>\n",
       "      <td>-1.068112</td>\n",
       "      <td>-1.068966</td>\n",
       "      <td>-1.069154</td>\n",
       "      <td>-1.066642</td>\n",
       "      <td>-1.064798</td>\n",
       "      <td>1</td>\n",
       "      <td>1</td>\n",
       "      <td>0.920254</td>\n",
       "      <td>0.079746</td>\n",
       "    </tr>\n",
       "    <tr>\n",
       "      <th>1</th>\n",
       "      <td>-0.966288</td>\n",
       "      <td>-0.971525</td>\n",
       "      <td>-0.971881</td>\n",
       "      <td>-0.972672</td>\n",
       "      <td>-0.966935</td>\n",
       "      <td>-0.966532</td>\n",
       "      <td>-0.967584</td>\n",
       "      <td>-0.966147</td>\n",
       "      <td>-0.966501</td>\n",
       "      <td>-0.966086</td>\n",
       "      <td>...</td>\n",
       "      <td>-1.009584</td>\n",
       "      <td>-1.011476</td>\n",
       "      <td>-1.010935</td>\n",
       "      <td>-1.008073</td>\n",
       "      <td>-1.009745</td>\n",
       "      <td>-1.006283</td>\n",
       "      <td>1</td>\n",
       "      <td>1</td>\n",
       "      <td>0.927635</td>\n",
       "      <td>0.072365</td>\n",
       "    </tr>\n",
       "    <tr>\n",
       "      <th>2</th>\n",
       "      <td>-0.693911</td>\n",
       "      <td>-0.690750</td>\n",
       "      <td>-0.683657</td>\n",
       "      <td>-0.676097</td>\n",
       "      <td>-0.675943</td>\n",
       "      <td>-0.674141</td>\n",
       "      <td>-0.671976</td>\n",
       "      <td>-0.670974</td>\n",
       "      <td>-0.670276</td>\n",
       "      <td>-0.670103</td>\n",
       "      <td>...</td>\n",
       "      <td>-0.591039</td>\n",
       "      <td>-0.590049</td>\n",
       "      <td>-0.588937</td>\n",
       "      <td>-0.586893</td>\n",
       "      <td>-0.586506</td>\n",
       "      <td>-0.589174</td>\n",
       "      <td>2</td>\n",
       "      <td>2</td>\n",
       "      <td>0.095378</td>\n",
       "      <td>0.095378</td>\n",
       "    </tr>\n",
       "  </tbody>\n",
       "</table>\n",
       "<p>3 rows × 154 columns</p>\n",
       "</div>"
      ],
      "text/plain": [
       "          0         1         2         3         4         5         6  \\\n",
       "0 -1.054014 -1.050717 -1.047666 -1.047448 -1.048769 -1.047781 -1.047891   \n",
       "1 -0.966288 -0.971525 -0.971881 -0.972672 -0.966935 -0.966532 -0.967584   \n",
       "2 -0.693911 -0.690750 -0.683657 -0.676097 -0.675943 -0.674141 -0.671976   \n",
       "\n",
       "          7         8         9  ...       144       145       146       147  \\\n",
       "0 -1.047536 -1.047369 -1.044656  ... -1.071325 -1.068112 -1.068966 -1.069154   \n",
       "1 -0.966147 -0.966501 -0.966086  ... -1.009584 -1.011476 -1.010935 -1.008073   \n",
       "2 -0.670974 -0.670276 -0.670103  ... -0.591039 -0.590049 -0.588937 -0.586893   \n",
       "\n",
       "        148       149  truth  clf_pred  clf_prob     error  \n",
       "0 -1.066642 -1.064798      1         1  0.920254  0.079746  \n",
       "1 -1.009745 -1.006283      1         1  0.927635  0.072365  \n",
       "2 -0.586506 -0.589174      2         2  0.095378  0.095378  \n",
       "\n",
       "[3 rows x 154 columns]"
      ]
     },
     "execution_count": 4,
     "metadata": {},
     "output_type": "execute_result"
    }
   ],
   "source": [
    "error_df.head(3)"
   ]
  },
  {
   "cell_type": "code",
   "execution_count": 5,
   "id": "c724d4bc",
   "metadata": {},
   "outputs": [],
   "source": [
    "X_train = error_df.drop(columns=['truth', 'clf_pred', 'clf_prob', 'error'])\n",
    "y_train = error_df['error']"
   ]
  },
  {
   "cell_type": "code",
   "execution_count": 6,
   "id": "660dfdc5",
   "metadata": {},
   "outputs": [
    {
     "data": {
      "text/plain": [
       "count    66.000000\n",
       "mean      0.244938\n",
       "std       0.194964\n",
       "min       0.000008\n",
       "25%       0.104760\n",
       "50%       0.195218\n",
       "75%       0.367542\n",
       "max       0.734978\n",
       "Name: error, dtype: float64"
      ]
     },
     "execution_count": 6,
     "metadata": {},
     "output_type": "execute_result"
    }
   ],
   "source": [
    "y_train.describe()"
   ]
  },
  {
   "cell_type": "code",
   "execution_count": 7,
   "id": "e2fc9d65",
   "metadata": {
    "scrolled": true
   },
   "outputs": [
    {
     "name": "stdout",
     "output_type": "stream",
     "text": [
      "Help on class GeneticExtractor in module gendis.genetic:\n",
      "\n",
      "class GeneticExtractor(sklearn.base.BaseEstimator, sklearn.base.TransformerMixin)\n",
      " |  Feature selection with genetic algorithm.\n",
      " |  \n",
      " |  Parameters\n",
      " |  ----------\n",
      " |  population_size : int\n",
      " |      The number of individuals in our population. Increasing this parameter\n",
      " |      increases both the runtime per generation, as the probability of\n",
      " |      finding a good solution.\n",
      " |  \n",
      " |  iterations : int\n",
      " |      The maximum number of generations the algorithm may run.\n",
      " |  \n",
      " |  wait : int\n",
      " |      If no improvement has been found for `wait` iterations, then stop\n",
      " |  \n",
      " |  add_noise_prob : float\n",
      " |      The chance that gaussian noise is added to a random shapelet from a\n",
      " |      random individual every generation\n",
      " |  \n",
      " |  add_shapelet_prob : float\n",
      " |      The chance that a shapelet is added to a random shapelet set every gen\n",
      " |  \n",
      " |  remove_shapelet_prob : float\n",
      " |      The chance that a shapelet is deleted to a random shap set every gen\n",
      " |  \n",
      " |  crossover_prob : float\n",
      " |      The chance that of crossing over two shapelet sets every generation\n",
      " |  \n",
      " |  normed : boolean\n",
      " |      Whether we first have to normalize before calculating distances\n",
      " |  \n",
      " |  n_jobs : int\n",
      " |      The number of threads to use\n",
      " |  \n",
      " |  verbose : boolean\n",
      " |      Whether to print some statistics in every generation\n",
      " |  \n",
      " |  plot : object\n",
      " |      Whether to plot the individuals every generation (if the population \n",
      " |      size is <= 20), or to plot the fittest individual\n",
      " |  \n",
      " |  Attributes\n",
      " |  ----------\n",
      " |  shapelets : array-like\n",
      " |      The fittest shapelet set after evolution\n",
      " |  label_mapping: dict\n",
      " |      A dictionary that maps the labels to the range [0, ..., C-1]\n",
      " |  \n",
      " |  Example\n",
      " |  -------\n",
      " |  An example showing genetic shapelet extraction on a simple dataset:\n",
      " |  \n",
      " |  >>> from tslearn.generators import random_walk_blobs\n",
      " |  >>> from genetic import GeneticExtractor\n",
      " |  >>> from sklearn.linear_model import LogisticRegression\n",
      " |  >>> import numpy as np\n",
      " |  >>> np.random.seed(1337)\n",
      " |  >>> X, y = random_walk_blobs(n_ts_per_blob=20, sz=64, noise_level=0.1)\n",
      " |  >>> X = np.reshape(X, (X.shape[0], X.shape[1]))\n",
      " |  >>> extractor = GeneticExtractor(iterations=5, population_size=10)\n",
      " |  >>> distances = extractor.fit_transform(X, y)\n",
      " |  >>> lr = LogisticRegression()\n",
      " |  >>> _ = lr.fit(distances, y)\n",
      " |  >>> lr.score(distances, y)\n",
      " |  1.0\n",
      " |  \n",
      " |  Method resolution order:\n",
      " |      GeneticExtractor\n",
      " |      sklearn.base.BaseEstimator\n",
      " |      sklearn.base.TransformerMixin\n",
      " |      builtins.object\n",
      " |  \n",
      " |  Methods defined here:\n",
      " |  \n",
      " |  __init__(self, population_size=50, iterations=25, verbose=False, normed=False, mutation_prob=0.1, wait=10, plot=None, max_shaps=None, crossover_prob=0.4, n_jobs=1, max_len=None, _min_length=0, fitness=None, init_ops=[<function random_shapelet at 0x7f6c6a46e840>, <function kmeans at 0x7f6c6a0f8b70>], cx_ops=[<function merge_crossover at 0x7f6c6a0fac80>, <function point_crossover at 0x7f6c6a0fad90>, <function shap_point_crossover at 0x7f6c6a0fae18>], mut_ops=[<function add_shapelet at 0x7f6c6a0faa60>, <function remove_shapelet at 0x7f6c6a0faae8>, <function mask_shapelet at 0x7f6c6a0fab70>])\n",
      " |      Initialize self.  See help(type(self)) for accurate signature.\n",
      " |  \n",
      " |  fit(self, X, y, convert_categorical_labels=False)\n",
      " |      Extract shapelets from the provided timeseries and labels.\n",
      " |      \n",
      " |      Parameters\n",
      " |      ----------\n",
      " |      X : array-like, shape = [n_ts, ]\n",
      " |          The training input timeseries. Each timeseries must be an array,\n",
      " |          but the lengths can be variable\n",
      " |      \n",
      " |      y : array-like, shape = [n_samples]\n",
      " |          The target values.\n",
      " |  \n",
      " |  fit_transform(self, X, y)\n",
      " |      Combine both the fit and transform method in one.\n",
      " |      \n",
      " |      Parameters\n",
      " |      ----------\n",
      " |      X : array-like, shape = [n_ts, ]\n",
      " |          The training input timeseries. Each timeseries must be an array,\n",
      " |          but the lengths can be variable\n",
      " |      \n",
      " |      y : array-like, shape = [n_samples]\n",
      " |          The target values.\n",
      " |      \n",
      " |      Returns\n",
      " |      -------\n",
      " |      D : array-like, shape = [n_ts, n_shaps]\n",
      " |          The matrix with distances\n",
      " |  \n",
      " |  save(self, path)\n",
      " |      Write away all hyper-parameters and discovered shapelets to disk\n",
      " |  \n",
      " |  transform(self, X, include_loc=False)\n",
      " |      After fitting the Extractor, we can transform collections of \n",
      " |      timeseries in matrices with distances to each of the shapelets in\n",
      " |      the evolved shapelet set.\n",
      " |      \n",
      " |      Parameters\n",
      " |      ----------\n",
      " |      X : array-like, shape = [n_ts, ]\n",
      " |          The training input timeseries. Each timeseries must be an array,\n",
      " |          but the lengths can be variable\n",
      " |      \n",
      " |      Returns\n",
      " |      -------\n",
      " |      D : array-like, shape = [n_ts, n_shaps]\n",
      " |          The matrix with distances\n",
      " |      L : array-like, shape = [n_ts, n_shaps]\n",
      " |          The matrix with localization of shapelets\n",
      " |  \n",
      " |  ----------------------------------------------------------------------\n",
      " |  Static methods defined here:\n",
      " |  \n",
      " |  load(path)\n",
      " |      Instantiate a saved GeneticExtractor\n",
      " |  \n",
      " |  ----------------------------------------------------------------------\n",
      " |  Methods inherited from sklearn.base.BaseEstimator:\n",
      " |  \n",
      " |  __getstate__(self)\n",
      " |  \n",
      " |  __repr__(self, N_CHAR_MAX=700)\n",
      " |      Return repr(self).\n",
      " |  \n",
      " |  __setstate__(self, state)\n",
      " |  \n",
      " |  get_params(self, deep=True)\n",
      " |      Get parameters for this estimator.\n",
      " |      \n",
      " |      Parameters\n",
      " |      ----------\n",
      " |      deep : bool, default=True\n",
      " |          If True, will return the parameters for this estimator and\n",
      " |          contained subobjects that are estimators.\n",
      " |      \n",
      " |      Returns\n",
      " |      -------\n",
      " |      params : mapping of string to any\n",
      " |          Parameter names mapped to their values.\n",
      " |  \n",
      " |  set_params(self, **params)\n",
      " |      Set the parameters of this estimator.\n",
      " |      \n",
      " |      The method works on simple estimators as well as on nested objects\n",
      " |      (such as pipelines). The latter have parameters of the form\n",
      " |      ``<component>__<parameter>`` so that it's possible to update each\n",
      " |      component of a nested object.\n",
      " |      \n",
      " |      Parameters\n",
      " |      ----------\n",
      " |      **params : dict\n",
      " |          Estimator parameters.\n",
      " |      \n",
      " |      Returns\n",
      " |      -------\n",
      " |      self : object\n",
      " |          Estimator instance.\n",
      " |  \n",
      " |  ----------------------------------------------------------------------\n",
      " |  Data descriptors inherited from sklearn.base.BaseEstimator:\n",
      " |  \n",
      " |  __dict__\n",
      " |      dictionary for instance variables (if defined)\n",
      " |  \n",
      " |  __weakref__\n",
      " |      list of weak references to the object (if defined)\n",
      "\n"
     ]
    }
   ],
   "source": [
    "help(GeneticExtractor)"
   ]
  },
  {
   "cell_type": "code",
   "execution_count": 8,
   "id": "f73e4305",
   "metadata": {},
   "outputs": [],
   "source": [
    "from gendis.fitness import DistributionDistance\n",
    "\n",
    "fitness_func = DistributionDistance(\n",
    "    distance_function=DistributionDistance.simple_mean, \n",
    "    shapelet_dist_threshold=1.0\n",
    ")\n",
    "\n",
    "args = {\n",
    "    \"fitness\": fitness_func,\n",
    "    \"population_size\": 100, \n",
    "    \"iterations\": 50,  \n",
    "    \"mutation_prob\": 0.3, \n",
    "    \"crossover_prob\": 0.3,\n",
    "    \"max_shaps\": 3,\n",
    "    \"wait\": 20, \n",
    "    \"max_len\": 30,\n",
    "    \"n_jobs\": multiprocessing.cpu_count() - 1,\n",
    "    \"verbose\": True,\n",
    "} \n",
    "\n",
    "gendis = GeneticExtractor(**args)"
   ]
  },
  {
   "cell_type": "code",
   "execution_count": 9,
   "id": "31af6497",
   "metadata": {},
   "outputs": [
    {
     "data": {
      "text/plain": [
       "{'population_size': 100,\n",
       " 'iterations': 50,\n",
       " 'verbose': True,\n",
       " 'mutation_prob': 0.3,\n",
       " 'crossover_prob': 0.3,\n",
       " 'plot': None,\n",
       " 'wait': 15,\n",
       " 'n_jobs': 15,\n",
       " 'normed': False,\n",
       " '_min_length': 0,\n",
       " 'max_len': 30,\n",
       " 'max_shaps': 5,\n",
       " 'init_ops': [<function gendis.operators.random_shapelet(X, n_shapelets, min_len, max_len)>,\n",
       "  <function gendis.operators.kmeans(X, n_shapelets, min_len, max_len, n_draw=None)>],\n",
       " 'cx_ops': [<function gendis.operators.merge_crossover(ind1, ind2, p=0.25)>,\n",
       "  <function gendis.operators.point_crossover(ind1, ind2)>,\n",
       "  <function gendis.operators.shap_point_crossover(ind1, ind2, p=0.25)>],\n",
       " 'mut_ops': [<function gendis.operators.add_shapelet(shapelets, toolbox)>,\n",
       "  <function gendis.operators.remove_shapelet(shapelets, toolbox)>,\n",
       "  <function gendis.operators.mask_shapelet(shapelets, toolbox)>],\n",
       " 'fitness': <gendis.fitness.DistributionDistance at 0x7f6c6a06d240>,\n",
       " 'label_mapping': {},\n",
       " 'shapelets': []}"
      ]
     },
     "execution_count": 9,
     "metadata": {},
     "output_type": "execute_result"
    }
   ],
   "source": [
    "gendis.__dict__"
   ]
  },
  {
   "cell_type": "code",
   "execution_count": 10,
   "id": "0f0b64c6",
   "metadata": {},
   "outputs": [
    {
     "data": {
      "text/plain": [
       "0     0.079746\n",
       "1     0.072365\n",
       "2     0.095378\n",
       "3     0.734978\n",
       "4     0.066358\n",
       "        ...   \n",
       "61    0.224323\n",
       "62    0.434576\n",
       "63    0.365658\n",
       "64    0.368170\n",
       "65    0.120600\n",
       "Name: error, Length: 66, dtype: float64"
      ]
     },
     "execution_count": 10,
     "metadata": {},
     "output_type": "execute_result"
    }
   ],
   "source": [
    "y_train"
   ]
  },
  {
   "cell_type": "code",
   "execution_count": 11,
   "id": "f4467843",
   "metadata": {},
   "outputs": [
    {
     "name": "stdout",
     "output_type": "stream",
     "text": [
      "it\t\tavg\t\tstd\t\tmax\t\ttime\n",
      "1\t\t0.0296\t\t0.042\t\t0.13403\t1.061\n",
      "2\t\t0.0449\t\t0.045\t\t0.13403\t1.5378\n",
      "3\t\t0.0595\t\t0.053\t\t0.13403\t1.139\n",
      "4\t\t0.0697\t\t0.048\t\t0.13403\t1.0906\n",
      "5\t\t0.0884\t\t0.042\t\t0.13403\t0.9264\n",
      "6\t\t0.1039\t\t0.035\t\t0.13403\t0.8356\n",
      "7\t\t0.1172\t\t0.026\t\t0.13403\t0.7841\n",
      "8\t\t0.1265\t\t0.011\t\t0.13403\t0.7612\n",
      "9\t\t0.1326\t\t0.014\t\t0.176438\t0.812\n",
      "10\t\t0.133\t\t0.019\t\t0.176438\t0.856\n",
      "11\t\t0.1363\t\t0.018\t\t0.189932\t0.8011\n",
      "12\t\t0.143\t\t0.027\t\t0.189932\t0.9495\n",
      "13\t\t0.1349\t\t0.034\t\t0.189932\t0.8059\n",
      "14\t\t0.1345\t\t0.038\t\t0.189932\t1.0258\n",
      "15\t\t0.1438\t\t0.03\t\t0.189932\t1.1889\n",
      "16\t\t0.1482\t\t0.038\t\t0.198093\t0.865\n",
      "17\t\t0.1335\t\t0.046\t\t0.198093\t1.3094\n",
      "18\t\t0.136\t\t0.039\t\t0.198093\t2.4855\n",
      "19\t\t0.1255\t\t0.031\t\t0.198093\t1.1684\n",
      "20\t\t0.1289\t\t0.023\t\t0.198093\t1.3295\n",
      "21\t\t0.1371\t\t0.024\t\t0.198093\t0.8889\n",
      "22\t\t0.132\t\t0.022\t\t0.198093\t0.93\n",
      "23\t\t0.1324\t\t0.027\t\t0.198093\t1.6799\n",
      "24\t\t0.1387\t\t0.025\t\t0.198093\t1.7309\n",
      "25\t\t0.1357\t\t0.029\t\t0.198093\t1.1917\n",
      "26\t\t0.1357\t\t0.029\t\t0.198093\t1.1225\n",
      "27\t\t0.1337\t\t0.029\t\t0.198093\t2.1506\n",
      "28\t\t0.1369\t\t0.031\t\t0.198093\t1.117\n",
      "29\t\t0.1308\t\t0.032\t\t0.198093\t1.1796\n",
      "30\t\t0.1399\t\t0.022\t\t0.198093\t1.0579\n",
      "CPU times: user 32.1 s, sys: 916 ms, total: 33 s\n",
      "Wall time: 48 s\n"
     ]
    }
   ],
   "source": [
    "%%time\n",
    "gendis.fit(X_train, y_train.to_numpy())"
   ]
  },
  {
   "cell_type": "code",
   "execution_count": 28,
   "id": "a0e50734",
   "metadata": {},
   "outputs": [],
   "source": [
    "ts = datetime.datetime.now().strftime('%Y%m%d%H%M%S')\n",
    "folder = f'./results/gunpoint/{ts}/'\n",
    "os.makedirs(folder)\n",
    "gendis.save(f'{folder}/gendis.pickle')"
   ]
  },
  {
   "cell_type": "code",
   "execution_count": 16,
   "id": "c9624d81",
   "metadata": {},
   "outputs": [
    {
     "name": "stdout",
     "output_type": "stream",
     "text": [
      "CPU times: user 105 ms, sys: 94 µs, total: 105 ms\n",
      "Wall time: 104 ms\n"
     ]
    }
   ],
   "source": [
    "%%time\n",
    "distances_train = gendis.transform(X_train)"
   ]
  },
  {
   "cell_type": "code",
   "execution_count": 17,
   "id": "b6cf4fba",
   "metadata": {},
   "outputs": [
    {
     "data": {
      "text/plain": [
       "array([[1.41482067, 1.488536  ],\n",
       "       [1.25049698, 1.82079363],\n",
       "       [0.05032361, 1.74625087],\n",
       "       [0.12316065, 2.37532997],\n",
       "       [0.54137671, 1.95462799],\n",
       "       [1.2712487 , 1.79906034],\n",
       "       [0.11148886, 1.75845289],\n",
       "       [0.0818801 , 1.72482288],\n",
       "       [1.74904788, 1.35377872],\n",
       "       [1.53729653, 1.61516261],\n",
       "       [1.45372546, 1.73825169],\n",
       "       [0.00737518, 1.61144459],\n",
       "       [1.57788122, 0.86172479],\n",
       "       [0.02309763, 2.31500316],\n",
       "       [0.12134244, 2.19036508],\n",
       "       [2.77125907, 1.76862419],\n",
       "       [0.52466488, 1.98482871],\n",
       "       [1.81753004, 1.13201845],\n",
       "       [0.03904588, 1.94733608],\n",
       "       [1.17921627, 1.86715567],\n",
       "       [0.04687212, 2.0207715 ],\n",
       "       [0.07292295, 2.0357554 ],\n",
       "       [0.14841963, 1.75670159],\n",
       "       [0.19719286, 1.76312971],\n",
       "       [0.21528164, 2.00218463],\n",
       "       [1.82263637, 0.4572562 ],\n",
       "       [2.56343055, 1.15191126],\n",
       "       [2.36134267, 0.66752684],\n",
       "       [0.50715458, 1.58927071],\n",
       "       [1.92012799, 0.48846933],\n",
       "       [0.68539113, 1.3203131 ],\n",
       "       [0.07785455, 1.75383985],\n",
       "       [1.56827235, 0.61986959],\n",
       "       [2.69536424, 1.68990123],\n",
       "       [1.50068319, 1.75137687],\n",
       "       [0.50584298, 1.87700069],\n",
       "       [0.2305174 , 1.91302872],\n",
       "       [0.08434939, 1.92731488],\n",
       "       [0.01656558, 2.09243464],\n",
       "       [1.77187276, 0.34452331],\n",
       "       [0.0529871 , 2.10148811],\n",
       "       [0.06359041, 2.0286479 ],\n",
       "       [1.4972384 , 1.48260176],\n",
       "       [0.52230734, 1.88455868],\n",
       "       [0.13819075, 2.11804295],\n",
       "       [1.49651968, 1.47695887],\n",
       "       [1.77397299, 0.49434361],\n",
       "       [1.88549709, 0.3308309 ],\n",
       "       [0.00398189, 1.92872953],\n",
       "       [1.98737991, 0.13341086],\n",
       "       [1.94197285, 0.30713212],\n",
       "       [1.54383779, 0.65011495],\n",
       "       [1.83316147, 1.206828  ],\n",
       "       [0.48618463, 1.59504521],\n",
       "       [0.3829354 , 1.90260935],\n",
       "       [0.08286279, 2.0606966 ],\n",
       "       [1.06470942, 2.10742307],\n",
       "       [0.17592803, 1.78576529],\n",
       "       [0.50867385, 1.60221231],\n",
       "       [1.74736953, 1.28562069],\n",
       "       [1.682868  , 1.27744901],\n",
       "       [2.07703376, 0.        ],\n",
       "       [0.25794646, 1.90030634],\n",
       "       [1.89476717, 0.39818898],\n",
       "       [0.65090829, 1.61125541],\n",
       "       [0.37060496, 1.9448868 ]])"
      ]
     },
     "execution_count": 17,
     "metadata": {},
     "output_type": "execute_result"
    }
   ],
   "source": [
    "distances_train"
   ]
  },
  {
   "cell_type": "code",
   "execution_count": 18,
   "id": "831c2a58",
   "metadata": {},
   "outputs": [
    {
     "data": {
      "text/plain": [
       "[array([1.97489031, 1.97548398, 1.98147239, 1.98072916]),\n",
       " array([-1.228293  , -1.2280574 , -1.2270783 , -1.2280792 , -1.2298582 ,\n",
       "        -1.2227177 , -1.1898486 , -1.1162339 , -0.99013625, -0.79790013,\n",
       "        -0.54930093, -0.28728919, -0.00984027,  0.23472164,  0.45322281,\n",
       "         0.63277252])]"
      ]
     },
     "execution_count": 18,
     "metadata": {},
     "output_type": "execute_result"
    }
   ],
   "source": [
    "gendis.shapelets"
   ]
  },
  {
   "cell_type": "code",
   "execution_count": 19,
   "id": "dbee8daa",
   "metadata": {},
   "outputs": [
    {
     "data": {
      "text/plain": [
       "array([1.97489031, 1.97548398, 1.98147239, 1.98072916])"
      ]
     },
     "execution_count": 19,
     "metadata": {},
     "output_type": "execute_result"
    }
   ],
   "source": [
    "gendis.shapelets[0]"
   ]
  },
  {
   "cell_type": "code",
   "execution_count": 20,
   "id": "c324b6a1",
   "metadata": {},
   "outputs": [
    {
     "data": {
      "text/plain": [
       "[<matplotlib.lines.Line2D at 0x7f6ceb1fb940>]"
      ]
     },
     "execution_count": 20,
     "metadata": {},
     "output_type": "execute_result"
    },
    {
     "data": {
      "image/png": "[encoded data removed]",
      "text/plain": [
       "<matplotlib.figure.Figure at 0x7f6ceb1a5940>"
      ]
     },
     "metadata": {
      "needs_background": "light"
     },
     "output_type": "display_data"
    }
   ],
   "source": [
    "plt.plot(gendis.shapelets[0])"
   ]
  },
  {
   "cell_type": "code",
   "execution_count": 21,
   "id": "78e1717d",
   "metadata": {},
   "outputs": [
    {
     "data": {
      "text/plain": [
       "[<matplotlib.lines.Line2D at 0x7f6ceb1cc128>]"
      ]
     },
     "execution_count": 21,
     "metadata": {},
     "output_type": "execute_result"
    },
    {
     "data": {
      "image/png": "[encoded data removed]",
      "text/plain": [
       "<matplotlib.figure.Figure at 0x7f6c69ddb3c8>"
      ]
     },
     "metadata": {
      "needs_background": "light"
     },
     "output_type": "display_data"
    }
   ],
   "source": [
    "plt.plot(gendis.shapelets[1])"
   ]
  },
  {
   "cell_type": "markdown",
   "id": "c451c377",
   "metadata": {},
   "source": [
    "### Persistence of results"
   ]
  },
  {
   "cell_type": "code",
   "execution_count": 27,
   "id": "2fd08249",
   "metadata": {},
   "outputs": [],
   "source": [
    "pd.DataFrame(distances_train).to_csv(f'{folder}/dist_matrix.csv', header=False, index=False)\n",
    "pd.DataFrame(distances_train).describe().to_csv(f'{folder}/dist_matrix_stats.csv')"
   ]
  }
 ],
 "metadata": {
  "kernelspec": {
   "display_name": "Python 3",
   "language": "python",
   "name": "python3"
  },
  "language_info": {
   "codemirror_mode": {
    "name": "ipython",
    "version": 3
   },
   "file_extension": ".py",
   "mimetype": "text/x-python",
   "name": "python",
   "nbconvert_exporter": "python",
   "pygments_lexer": "ipython3",
   "version": "3.6.13"
  }
 },
 "nbformat": 4,
 "nbformat_minor": 5
}
