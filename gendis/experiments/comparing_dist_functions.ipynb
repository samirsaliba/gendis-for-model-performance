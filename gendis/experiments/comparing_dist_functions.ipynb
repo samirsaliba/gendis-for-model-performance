{
 "cells": [
  {
   "cell_type": "code",
   "execution_count": 60,
   "id": "77df74b6",
   "metadata": {},
   "outputs": [],
   "source": [
    "import matplotlib.pyplot as plt\n",
    "import numpy as np\n",
    "from scipy.stats import mannwhitneyu, wasserstein_distance"
   ]
  },
  {
   "cell_type": "code",
   "execution_count": 63,
   "id": "43b93fc1",
   "metadata": {},
   "outputs": [],
   "source": [
    "def plot(s, mu, sigma):\n",
    "    count, bins, ignored = plt.hist(s, 30, density=True, alpha=0.6)\n",
    "    plt.plot(\n",
    "        bins, 1/(sigma * np.sqrt(2 * np.pi)) *\n",
    "        np.exp( - (bins - mu)**2 / (2 * sigma**2) ),\n",
    "        linewidth=2, color='r'\n",
    "    )\n",
    "    "
   ]
  },
  {
   "cell_type": "code",
   "execution_count": 64,
   "id": "8a8a1920",
   "metadata": {},
   "outputs": [],
   "source": [
    "mu1, sigma1 = 20, 6 # mean and standard deviation\n",
    "mu2, sigma2 = 22, 4\n",
    "mu3, sigma3 = 40, 7\n",
    "\n",
    "s1 = np.random.normal(mu1, sigma1, 1000)\n",
    "s2 = np.random.normal(mu2, sigma2, 1000)\n",
    "s3 = np.random.normal(mu3, sigma3, 1000)"
   ]
  },
  {
   "cell_type": "code",
   "execution_count": 65,
   "id": "e18a141d",
   "metadata": {},
   "outputs": [
    {
     "data": {
      "image/png": "[encoded data removed]",
      "text/plain": [
       "<matplotlib.figure.Figure at 0x7fa2d00a2710>"
      ]
     },
     "metadata": {
      "needs_background": "light"
     },
     "output_type": "display_data"
    }
   ],
   "source": [
    "plot(s=s1, mu=mu1, sigma=sigma1)\n",
    "plot(s=s2, mu=mu2, sigma=sigma2)\n",
    "plot(s=s3, mu=mu3, sigma=sigma3)\n",
    "plt.show()"
   ]
  },
  {
   "cell_type": "code",
   "execution_count": 46,
   "id": "f478e816",
   "metadata": {},
   "outputs": [
    {
     "name": "stdout",
     "output_type": "stream",
     "text": [
      "Help on function wasserstein_distance in module scipy.stats.stats:\n",
      "\n",
      "wasserstein_distance(u_values, v_values, u_weights=None, v_weights=None)\n",
      "    Compute the first Wasserstein distance between two 1D distributions.\n",
      "    \n",
      "    This distance is also known as the earth mover's distance, since it can be\n",
      "    seen as the minimum amount of \"work\" required to transform :math:`u` into\n",
      "    :math:`v`, where \"work\" is measured as the amount of distribution weight\n",
      "    that must be moved, multiplied by the distance it has to be moved.\n",
      "    \n",
      "    .. versionadded:: 1.0.0\n",
      "    \n",
      "    Parameters\n",
      "    ----------\n",
      "    u_values, v_values : array_like\n",
      "        Values observed in the (empirical) distribution.\n",
      "    u_weights, v_weights : array_like, optional\n",
      "        Weight for each value. If unspecified, each value is assigned the same\n",
      "        weight.\n",
      "        `u_weights` (resp. `v_weights`) must have the same length as\n",
      "        `u_values` (resp. `v_values`). If the weight sum differs from 1, it\n",
      "        must still be positive and finite so that the weights can be normalized\n",
      "        to sum to 1.\n",
      "    \n",
      "    Returns\n",
      "    -------\n",
      "    distance : float\n",
      "        The computed distance between the distributions.\n",
      "    \n",
      "    Notes\n",
      "    -----\n",
      "    The first Wasserstein distance between the distributions :math:`u` and\n",
      "    :math:`v` is:\n",
      "    \n",
      "    .. math::\n",
      "    \n",
      "        l_1 (u, v) = \\inf_{\\pi \\in \\Gamma (u, v)} \\int_{\\mathbb{R} \\times\n",
      "        \\mathbb{R}} |x-y| \\mathrm{d} \\pi (x, y)\n",
      "    \n",
      "    where :math:`\\Gamma (u, v)` is the set of (probability) distributions on\n",
      "    :math:`\\mathbb{R} \\times \\mathbb{R}` whose marginals are :math:`u` and\n",
      "    :math:`v` on the first and second factors respectively.\n",
      "    \n",
      "    If :math:`U` and :math:`V` are the respective CDFs of :math:`u` and\n",
      "    :math:`v`, this distance also equals to:\n",
      "    \n",
      "    .. math::\n",
      "    \n",
      "        l_1(u, v) = \\int_{-\\infty}^{+\\infty} |U-V|\n",
      "    \n",
      "    See [2]_ for a proof of the equivalence of both definitions.\n",
      "    \n",
      "    The input distributions can be empirical, therefore coming from samples\n",
      "    whose values are effectively inputs of the function, or they can be seen as\n",
      "    generalized functions, in which case they are weighted sums of Dirac delta\n",
      "    functions located at the specified values.\n",
      "    \n",
      "    References\n",
      "    ----------\n",
      "    .. [1] \"Wasserstein metric\", http://en.wikipedia.org/wiki/Wasserstein_metric\n",
      "    .. [2] Ramdas, Garcia, Cuturi \"On Wasserstein Two Sample Testing and Related\n",
      "           Families of Nonparametric Tests\" (2015). :arXiv:`1509.02237`.\n",
      "    \n",
      "    Examples\n",
      "    --------\n",
      "    >>> from scipy.stats import wasserstein_distance\n",
      "    >>> wasserstein_distance([0, 1, 3], [5, 6, 8])\n",
      "    5.0\n",
      "    >>> wasserstein_distance([0, 1], [0, 1], [3, 1], [2, 2])\n",
      "    0.25\n",
      "    >>> wasserstein_distance([3.4, 3.9, 7.5, 7.8], [4.5, 1.4],\n",
      "    ...                      [1.4, 0.9, 3.1, 7.2], [3.2, 3.5])\n",
      "    4.0781331438047861\n",
      "\n"
     ]
    }
   ],
   "source": [
    "help(wasserstein_distance)"
   ]
  },
  {
   "cell_type": "code",
   "execution_count": 69,
   "id": "cbf7ad54",
   "metadata": {},
   "outputs": [
    {
     "name": "stdout",
     "output_type": "stream",
     "text": [
      "1.9924968839296295\n",
      "20.2359745654229\n"
     ]
    }
   ],
   "source": [
    "print(wasserstein_distance(s1, s2))\n",
    "print(wasserstein_distance(s1, s3))"
   ]
  },
  {
   "cell_type": "code",
   "execution_count": 70,
   "id": "09c44b62",
   "metadata": {},
   "outputs": [
    {
     "name": "stdout",
     "output_type": "stream",
     "text": [
      "Help on function mannwhitneyu in module scipy.stats.stats:\n",
      "\n",
      "mannwhitneyu(x, y, use_continuity=True, alternative=None)\n",
      "    Compute the Mann-Whitney rank test on samples x and y.\n",
      "    \n",
      "    Parameters\n",
      "    ----------\n",
      "    x, y : array_like\n",
      "        Array of samples, should be one-dimensional.\n",
      "    use_continuity : bool, optional\n",
      "            Whether a continuity correction (1/2.) should be taken into\n",
      "            account. Default is True.\n",
      "    alternative : None (deprecated), 'less', 'two-sided', or 'greater'\n",
      "            Whether to get the p-value for the one-sided hypothesis ('less'\n",
      "            or 'greater') or for the two-sided hypothesis ('two-sided').\n",
      "            Defaults to None, which results in a p-value half the size of\n",
      "            the 'two-sided' p-value and a different U statistic. The\n",
      "            default behavior is not the same as using 'less' or 'greater':\n",
      "            it only exists for backward compatibility and is deprecated.\n",
      "    \n",
      "    Returns\n",
      "    -------\n",
      "    statistic : float\n",
      "        The Mann-Whitney U statistic, equal to min(U for x, U for y) if\n",
      "        `alternative` is equal to None (deprecated; exists for backward\n",
      "        compatibility), and U for y otherwise.\n",
      "    pvalue : float\n",
      "        p-value assuming an asymptotic normal distribution. One-sided or\n",
      "        two-sided, depending on the choice of `alternative`.\n",
      "    \n",
      "    Notes\n",
      "    -----\n",
      "    Use only when the number of observation in each sample is > 20 and\n",
      "    you have 2 independent samples of ranks. Mann-Whitney U is\n",
      "    significant if the u-obtained is LESS THAN or equal to the critical\n",
      "    value of U.\n",
      "    \n",
      "    This test corrects for ties and by default uses a continuity correction.\n",
      "    \n",
      "    References\n",
      "    ----------\n",
      "    .. [1] https://en.wikipedia.org/wiki/Mann-Whitney_U_test\n",
      "    \n",
      "    .. [2] H.B. Mann and D.R. Whitney, \"On a Test of Whether one of Two Random\n",
      "           Variables is Stochastically Larger than the Other,\" The Annals of\n",
      "           Mathematical Statistics, vol. 18, no. 1, pp. 50-60, 1947.\n",
      "\n"
     ]
    }
   ],
   "source": [
    "help(mannwhitneyu)"
   ]
  },
  {
   "cell_type": "code",
   "execution_count": 71,
   "id": "de38aa82",
   "metadata": {},
   "outputs": [
    {
     "name": "stdout",
     "output_type": "stream",
     "text": [
      "MannwhitneyuResult(statistic=406266.0, pvalue=1.9534011503772943e-13)\n",
      "MannwhitneyuResult(statistic=12943.0, pvalue=0.0)\n",
      "0.9999999999998047\n",
      "1.0\n"
     ]
    }
   ],
   "source": [
    "print(mannwhitneyu(s1, s2))\n",
    "print(mannwhitneyu(s1, s3))\n",
    "\n",
    "print(1-mannwhitneyu(s1, s2).pvalue)\n",
    "print(1-mannwhitneyu(s1, s3).pvalue)"
   ]
  },
  {
   "cell_type": "code",
   "execution_count": 73,
   "id": "8dcc222a",
   "metadata": {},
   "outputs": [],
   "source": [
    "def number_of_individuals_factor(subgroup_y):\n",
    "    # 1/ sqrt(number of individuals in subgroup)\n",
    "    return 1 / np.sqrt(len(subgroup_y))\n"
   ]
  },
  {
   "cell_type": "code",
   "execution_count": 86,
   "id": "5a768197",
   "metadata": {},
   "outputs": [
    {
     "data": {
      "text/plain": [
       "0.03333333333333333"
      ]
     },
     "execution_count": 86,
     "metadata": {},
     "output_type": "execute_result"
    }
   ],
   "source": []
  },
  {
   "cell_type": "code",
   "execution_count": 75,
   "id": "ba8dc332",
   "metadata": {},
   "outputs": [
    {
     "data": {
      "text/plain": [
       "0.15811388300841897"
      ]
     },
     "execution_count": 75,
     "metadata": {},
     "output_type": "execute_result"
    }
   ],
   "source": [
    "1 / np.sqrt(40)"
   ]
  },
  {
   "cell_type": "code",
   "execution_count": null,
   "id": "9b01bcf8",
   "metadata": {},
   "outputs": [],
   "source": []
  }
 ],
 "metadata": {
  "kernelspec": {
   "display_name": "Python 3 (ipykernel)",
   "language": "python",
   "name": "python3"
  },
  "language_info": {
   "codemirror_mode": {
    "name": "ipython",
    "version": 3
   },
   "file_extension": ".py",
   "mimetype": "text/x-python",
   "name": "python",
   "nbconvert_exporter": "python",
   "pygments_lexer": "ipython3",
   "version": "3.6.13"
  }
 },
 "nbformat": 4,
 "nbformat_minor": 5
}
