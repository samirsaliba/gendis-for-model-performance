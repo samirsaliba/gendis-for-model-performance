{
 "cells": [
  {
   "cell_type": "code",
   "execution_count": 1,
   "id": "f71c0773",
   "metadata": {},
   "outputs": [],
   "source": [
    "import datetime\n",
    "import matplotlib.pyplot as plt\n",
    "import multiprocessing\n",
    "import numpy as np\n",
    "import os\n",
    "import pandas as pd\n",
    "import pickle\n",
    "from sklearn.linear_model import LogisticRegression\n",
    "from sklearn.metrics import accuracy_score, confusion_matrix\n",
    "from sklearn.model_selection import StratifiedShuffleSplit"
   ]
  },
  {
   "cell_type": "code",
   "execution_count": 2,
   "id": "d9de2f05",
   "metadata": {},
   "outputs": [
    {
     "name": "stderr",
     "output_type": "stream",
     "text": [
      "/home/samir/miniconda3/envs/gendis/lib/python3.6/site-packages/sklearn/utils/deprecation.py:144: FutureWarning: The sklearn.cluster.k_means_ module is  deprecated in version 0.22 and will be removed in version 0.24. The corresponding classes / functions should instead be imported from sklearn.cluster. Anything that cannot be imported from sklearn.cluster is now part of the private API.\n",
      "  warnings.warn(message, FutureWarning)\n"
     ]
    }
   ],
   "source": [
    "from gendis.genetic import GeneticExtractor"
   ]
  },
  {
   "cell_type": "code",
   "execution_count": 3,
   "id": "dacba51f",
   "metadata": {},
   "outputs": [],
   "source": [
    "df = pd.read_csv('data/sin_synth/SIN_RANDY_NONOISE_500.csv')"
   ]
  },
  {
   "cell_type": "code",
   "execution_count": 4,
   "id": "48745539",
   "metadata": {},
   "outputs": [
    {
     "data": {
      "text/html": [
       "<div>\n",
       "<style scoped>\n",
       "    .dataframe tbody tr th:only-of-type {\n",
       "        vertical-align: middle;\n",
       "    }\n",
       "\n",
       "    .dataframe tbody tr th {\n",
       "        vertical-align: top;\n",
       "    }\n",
       "\n",
       "    .dataframe thead th {\n",
       "        text-align: right;\n",
       "    }\n",
       "</style>\n",
       "<table border=\"1\" class=\"dataframe\">\n",
       "  <thead>\n",
       "    <tr style=\"text-align: right;\">\n",
       "      <th></th>\n",
       "      <th>0</th>\n",
       "      <th>1</th>\n",
       "      <th>2</th>\n",
       "      <th>3</th>\n",
       "      <th>4</th>\n",
       "      <th>5</th>\n",
       "      <th>6</th>\n",
       "      <th>7</th>\n",
       "      <th>8</th>\n",
       "      <th>9</th>\n",
       "      <th>...</th>\n",
       "      <th>142</th>\n",
       "      <th>143</th>\n",
       "      <th>144</th>\n",
       "      <th>145</th>\n",
       "      <th>146</th>\n",
       "      <th>147</th>\n",
       "      <th>148</th>\n",
       "      <th>149</th>\n",
       "      <th>error</th>\n",
       "      <th>label</th>\n",
       "    </tr>\n",
       "  </thead>\n",
       "  <tbody>\n",
       "    <tr>\n",
       "      <th>0</th>\n",
       "      <td>176.107856</td>\n",
       "      <td>-38.292281</td>\n",
       "      <td>-83.633367</td>\n",
       "      <td>-130.510875</td>\n",
       "      <td>45.917780</td>\n",
       "      <td>-198.701307</td>\n",
       "      <td>27.789212</td>\n",
       "      <td>-14.355077</td>\n",
       "      <td>32.489286</td>\n",
       "      <td>38.293906</td>\n",
       "      <td>...</td>\n",
       "      <td>8.267257</td>\n",
       "      <td>115.987310</td>\n",
       "      <td>-16.361367</td>\n",
       "      <td>-16.296124</td>\n",
       "      <td>-0.519341</td>\n",
       "      <td>57.189860</td>\n",
       "      <td>-62.385178</td>\n",
       "      <td>163.477655</td>\n",
       "      <td>0.593159</td>\n",
       "      <td>0.0</td>\n",
       "    </tr>\n",
       "    <tr>\n",
       "      <th>1</th>\n",
       "      <td>100.961410</td>\n",
       "      <td>114.652989</td>\n",
       "      <td>16.501596</td>\n",
       "      <td>122.400534</td>\n",
       "      <td>269.075282</td>\n",
       "      <td>-11.194462</td>\n",
       "      <td>137.764530</td>\n",
       "      <td>-120.118107</td>\n",
       "      <td>-106.206571</td>\n",
       "      <td>236.171774</td>\n",
       "      <td>...</td>\n",
       "      <td>1.452680</td>\n",
       "      <td>-64.936704</td>\n",
       "      <td>-53.720485</td>\n",
       "      <td>10.504204</td>\n",
       "      <td>-19.586896</td>\n",
       "      <td>50.286487</td>\n",
       "      <td>-69.378273</td>\n",
       "      <td>127.678153</td>\n",
       "      <td>0.460127</td>\n",
       "      <td>0.0</td>\n",
       "    </tr>\n",
       "    <tr>\n",
       "      <th>2</th>\n",
       "      <td>-34.271320</td>\n",
       "      <td>48.175821</td>\n",
       "      <td>107.899320</td>\n",
       "      <td>-52.795608</td>\n",
       "      <td>30.277780</td>\n",
       "      <td>-41.432483</td>\n",
       "      <td>34.452543</td>\n",
       "      <td>6.573040</td>\n",
       "      <td>-63.255035</td>\n",
       "      <td>14.422148</td>\n",
       "      <td>...</td>\n",
       "      <td>-47.087189</td>\n",
       "      <td>110.905690</td>\n",
       "      <td>-39.843555</td>\n",
       "      <td>-41.198753</td>\n",
       "      <td>25.415166</td>\n",
       "      <td>23.234761</td>\n",
       "      <td>158.668992</td>\n",
       "      <td>-177.656889</td>\n",
       "      <td>0.377501</td>\n",
       "      <td>0.0</td>\n",
       "    </tr>\n",
       "  </tbody>\n",
       "</table>\n",
       "<p>3 rows × 152 columns</p>\n",
       "</div>"
      ],
      "text/plain": [
       "            0           1           2           3           4           5  \\\n",
       "0  176.107856  -38.292281  -83.633367 -130.510875   45.917780 -198.701307   \n",
       "1  100.961410  114.652989   16.501596  122.400534  269.075282  -11.194462   \n",
       "2  -34.271320   48.175821  107.899320  -52.795608   30.277780  -41.432483   \n",
       "\n",
       "            6           7           8           9  ...        142         143  \\\n",
       "0   27.789212  -14.355077   32.489286   38.293906  ...   8.267257  115.987310   \n",
       "1  137.764530 -120.118107 -106.206571  236.171774  ...   1.452680  -64.936704   \n",
       "2   34.452543    6.573040  -63.255035   14.422148  ... -47.087189  110.905690   \n",
       "\n",
       "         144        145        146        147         148         149  \\\n",
       "0 -16.361367 -16.296124  -0.519341  57.189860  -62.385178  163.477655   \n",
       "1 -53.720485  10.504204 -19.586896  50.286487  -69.378273  127.678153   \n",
       "2 -39.843555 -41.198753  25.415166  23.234761  158.668992 -177.656889   \n",
       "\n",
       "      error  label  \n",
       "0  0.593159    0.0  \n",
       "1  0.460127    0.0  \n",
       "2  0.377501    0.0  \n",
       "\n",
       "[3 rows x 152 columns]"
      ]
     },
     "execution_count": 4,
     "metadata": {},
     "output_type": "execute_result"
    }
   ],
   "source": [
    "df.head(3)"
   ]
  },
  {
   "cell_type": "code",
   "execution_count": 5,
   "id": "16e8176c",
   "metadata": {},
   "outputs": [
    {
     "data": {
      "text/plain": [
       "count    500.000000\n",
       "mean       0.700083\n",
       "std        0.210911\n",
       "min        0.200191\n",
       "25%        0.500853\n",
       "50%        0.767173\n",
       "75%        0.898267\n",
       "max        0.996475\n",
       "Name: error, dtype: float64"
      ]
     },
     "execution_count": 5,
     "metadata": {},
     "output_type": "execute_result"
    }
   ],
   "source": [
    "df.error.describe()"
   ]
  },
  {
   "cell_type": "code",
   "execution_count": 6,
   "id": "9364619c",
   "metadata": {},
   "outputs": [
    {
     "data": {
      "text/plain": [
       "1.0    250\n",
       "0.0    250\n",
       "Name: label, dtype: int64"
      ]
     },
     "execution_count": 6,
     "metadata": {},
     "output_type": "execute_result"
    }
   ],
   "source": [
    "df.label.value_counts()"
   ]
  },
  {
   "cell_type": "code",
   "execution_count": 7,
   "id": "915a06b0",
   "metadata": {},
   "outputs": [
    {
     "data": {
      "text/plain": [
       "500"
      ]
     },
     "execution_count": 7,
     "metadata": {},
     "output_type": "execute_result"
    }
   ],
   "source": [
    "len(df)"
   ]
  },
  {
   "cell_type": "code",
   "execution_count": 8,
   "id": "98f13aa4",
   "metadata": {},
   "outputs": [],
   "source": [
    "df = df.drop(columns='error')\n",
    "#X = df.drop(columns=['sin_x0', 'sin_x1', 'sin_y', 'label'])\n",
    "X = df.drop(columns=['label'])\n",
    "y = df['label']"
   ]
  },
  {
   "cell_type": "code",
   "execution_count": 9,
   "id": "d94e980d",
   "metadata": {},
   "outputs": [],
   "source": [
    "sss = StratifiedShuffleSplit(n_splits=1, test_size=0.8, random_state=0)\n",
    "sss.get_n_splits(X, y)\n",
    "train_index, test_index = next(sss.split(X, y))\n",
    "\n",
    "X_train, y_train = X.iloc[train_index], y.iloc[train_index]\n",
    "X_test, y_test = X.iloc[test_index], y.iloc[test_index]"
   ]
  },
  {
   "cell_type": "code",
   "execution_count": 10,
   "id": "f73e4305",
   "metadata": {},
   "outputs": [],
   "source": [
    "from gendis.fitness import logloss_fitness\n",
    "\n",
    "args = {\n",
    "    \"dist_function\": \"original\",\n",
    "    \"fitness\": logloss_fitness,\n",
    "    \"apply_differencing\": False,\n",
    "    \"population_size\": 100,\n",
    "    \"max_shaps\": 5,\n",
    "    \"iterations\": 50,  \n",
    "    \"mutation_prob\": 0.3, \n",
    "    \"crossover_prob\": 0.3, \n",
    "    \"wait\": 20, \n",
    "    \"n_jobs\": multiprocessing.cpu_count()-3,\n",
    "    \"verbose\": True,\n",
    "} \n",
    "\n",
    "gendis = GeneticExtractor(**args)"
   ]
  },
  {
   "cell_type": "code",
   "execution_count": 11,
   "id": "31af6497",
   "metadata": {},
   "outputs": [
    {
     "data": {
      "text/plain": [
       "{'dist_function': <cyfunction _pdist at 0x753906fcdba8>,\n",
       " 'dist_func_returns': False,\n",
       " 'fitness': <function gendis.fitness.logloss_fitness(D, y, verbose=False)>,\n",
       " 'apply_differencing': False,\n",
       " 'population_size': 100,\n",
       " 'iterations': 50,\n",
       " 'verbose': True,\n",
       " 'mutation_prob': 0.3,\n",
       " 'crossover_prob': 0.3,\n",
       " 'plot': None,\n",
       " 'wait': 20,\n",
       " 'n_jobs': 13,\n",
       " 'normed': False,\n",
       " 'min_len': 0,\n",
       " 'max_len': None,\n",
       " 'max_shaps': 5,\n",
       " 'init_ops': [<function gendis.operators.random_shapelet(X, n_shapelets, min_len_series, max_len, min_len=4)>,\n",
       "  <function gendis.operators.kmeans(X, n_shapelets, min_len_series, max_len, n_draw=None, min_len=4)>],\n",
       " 'cx_ops': [<function gendis.operators.merge_crossover(ind1, ind2, p=0.25)>,\n",
       "  <function gendis.operators.point_crossover(ind1, ind2)>,\n",
       "  <function gendis.operators.shap_point_crossover(ind1, ind2, p=0.25)>],\n",
       " 'mut_ops': [<function gendis.operators.add_shapelet(shapelets, toolbox)>,\n",
       "  <function gendis.operators.remove_shapelet(shapelets, toolbox)>,\n",
       "  <function gendis.operators.mask_shapelet(shapelets, toolbox)>],\n",
       " 'is_fitted': False,\n",
       " 'dist_threshold': 1.0,\n",
       " 'label_mapping': {},\n",
       " 'shapelets': []}"
      ]
     },
     "execution_count": 11,
     "metadata": {},
     "output_type": "execute_result"
    }
   ],
   "source": [
    "gendis.__dict__"
   ]
  },
  {
   "cell_type": "code",
   "execution_count": 12,
   "id": "f4467843",
   "metadata": {},
   "outputs": [
    {
     "name": "stdout",
     "output_type": "stream",
     "text": [
      "it\t\tavg\t\tstd\t\tmax\t\ttime\n",
      "1\t\t-0.5883\t\t0.066\t\t-0.375319\t1.4326\n",
      "2\t\t-0.5405\t\t0.099\t\t-0.207064\t1.7871\n",
      "3\t\t-0.471\t\t0.117\t\t-0.166297\t2.1445\n",
      "4\t\t-0.3897\t\t0.124\t\t-0.144042\t2.8541\n",
      "5\t\t-0.3054\t\t0.119\t\t-0.129644\t3.0672\n",
      "6\t\t-0.2531\t\t0.092\t\t-0.119365\t3.5727\n",
      "7\t\t-0.1917\t\t0.075\t\t-0.074339\t3.3362\n",
      "8\t\t-0.1579\t\t0.069\t\t-0.061094\t4.5087\n",
      "9\t\t-0.137\t\t0.078\t\t-0.038354\t2.9126\n",
      "10\t\t-0.1027\t\t0.047\t\t-0.013236\t3.2013\n",
      "11\t\t-0.0812\t\t0.072\t\t-0.001638\t3.6174\n",
      "12\t\t-0.0475\t\t0.061\t\t-0.000382\t4.3363\n",
      "13\t\t-0.0336\t\t0.062\t\t-0.000274\t3.9491\n",
      "14\t\t-0.0167\t\t0.039\t\t-0.000274\t3.6995\n",
      "15\t\t-0.0105\t\t0.03\t\t-0.000274\t4.2687\n",
      "16\t\t-0.0072\t\t0.024\t\t-0.000206\t4.2442\n",
      "17\t\t-0.0105\t\t0.04\t\t-0.000133\t4.3757\n",
      "18\t\t-0.0025\t\t0.018\t\t-0.000133\t4.2956\n",
      "19\t\t-0.0035\t\t0.013\t\t-9.5e-05\t4.6716\n",
      "20\t\t-0.0032\t\t0.015\t\t-7.8e-05\t3.9\n",
      "21\t\t-0.0015\t\t0.006\t\t-7.8e-05\t4.0348\n",
      "22\t\t-0.0057\t\t0.029\t\t-7.8e-05\t3.1748\n",
      "23\t\t-0.0091\t\t0.034\t\t-5.5e-05\t4.3215\n",
      "24\t\t-0.0082\t\t0.032\t\t-5.1e-05\t3.5041\n",
      "25\t\t-0.0031\t\t0.02\t\t-5.1e-05\t3.1815\n",
      "26\t\t-0.0042\t\t0.027\t\t-3.9e-05\t3.2218\n",
      "27\t\t-0.0071\t\t0.026\t\t-3.9e-05\t3.5018\n",
      "28\t\t-0.0096\t\t0.045\t\t-3.9e-05\t3.631\n",
      "29\t\t-0.0045\t\t0.03\t\t-3.9e-05\t3.6537\n",
      "30\t\t-0.0007\t\t0.005\t\t-3.9e-05\t3.67\n",
      "31\t\t-0.0029\t\t0.018\t\t-3.9e-05\t4.1192\n",
      "32\t\t-0.0099\t\t0.053\t\t-3.9e-05\t4.1431\n",
      "33\t\t-0.0049\t\t0.022\t\t-3.9e-05\t4.1369\n",
      "34\t\t-0.0085\t\t0.04\t\t-3.2e-05\t4.0197\n",
      "35\t\t-0.0016\t\t0.011\t\t-3.2e-05\t3.7947\n",
      "36\t\t-0.0001\t\t0.0\t\t-3.2e-05\t3.1923\n",
      "37\t\t-0.0035\t\t0.02\t\t-1.9e-05\t3.2758\n",
      "38\t\t-0.006\t\t0.033\t\t-1.9e-05\t3.1382\n",
      "39\t\t-0.002\t\t0.012\t\t-1.9e-05\t3.5306\n",
      "40\t\t-0.0031\t\t0.012\t\t-1.9e-05\t3.9158\n",
      "41\t\t-0.0079\t\t0.035\t\t-1.9e-05\t3.7218\n",
      "42\t\t-0.0039\t\t0.02\t\t-1.9e-05\t3.0965\n",
      "43\t\t-0.0073\t\t0.043\t\t-1.9e-05\t3.2351\n",
      "44\t\t-0.005\t\t0.024\t\t-1.9e-05\t2.5267\n",
      "45\t\t-0.0051\t\t0.025\t\t-1.9e-05\t3.0664\n",
      "46\t\t-0.002\t\t0.019\t\t-1.9e-05\t2.7907\n",
      "47\t\t-0.0041\t\t0.029\t\t-1.9e-05\t3.0242\n",
      "48\t\t-0.0169\t\t0.072\t\t-1.9e-05\t3.2449\n",
      "49\t\t-0.0026\t\t0.015\t\t-1.9e-05\t3.622\n",
      "50\t\t-0.0069\t\t0.024\t\t-1.9e-05\t3.4317\n",
      "CPU times: user 1min 11s, sys: 451 ms, total: 1min 12s\n",
      "Wall time: 3min 16s\n"
     ]
    }
   ],
   "source": [
    "%%time\n",
    "gendis.fit(X_train, y_train)"
   ]
  },
  {
   "cell_type": "code",
   "execution_count": 13,
   "id": "c9624d81",
   "metadata": {},
   "outputs": [
    {
     "name": "stdout",
     "output_type": "stream",
     "text": [
      "CPU times: user 2.25 s, sys: 30 µs, total: 2.25 s\n",
      "Wall time: 2.25 s\n"
     ]
    }
   ],
   "source": [
    "%%time\n",
    "distances_train = gendis.transform(X_train)\n",
    "distances_test = gendis.transform(X_test)"
   ]
  },
  {
   "cell_type": "code",
   "execution_count": 14,
   "id": "9b6ec079",
   "metadata": {},
   "outputs": [
    {
     "data": {
      "text/html": [
       "<div>\n",
       "<style scoped>\n",
       "    .dataframe tbody tr th:only-of-type {\n",
       "        vertical-align: middle;\n",
       "    }\n",
       "\n",
       "    .dataframe tbody tr th {\n",
       "        vertical-align: top;\n",
       "    }\n",
       "\n",
       "    .dataframe thead th {\n",
       "        text-align: right;\n",
       "    }\n",
       "</style>\n",
       "<table border=\"1\" class=\"dataframe\">\n",
       "  <thead>\n",
       "    <tr style=\"text-align: right;\">\n",
       "      <th></th>\n",
       "      <th>0</th>\n",
       "      <th>1</th>\n",
       "      <th>2</th>\n",
       "      <th>3</th>\n",
       "      <th>4</th>\n",
       "      <th>5</th>\n",
       "      <th>6</th>\n",
       "    </tr>\n",
       "  </thead>\n",
       "  <tbody>\n",
       "    <tr>\n",
       "      <th>0</th>\n",
       "      <td>234.355576</td>\n",
       "      <td>279.118896</td>\n",
       "      <td>116.404465</td>\n",
       "      <td>706.694214</td>\n",
       "      <td>286.134888</td>\n",
       "      <td>44.433167</td>\n",
       "      <td>341.899597</td>\n",
       "    </tr>\n",
       "    <tr>\n",
       "      <th>1</th>\n",
       "      <td>293.018372</td>\n",
       "      <td>276.308838</td>\n",
       "      <td>127.446831</td>\n",
       "      <td>644.530212</td>\n",
       "      <td>308.514587</td>\n",
       "      <td>44.989613</td>\n",
       "      <td>259.130463</td>\n",
       "    </tr>\n",
       "    <tr>\n",
       "      <th>2</th>\n",
       "      <td>305.770538</td>\n",
       "      <td>183.261398</td>\n",
       "      <td>138.074509</td>\n",
       "      <td>694.707153</td>\n",
       "      <td>330.849030</td>\n",
       "      <td>71.817650</td>\n",
       "      <td>713.357605</td>\n",
       "    </tr>\n",
       "    <tr>\n",
       "      <th>3</th>\n",
       "      <td>288.427490</td>\n",
       "      <td>259.463440</td>\n",
       "      <td>163.159454</td>\n",
       "      <td>601.698975</td>\n",
       "      <td>280.489349</td>\n",
       "      <td>74.307091</td>\n",
       "      <td>790.387085</td>\n",
       "    </tr>\n",
       "    <tr>\n",
       "      <th>4</th>\n",
       "      <td>116.412041</td>\n",
       "      <td>257.151459</td>\n",
       "      <td>112.921631</td>\n",
       "      <td>535.504883</td>\n",
       "      <td>234.333023</td>\n",
       "      <td>47.380817</td>\n",
       "      <td>718.518250</td>\n",
       "    </tr>\n",
       "  </tbody>\n",
       "</table>\n",
       "</div>"
      ],
      "text/plain": [
       "            0           1           2           3           4          5  \\\n",
       "0  234.355576  279.118896  116.404465  706.694214  286.134888  44.433167   \n",
       "1  293.018372  276.308838  127.446831  644.530212  308.514587  44.989613   \n",
       "2  305.770538  183.261398  138.074509  694.707153  330.849030  71.817650   \n",
       "3  288.427490  259.463440  163.159454  601.698975  280.489349  74.307091   \n",
       "4  116.412041  257.151459  112.921631  535.504883  234.333023  47.380817   \n",
       "\n",
       "            6  \n",
       "0  341.899597  \n",
       "1  259.130463  \n",
       "2  713.357605  \n",
       "3  790.387085  \n",
       "4  718.518250  "
      ]
     },
     "execution_count": 14,
     "metadata": {},
     "output_type": "execute_result"
    }
   ],
   "source": [
    "dists = pd.DataFrame(distances_train)\n",
    "dists.head()"
   ]
  },
  {
   "cell_type": "code",
   "execution_count": 15,
   "id": "58fc4107",
   "metadata": {},
   "outputs": [],
   "source": [
    "dists[\"label\"] = y_train.values\n",
    "dists[\"label\"].value_counts()\n",
    "dists.index = X_train.index\n",
    "#dists[['sin_x0', 'sin_x1', 'sin_y', 'label']] = df[['sin_x0', 'sin_x1', 'sin_y', 'label']]"
   ]
  },
  {
   "cell_type": "code",
   "execution_count": 16,
   "id": "7b51ab55",
   "metadata": {},
   "outputs": [],
   "source": [
    "def test_shapelet_separation(shap, shap_id):\n",
    "    axs_multiplier = 0.75\n",
    "    f, axs = plt.subplots(1, 2, figsize=(2*axs_multiplier*6.4, axs_multiplier*4.8))\n",
    "    print(f\"Testing separation for shapelet {shap_id}\")\n",
    "    \n",
    "    # Shapelet plot\n",
    "    axs[0].plot(shap)\n",
    "    \n",
    "    # Distance histograms plot\n",
    "    bins = np.linspace(0, 120, 20)\n",
    "    axs[1].hist(dists.loc[dists['label']==0, shap_id], alpha=0.5, label='sin=false')\n",
    "    axs[1].hist(dists.loc[dists['label']==1, shap_id], alpha=0.5, label='sin=true')\n",
    "    axs[1].legend(loc='upper right')\n",
    "    \n",
    "    # Distance versus sin_y\n",
    "    #dists.plot.scatter(x='sin_y', y=shap_id, c='DarkBlue', ax=axs[2])\n",
    "    \n",
    "    \n",
    "    # Accuracy using the shapelet as feature\n",
    "    single_shapelet_train = distances_train[:, shap_id].reshape(-1, 1)\n",
    "    single_shapelet_test = distances_test[:, shap_id].reshape(-1, 1)\n",
    "    \n",
    "    lr = LogisticRegression()\n",
    "    lr.fit(single_shapelet_train, y_train)\n",
    "    y_pred = lr.predict(single_shapelet_test)\n",
    "    acc = accuracy_score(y_test, y_pred)\n",
    "    print(f'Accuracy = {acc}')\n",
    "    print(confusion_matrix(y_test, y_pred))\n",
    "    \n",
    "    plt.show()"
   ]
  },
  {
   "cell_type": "code",
   "execution_count": 17,
   "id": "af172032",
   "metadata": {
    "scrolled": false
   },
   "outputs": [
    {
     "name": "stdout",
     "output_type": "stream",
     "text": [
      "Testing separation for shapelet 0\n",
      "Accuracy = 0.56\n",
      "[[109  91]\n",
      " [ 85 115]]\n"
     ]
    },
    {
     "data": {
      "image/png": "[encoded data removed]",
      "text/plain": [
       "<Figure size 691.2x259.2 with 2 Axes>"
      ]
     },
     "metadata": {
      "needs_background": "light"
     },
     "output_type": "display_data"
    },
    {
     "name": "stdout",
     "output_type": "stream",
     "text": [
      "Testing separation for shapelet 1\n",
      "Accuracy = 0.515\n",
      "[[ 85 115]\n",
      " [ 79 121]]\n"
     ]
    },
    {
     "data": {
      "image/png": "[encoded data removed]",
      "text/plain": [
       "<Figure size 691.2x259.2 with 2 Axes>"
      ]
     },
     "metadata": {
      "needs_background": "light"
     },
     "output_type": "display_data"
    },
    {
     "name": "stdout",
     "output_type": "stream",
     "text": [
      "Testing separation for shapelet 2\n",
      "Accuracy = 0.41\n",
      "[[ 82 118]\n",
      " [118  82]]\n"
     ]
    },
    {
     "data": {
      "image/png": "[encoded data removed]",
      "text/plain": [
       "<Figure size 691.2x259.2 with 2 Axes>"
      ]
     },
     "metadata": {
      "needs_background": "light"
     },
     "output_type": "display_data"
    },
    {
     "name": "stdout",
     "output_type": "stream",
     "text": [
      "Testing separation for shapelet 3\n",
      "Accuracy = 0.69\n",
      "[[164  36]\n",
      " [ 88 112]]\n"
     ]
    },
    {
     "data": {
      "image/png": "[encoded data removed]",
      "text/plain": [
       "<Figure size 691.2x259.2 with 2 Axes>"
      ]
     },
     "metadata": {
      "needs_background": "light"
     },
     "output_type": "display_data"
    },
    {
     "name": "stdout",
     "output_type": "stream",
     "text": [
      "Testing separation for shapelet 4\n",
      "Accuracy = 0.5\n",
      "[[200   0]\n",
      " [200   0]]\n"
     ]
    },
    {
     "data": {
      "image/png": "[encoded data removed]",
      "text/plain": [
       "<Figure size 691.2x259.2 with 2 Axes>"
      ]
     },
     "metadata": {
      "needs_background": "light"
     },
     "output_type": "display_data"
    },
    {
     "name": "stdout",
     "output_type": "stream",
     "text": [
      "Testing separation for shapelet 5\n",
      "Accuracy = 0.5225\n",
      "[[ 96 104]\n",
      " [ 87 113]]\n"
     ]
    },
    {
     "data": {
      "image/png": "[encoded data removed]",
      "text/plain": [
       "<Figure size 691.2x259.2 with 2 Axes>"
      ]
     },
     "metadata": {
      "needs_background": "light"
     },
     "output_type": "display_data"
    },
    {
     "name": "stdout",
     "output_type": "stream",
     "text": [
      "Testing separation for shapelet 6\n",
      "Accuracy = 0.685\n",
      "[[175  25]\n",
      " [101  99]]\n"
     ]
    },
    {
     "data": {
      "image/png": "[encoded data removed]",
      "text/plain": [
       "<Figure size 691.2x259.2 with 2 Axes>"
      ]
     },
     "metadata": {
      "needs_background": "light"
     },
     "output_type": "display_data"
    }
   ],
   "source": [
    "for i, shap in enumerate(gendis.best['shapelets'], start=0):\n",
    "    test_shapelet_separation(shap, i)"
   ]
  },
  {
   "cell_type": "markdown",
   "id": "3c195014",
   "metadata": {},
   "source": [
    "## Manually input sin shapelet"
   ]
  },
  {
   "cell_type": "code",
   "execution_count": 18,
   "id": "6d7ac929",
   "metadata": {},
   "outputs": [
    {
     "data": {
      "text/plain": [
       "[<matplotlib.lines.Line2D at 0x75398ba81f60>]"
      ]
     },
     "execution_count": 18,
     "metadata": {},
     "output_type": "execute_result"
    },
    {
     "data": {
      "image/png": "[encoded data removed]",
      "text/plain": [
       "<Figure size 432x288 with 1 Axes>"
      ]
     },
     "metadata": {
      "needs_background": "light"
     },
     "output_type": "display_data"
    }
   ],
   "source": [
    "sin_length = 30\n",
    "t = np.linspace(0, 4*np.pi, sin_length)\n",
    "sine_wave = 30 * np.sin(t)\n",
    "plt.plot(sine_wave)"
   ]
  },
  {
   "cell_type": "code",
   "execution_count": 19,
   "id": "307846e9",
   "metadata": {},
   "outputs": [
    {
     "name": "stdout",
     "output_type": "stream",
     "text": [
      "CPU times: user 304 ms, sys: 5 µs, total: 304 ms\n",
      "Wall time: 304 ms\n"
     ]
    }
   ],
   "source": [
    "%%time\n",
    "gendis.best['shapelets'] = [sine_wave]\n",
    "dist_sin_train = gendis.transform(X_train)\n",
    "dist_sin_test = gendis.transform(X_test)"
   ]
  },
  {
   "cell_type": "code",
   "execution_count": 20,
   "id": "9c4eddad",
   "metadata": {},
   "outputs": [
    {
     "name": "stdout",
     "output_type": "stream",
     "text": [
      "Accuracy = 0.66\n",
      "[[151  49]\n",
      " [ 87 113]]\n"
     ]
    }
   ],
   "source": [
    "lr = LogisticRegression()\n",
    "lr.fit(dist_sin_train, y_train)\n",
    "y_pred = lr.predict(dist_sin_test)\n",
    "acc = accuracy_score(y_test, y_pred)\n",
    "print(f'Accuracy = {acc}')\n",
    "print(confusion_matrix(y_test, y_pred))"
   ]
  },
  {
   "cell_type": "code",
   "execution_count": 21,
   "id": "c5b78b2d",
   "metadata": {},
   "outputs": [
    {
     "data": {
      "text/html": [
       "<div>\n",
       "<style scoped>\n",
       "    .dataframe tbody tr th:only-of-type {\n",
       "        vertical-align: middle;\n",
       "    }\n",
       "\n",
       "    .dataframe tbody tr th {\n",
       "        vertical-align: top;\n",
       "    }\n",
       "\n",
       "    .dataframe thead th {\n",
       "        text-align: right;\n",
       "    }\n",
       "</style>\n",
       "<table border=\"1\" class=\"dataframe\">\n",
       "  <thead>\n",
       "    <tr style=\"text-align: right;\">\n",
       "      <th></th>\n",
       "      <th>0</th>\n",
       "      <th>label</th>\n",
       "    </tr>\n",
       "  </thead>\n",
       "  <tbody>\n",
       "    <tr>\n",
       "      <th>0</th>\n",
       "      <td>406.300354</td>\n",
       "      <td>1.0</td>\n",
       "    </tr>\n",
       "    <tr>\n",
       "      <th>1</th>\n",
       "      <td>405.435425</td>\n",
       "      <td>1.0</td>\n",
       "    </tr>\n",
       "    <tr>\n",
       "      <th>2</th>\n",
       "      <td>394.289490</td>\n",
       "      <td>0.0</td>\n",
       "    </tr>\n",
       "    <tr>\n",
       "      <th>3</th>\n",
       "      <td>434.033844</td>\n",
       "      <td>0.0</td>\n",
       "    </tr>\n",
       "    <tr>\n",
       "      <th>4</th>\n",
       "      <td>26.440453</td>\n",
       "      <td>1.0</td>\n",
       "    </tr>\n",
       "    <tr>\n",
       "      <th>...</th>\n",
       "      <td>...</td>\n",
       "      <td>...</td>\n",
       "    </tr>\n",
       "    <tr>\n",
       "      <th>95</th>\n",
       "      <td>399.916779</td>\n",
       "      <td>1.0</td>\n",
       "    </tr>\n",
       "    <tr>\n",
       "      <th>96</th>\n",
       "      <td>425.463562</td>\n",
       "      <td>1.0</td>\n",
       "    </tr>\n",
       "    <tr>\n",
       "      <th>97</th>\n",
       "      <td>181.188705</td>\n",
       "      <td>1.0</td>\n",
       "    </tr>\n",
       "    <tr>\n",
       "      <th>98</th>\n",
       "      <td>480.534851</td>\n",
       "      <td>0.0</td>\n",
       "    </tr>\n",
       "    <tr>\n",
       "      <th>99</th>\n",
       "      <td>279.580750</td>\n",
       "      <td>1.0</td>\n",
       "    </tr>\n",
       "  </tbody>\n",
       "</table>\n",
       "<p>100 rows × 2 columns</p>\n",
       "</div>"
      ],
      "text/plain": [
       "             0  label\n",
       "0   406.300354    1.0\n",
       "1   405.435425    1.0\n",
       "2   394.289490    0.0\n",
       "3   434.033844    0.0\n",
       "4    26.440453    1.0\n",
       "..         ...    ...\n",
       "95  399.916779    1.0\n",
       "96  425.463562    1.0\n",
       "97  181.188705    1.0\n",
       "98  480.534851    0.0\n",
       "99  279.580750    1.0\n",
       "\n",
       "[100 rows x 2 columns]"
      ]
     },
     "execution_count": 21,
     "metadata": {},
     "output_type": "execute_result"
    }
   ],
   "source": [
    "dist_sin_train = pd.DataFrame(dist_sin_train)\n",
    "dist_sin_train[\"label\"] = y_train.values\n",
    "dist_sin_train[\"label\"].value_counts()\n",
    "dist_sin_train.index = dist_sin_train.index\n",
    "dist_sin_train"
   ]
  },
  {
   "cell_type": "code",
   "execution_count": 22,
   "id": "25d0a5ae",
   "metadata": {},
   "outputs": [
    {
     "data": {
      "text/plain": [
       "<matplotlib.legend.Legend at 0x75398baebf98>"
      ]
     },
     "execution_count": 22,
     "metadata": {},
     "output_type": "execute_result"
    },
    {
     "data": {
      "image/png": "[encoded data removed]",
      "text/plain": [
       "<Figure size 432x288 with 1 Axes>"
      ]
     },
     "metadata": {
      "needs_background": "light"
     },
     "output_type": "display_data"
    }
   ],
   "source": [
    "f, ax = plt.subplots(1, 1)\n",
    "shap_id = 0\n",
    "bins = np.linspace(0, 120, 20)\n",
    "ax.hist(dist_sin_train.loc[dist_sin_train['label']==0, shap_id], alpha=0.5, label='sin=false')\n",
    "ax.hist(dist_sin_train.loc[dist_sin_train['label']==1, shap_id], alpha=0.5, label='sin=true')\n",
    "ax.legend(loc='upper right')"
   ]
  },
  {
   "cell_type": "markdown",
   "id": "c451c377",
   "metadata": {},
   "source": [
    "### Persistence of results"
   ]
  },
  {
   "cell_type": "code",
   "execution_count": null,
   "id": "2fd08249",
   "metadata": {},
   "outputs": [],
   "source": [
    "ts = datetime.datetime.now().strftime('%Y%m%d%H%M%S')\n",
    "folder = './test_sin_results/'\n",
    "os.makedirs(folder, exist_ok=True)\n",
    "\n",
    "dists.to_csv(f'{folder}/test_sin_500_fixed_nonoise_distmatrix_{ts}.csv', header=False, index=False)\n",
    "\n",
    "\n",
    "with open(f'{folder}/gendis_{ts}.pickle', 'wb') as file_handler:\n",
    "    pickle.dump(gendis, file_handler, protocol=pickle.HIGHEST_PROTOCOL)"
   ]
  }
 ],
 "metadata": {
  "kernelspec": {
   "display_name": "Python 3 (ipykernel)",
   "language": "python",
   "name": "python3"
  },
  "language_info": {
   "codemirror_mode": {
    "name": "ipython",
    "version": 3
   },
   "file_extension": ".py",
   "mimetype": "text/x-python",
   "name": "python",
   "nbconvert_exporter": "python",
   "pygments_lexer": "ipython3",
   "version": "3.6.13"
  }
 },
 "nbformat": 4,
 "nbformat_minor": 5
}
