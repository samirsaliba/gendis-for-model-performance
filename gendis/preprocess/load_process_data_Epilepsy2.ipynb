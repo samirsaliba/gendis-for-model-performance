{
 "cells": [
  {
   "cell_type": "code",
   "execution_count": 32,
   "id": "0b5babfb-8da0-4dab-884b-fb13b83a8374",
   "metadata": {},
   "outputs": [
    {
     "name": "stdout",
     "output_type": "stream",
     "text": [
      " Shape of X =  (11500, 1, 178)\n",
      " Meta data =  {'problemname': 'cardiacarrhythmia_combo.ts', 'timestamps': False, 'missing': False, 'univariate': True, 'equallength': True, 'classlabel': True, 'targetlabel': False, 'class_values': ['0', '1']}\n"
     ]
    }
   ],
   "source": [
    "from aeon.datasets import load_classification\n",
    "X, y, meta_data = load_classification(\"Epilepsy2\")\n",
    "print(\" Shape of X = \", X.shape)\n",
    "print(\" Meta data = \", meta_data)"
   ]
  },
  {
   "cell_type": "code",
   "execution_count": 33,
   "id": "42af20f7-028c-4b86-b989-92961164a1c7",
   "metadata": {
    "scrolled": true
   },
   "outputs": [
    {
     "data": {
      "text/plain": [
       "(11500, 1, 178)"
      ]
     },
     "execution_count": 33,
     "metadata": {},
     "output_type": "execute_result"
    }
   ],
   "source": [
    "X.shape"
   ]
  },
  {
   "cell_type": "code",
   "execution_count": 34,
   "id": "bc8502f7-2203-4c8e-aa32-eb8807cf420a",
   "metadata": {},
   "outputs": [
    {
     "data": {
      "text/plain": [
       "(11500,)"
      ]
     },
     "execution_count": 34,
     "metadata": {},
     "output_type": "execute_result"
    }
   ],
   "source": [
    "y.shape"
   ]
  },
  {
   "cell_type": "code",
   "execution_count": 36,
   "id": "68fccf66-95f8-4cb5-976d-cdd9b6e7ef29",
   "metadata": {},
   "outputs": [
    {
     "data": {
      "text/plain": [
       "{'problemname': 'cardiacarrhythmia_combo.ts',\n",
       " 'timestamps': False,\n",
       " 'missing': False,\n",
       " 'univariate': True,\n",
       " 'equallength': True,\n",
       " 'classlabel': True,\n",
       " 'targetlabel': False,\n",
       " 'class_values': ['0', '1']}"
      ]
     },
     "execution_count": 36,
     "metadata": {},
     "output_type": "execute_result"
    }
   ],
   "source": [
    "meta_data"
   ]
  },
  {
   "cell_type": "code",
   "execution_count": 37,
   "id": "8ae6a828-bb04-4278-be32-100c7463bd98",
   "metadata": {},
   "outputs": [
    {
     "data": {
      "text/html": [
       "<div>\n",
       "<style scoped>\n",
       "    .dataframe tbody tr th:only-of-type {\n",
       "        vertical-align: middle;\n",
       "    }\n",
       "\n",
       "    .dataframe tbody tr th {\n",
       "        vertical-align: top;\n",
       "    }\n",
       "\n",
       "    .dataframe thead th {\n",
       "        text-align: right;\n",
       "    }\n",
       "</style>\n",
       "<table border=\"1\" class=\"dataframe\">\n",
       "  <thead>\n",
       "    <tr style=\"text-align: right;\">\n",
       "      <th></th>\n",
       "      <th>0</th>\n",
       "      <th>1</th>\n",
       "      <th>2</th>\n",
       "      <th>3</th>\n",
       "      <th>4</th>\n",
       "      <th>5</th>\n",
       "      <th>6</th>\n",
       "      <th>7</th>\n",
       "      <th>8</th>\n",
       "      <th>9</th>\n",
       "      <th>...</th>\n",
       "      <th>169</th>\n",
       "      <th>170</th>\n",
       "      <th>171</th>\n",
       "      <th>172</th>\n",
       "      <th>173</th>\n",
       "      <th>174</th>\n",
       "      <th>175</th>\n",
       "      <th>176</th>\n",
       "      <th>177</th>\n",
       "      <th>label</th>\n",
       "    </tr>\n",
       "  </thead>\n",
       "  <tbody>\n",
       "    <tr>\n",
       "      <th>0</th>\n",
       "      <td>0.341655</td>\n",
       "      <td>0.349197</td>\n",
       "      <td>0.374292</td>\n",
       "      <td>0.412786</td>\n",
       "      <td>0.427319</td>\n",
       "      <td>0.388749</td>\n",
       "      <td>0.377159</td>\n",
       "      <td>0.372810</td>\n",
       "      <td>0.385130</td>\n",
       "      <td>0.399336</td>\n",
       "      <td>...</td>\n",
       "      <td>0.383370</td>\n",
       "      <td>0.448307</td>\n",
       "      <td>0.449510</td>\n",
       "      <td>0.452042</td>\n",
       "      <td>0.448180</td>\n",
       "      <td>0.428945</td>\n",
       "      <td>0.412748</td>\n",
       "      <td>0.411765</td>\n",
       "      <td>0.449786</td>\n",
       "      <td>0</td>\n",
       "    </tr>\n",
       "    <tr>\n",
       "      <th>1</th>\n",
       "      <td>0.348107</td>\n",
       "      <td>0.388060</td>\n",
       "      <td>0.441110</td>\n",
       "      <td>0.466879</td>\n",
       "      <td>0.452705</td>\n",
       "      <td>0.391828</td>\n",
       "      <td>0.375097</td>\n",
       "      <td>0.367582</td>\n",
       "      <td>0.375868</td>\n",
       "      <td>0.349515</td>\n",
       "      <td>...</td>\n",
       "      <td>0.552415</td>\n",
       "      <td>0.599940</td>\n",
       "      <td>0.599122</td>\n",
       "      <td>0.584046</td>\n",
       "      <td>0.550431</td>\n",
       "      <td>0.515310</td>\n",
       "      <td>0.492424</td>\n",
       "      <td>0.484102</td>\n",
       "      <td>0.514690</td>\n",
       "      <td>0</td>\n",
       "    </tr>\n",
       "    <tr>\n",
       "      <th>2</th>\n",
       "      <td>0.495372</td>\n",
       "      <td>0.494790</td>\n",
       "      <td>0.499717</td>\n",
       "      <td>0.515765</td>\n",
       "      <td>0.526141</td>\n",
       "      <td>0.481108</td>\n",
       "      <td>0.464553</td>\n",
       "      <td>0.459608</td>\n",
       "      <td>0.471315</td>\n",
       "      <td>0.479305</td>\n",
       "      <td>...</td>\n",
       "      <td>0.488200</td>\n",
       "      <td>0.532215</td>\n",
       "      <td>0.525498</td>\n",
       "      <td>0.515353</td>\n",
       "      <td>0.488191</td>\n",
       "      <td>0.456948</td>\n",
       "      <td>0.434431</td>\n",
       "      <td>0.429783</td>\n",
       "      <td>0.478632</td>\n",
       "      <td>0</td>\n",
       "    </tr>\n",
       "    <tr>\n",
       "      <th>3</th>\n",
       "      <td>0.410940</td>\n",
       "      <td>0.395382</td>\n",
       "      <td>0.426104</td>\n",
       "      <td>0.508533</td>\n",
       "      <td>0.601088</td>\n",
       "      <td>0.617408</td>\n",
       "      <td>0.639856</td>\n",
       "      <td>0.670588</td>\n",
       "      <td>0.701055</td>\n",
       "      <td>0.700051</td>\n",
       "      <td>...</td>\n",
       "      <td>0.562294</td>\n",
       "      <td>0.596344</td>\n",
       "      <td>0.573117</td>\n",
       "      <td>0.534346</td>\n",
       "      <td>0.482912</td>\n",
       "      <td>0.429992</td>\n",
       "      <td>0.386625</td>\n",
       "      <td>0.360625</td>\n",
       "      <td>0.375801</td>\n",
       "      <td>0</td>\n",
       "    </tr>\n",
       "    <tr>\n",
       "      <th>4</th>\n",
       "      <td>0.477980</td>\n",
       "      <td>0.476485</td>\n",
       "      <td>0.477350</td>\n",
       "      <td>0.493202</td>\n",
       "      <td>0.504986</td>\n",
       "      <td>0.465715</td>\n",
       "      <td>0.455788</td>\n",
       "      <td>0.456732</td>\n",
       "      <td>0.473373</td>\n",
       "      <td>0.484670</td>\n",
       "      <td>...</td>\n",
       "      <td>0.485730</td>\n",
       "      <td>0.536410</td>\n",
       "      <td>0.533266</td>\n",
       "      <td>0.529281</td>\n",
       "      <td>0.507363</td>\n",
       "      <td>0.480241</td>\n",
       "      <td>0.458464</td>\n",
       "      <td>0.451510</td>\n",
       "      <td>0.483707</td>\n",
       "      <td>0</td>\n",
       "    </tr>\n",
       "  </tbody>\n",
       "</table>\n",
       "<p>5 rows × 179 columns</p>\n",
       "</div>"
      ],
      "text/plain": [
       "          0         1         2         3         4         5         6  \\\n",
       "0  0.341655  0.349197  0.374292  0.412786  0.427319  0.388749  0.377159   \n",
       "1  0.348107  0.388060  0.441110  0.466879  0.452705  0.391828  0.375097   \n",
       "2  0.495372  0.494790  0.499717  0.515765  0.526141  0.481108  0.464553   \n",
       "3  0.410940  0.395382  0.426104  0.508533  0.601088  0.617408  0.639856   \n",
       "4  0.477980  0.476485  0.477350  0.493202  0.504986  0.465715  0.455788   \n",
       "\n",
       "          7         8         9  ...       169       170       171       172  \\\n",
       "0  0.372810  0.385130  0.399336  ...  0.383370  0.448307  0.449510  0.452042   \n",
       "1  0.367582  0.375868  0.349515  ...  0.552415  0.599940  0.599122  0.584046   \n",
       "2  0.459608  0.471315  0.479305  ...  0.488200  0.532215  0.525498  0.515353   \n",
       "3  0.670588  0.701055  0.700051  ...  0.562294  0.596344  0.573117  0.534346   \n",
       "4  0.456732  0.473373  0.484670  ...  0.485730  0.536410  0.533266  0.529281   \n",
       "\n",
       "        173       174       175       176       177  label  \n",
       "0  0.448180  0.428945  0.412748  0.411765  0.449786      0  \n",
       "1  0.550431  0.515310  0.492424  0.484102  0.514690      0  \n",
       "2  0.488191  0.456948  0.434431  0.429783  0.478632      0  \n",
       "3  0.482912  0.429992  0.386625  0.360625  0.375801      0  \n",
       "4  0.507363  0.480241  0.458464  0.451510  0.483707      0  \n",
       "\n",
       "[5 rows x 179 columns]"
      ]
     },
     "execution_count": 37,
     "metadata": {},
     "output_type": "execute_result"
    }
   ],
   "source": [
    "import pandas as pd\n",
    "df = pd.DataFrame(data=X[:, 0, :])\n",
    "df['label'] = y\n",
    "df.head()"
   ]
  },
  {
   "cell_type": "code",
   "execution_count": 31,
   "id": "20daeb8b-e77b-43be-a4e7-8c5e37b5cb02",
   "metadata": {},
   "outputs": [],
   "source": [
    "df.to_csv('Epilepsy2_raw.csv', index=False)"
   ]
  },
  {
   "cell_type": "code",
   "execution_count": 42,
   "id": "3f95ef3c-f7e6-406a-9482-7889f1647d1a",
   "metadata": {},
   "outputs": [],
   "source": [
    "from sklearn.model_selection import train_test_split\n",
    "\n",
    "X_train, X_test, y_train, y_test = train_test_split(\n",
    "    X, y, test_size=0.95, random_state=0)"
   ]
  },
  {
   "cell_type": "code",
   "execution_count": 43,
   "id": "bc94b940-c4f8-4209-b0fb-10c1de5ce461",
   "metadata": {},
   "outputs": [
    {
     "data": {
      "text/plain": [
       "(575, 1, 178)"
      ]
     },
     "execution_count": 43,
     "metadata": {},
     "output_type": "execute_result"
    }
   ],
   "source": [
    "X_train.shape"
   ]
  },
  {
   "cell_type": "code",
   "execution_count": 50,
   "id": "41e459b1-37ac-4d63-94a9-fc0cc81a8345",
   "metadata": {},
   "outputs": [],
   "source": [
    "from sktime.transformations.panel.rocket import Rocket\n",
    "from sktime.datasets import load_unit_test\n",
    "import multiprocessing\n",
    "\n",
    "trf = Rocket(num_kernels=20, n_jobs=multiprocessing.cpu_count()-1) \n",
    "trf.fit(X_train) \n",
    "X_train_transform = trf.transform(X_train) \n",
    "X_test_transform = trf.transform(X_test) "
   ]
  },
  {
   "cell_type": "code",
   "execution_count": 51,
   "id": "7a71f96e-6289-4288-ba58-6bfd515f1a34",
   "metadata": {},
   "outputs": [
    {
     "name": "stderr",
     "output_type": "stream",
     "text": [
      "/home/samir/miniconda3/envs/gendis_pp/lib/python3.11/site-packages/sklearn/linear_model/_logistic.py:458: ConvergenceWarning: lbfgs failed to converge (status=1):\n",
      "STOP: TOTAL NO. of ITERATIONS REACHED LIMIT.\n",
      "\n",
      "Increase the number of iterations (max_iter) or scale the data as shown in:\n",
      "    https://scikit-learn.org/stable/modules/preprocessing.html\n",
      "Please also refer to the documentation for alternative solver options:\n",
      "    https://scikit-learn.org/stable/modules/linear_model.html#logistic-regression\n",
      "  n_iter_i = _check_optimize_result(\n"
     ]
    },
    {
     "data": {
      "text/plain": [
       "0.9212814645308924"
      ]
     },
     "execution_count": 51,
     "metadata": {},
     "output_type": "execute_result"
    }
   ],
   "source": [
    "from sklearn.datasets import load_iris\n",
    "from sklearn.linear_model import LogisticRegression\n",
    "\n",
    "clf = LogisticRegression(random_state=0).fit(X_train_transform, y_train)\n",
    "clf.score(X_test_transform, y_test)"
   ]
  },
  {
   "cell_type": "code",
   "execution_count": 52,
   "id": "8b377e42-95fa-4569-aecb-00175f9ffd23",
   "metadata": {},
   "outputs": [
    {
     "data": {
      "text/plain": [
       "array(['1', '1', '1', '1', '1', '1', '1', '0', '1', '1'], dtype='<U1')"
      ]
     },
     "execution_count": 52,
     "metadata": {},
     "output_type": "execute_result"
    }
   ],
   "source": [
    "y_test[0:10]"
   ]
  },
  {
   "cell_type": "code",
   "execution_count": 60,
   "id": "816ff9e4-739c-465e-97e7-25f62a8e4587",
   "metadata": {},
   "outputs": [
    {
     "data": {
      "text/plain": [
       "array([1, 1, 1, 1, 1, 1, 1, 0, 1, 1])"
      ]
     },
     "execution_count": 60,
     "metadata": {},
     "output_type": "execute_result"
    }
   ],
   "source": [
    "truth_class_one = y_test.astype(int)\n",
    "# truth_class_one[truth_class_one != 1] = 0\n",
    "truth_class_one[0:10]"
   ]
  },
  {
   "cell_type": "code",
   "execution_count": 61,
   "id": "d4190a12-e7d9-4c16-91da-6552fedc5ff1",
   "metadata": {},
   "outputs": [
    {
     "data": {
      "text/plain": [
       "array(['0', '1', '1', '1', '1', '1', '1', '0', '1', '1'], dtype='<U1')"
      ]
     },
     "execution_count": 61,
     "metadata": {},
     "output_type": "execute_result"
    }
   ],
   "source": [
    "y_pred = clf.predict(X_test_transform)\n",
    "y_pred[0:10]"
   ]
  },
  {
   "cell_type": "code",
   "execution_count": 62,
   "id": "d0961b60-c99b-4645-ad54-612aacd62a6b",
   "metadata": {},
   "outputs": [
    {
     "data": {
      "text/plain": [
       "array([[9.99811799e-01, 1.88201442e-04],\n",
       "       [4.17768747e-03, 9.95822313e-01],\n",
       "       [5.88850189e-02, 9.41114981e-01],\n",
       "       [9.41364454e-03, 9.90586355e-01],\n",
       "       [1.34275804e-02, 9.86572420e-01],\n",
       "       [6.95200013e-03, 9.93048000e-01],\n",
       "       [2.00576323e-02, 9.79942368e-01],\n",
       "       [9.80038602e-01, 1.99613977e-02],\n",
       "       [8.99256460e-03, 9.91007435e-01],\n",
       "       [5.45982802e-03, 9.94540172e-01]])"
      ]
     },
     "execution_count": 62,
     "metadata": {},
     "output_type": "execute_result"
    }
   ],
   "source": [
    "y_pred_proba = clf.predict_proba(X_test_transform)\n",
    "y_pred_proba[0:10]"
   ]
  },
  {
   "cell_type": "code",
   "execution_count": 63,
   "id": "a303854c-f38d-49c2-9ce2-a42de4e88630",
   "metadata": {},
   "outputs": [
    {
     "data": {
      "text/plain": [
       "array([1.88201442e-04, 9.95822313e-01, 9.41114981e-01, 9.90586355e-01,\n",
       "       9.86572420e-01, 9.93048000e-01, 9.79942368e-01, 1.99613977e-02,\n",
       "       9.91007435e-01, 9.94540172e-01])"
      ]
     },
     "execution_count": 63,
     "metadata": {},
     "output_type": "execute_result"
    }
   ],
   "source": [
    "proba_class_one = y_pred_proba[:, 1]\n",
    "proba_class_one[0:10]"
   ]
  },
  {
   "cell_type": "code",
   "execution_count": 64,
   "id": "79f43ef4-da57-48f5-9b13-90ab1468dabe",
   "metadata": {},
   "outputs": [
    {
     "data": {
      "text/plain": [
       "array([0.9998118 , 0.00417769, 0.05888502, 0.00941364, 0.01342758,\n",
       "       0.006952  , 0.02005763, 0.0199614 , 0.00899256, 0.00545983])"
      ]
     },
     "execution_count": 64,
     "metadata": {},
     "output_type": "execute_result"
    }
   ],
   "source": [
    "import numpy as np\n",
    "model_error = np.absolute(truth_class_one - proba_class_one)\n",
    "model_error[0:10]"
   ]
  },
  {
   "cell_type": "code",
   "execution_count": 65,
   "id": "b9e47573-93d7-426a-95ce-31b57bf4b9bc",
   "metadata": {},
   "outputs": [
    {
     "data": {
      "text/html": [
       "<div>\n",
       "<style scoped>\n",
       "    .dataframe tbody tr th:only-of-type {\n",
       "        vertical-align: middle;\n",
       "    }\n",
       "\n",
       "    .dataframe tbody tr th {\n",
       "        vertical-align: top;\n",
       "    }\n",
       "\n",
       "    .dataframe thead th {\n",
       "        text-align: right;\n",
       "    }\n",
       "</style>\n",
       "<table border=\"1\" class=\"dataframe\">\n",
       "  <thead>\n",
       "    <tr style=\"text-align: right;\">\n",
       "      <th></th>\n",
       "      <th>0</th>\n",
       "      <th>1</th>\n",
       "      <th>2</th>\n",
       "      <th>3</th>\n",
       "      <th>4</th>\n",
       "      <th>5</th>\n",
       "      <th>6</th>\n",
       "      <th>7</th>\n",
       "      <th>8</th>\n",
       "      <th>9</th>\n",
       "      <th>...</th>\n",
       "      <th>172</th>\n",
       "      <th>173</th>\n",
       "      <th>174</th>\n",
       "      <th>175</th>\n",
       "      <th>176</th>\n",
       "      <th>177</th>\n",
       "      <th>truth</th>\n",
       "      <th>clf_pred</th>\n",
       "      <th>clf_prob</th>\n",
       "      <th>error</th>\n",
       "    </tr>\n",
       "  </thead>\n",
       "  <tbody>\n",
       "    <tr>\n",
       "      <th>0</th>\n",
       "      <td>0.442076</td>\n",
       "      <td>0.443537</td>\n",
       "      <td>0.445640</td>\n",
       "      <td>0.459069</td>\n",
       "      <td>0.463282</td>\n",
       "      <td>0.421495</td>\n",
       "      <td>0.410157</td>\n",
       "      <td>0.403137</td>\n",
       "      <td>0.411629</td>\n",
       "      <td>0.414410</td>\n",
       "      <td>...</td>\n",
       "      <td>0.560620</td>\n",
       "      <td>0.529869</td>\n",
       "      <td>0.495682</td>\n",
       "      <td>0.471787</td>\n",
       "      <td>0.462374</td>\n",
       "      <td>0.491186</td>\n",
       "      <td>1</td>\n",
       "      <td>0</td>\n",
       "      <td>0.000188</td>\n",
       "      <td>0.999812</td>\n",
       "    </tr>\n",
       "    <tr>\n",
       "      <th>1</th>\n",
       "      <td>0.493408</td>\n",
       "      <td>0.499578</td>\n",
       "      <td>0.505096</td>\n",
       "      <td>0.520393</td>\n",
       "      <td>0.532185</td>\n",
       "      <td>0.483627</td>\n",
       "      <td>0.462233</td>\n",
       "      <td>0.450196</td>\n",
       "      <td>0.455107</td>\n",
       "      <td>0.454522</td>\n",
       "      <td>...</td>\n",
       "      <td>0.517885</td>\n",
       "      <td>0.492915</td>\n",
       "      <td>0.461398</td>\n",
       "      <td>0.438610</td>\n",
       "      <td>0.431108</td>\n",
       "      <td>0.465812</td>\n",
       "      <td>1</td>\n",
       "      <td>1</td>\n",
       "      <td>0.995822</td>\n",
       "      <td>0.004178</td>\n",
       "    </tr>\n",
       "    <tr>\n",
       "      <th>2</th>\n",
       "      <td>0.472370</td>\n",
       "      <td>0.471698</td>\n",
       "      <td>0.470555</td>\n",
       "      <td>0.481921</td>\n",
       "      <td>0.485947</td>\n",
       "      <td>0.440526</td>\n",
       "      <td>0.425883</td>\n",
       "      <td>0.419869</td>\n",
       "      <td>0.431438</td>\n",
       "      <td>0.436127</td>\n",
       "      <td>...</td>\n",
       "      <td>0.545742</td>\n",
       "      <td>0.518477</td>\n",
       "      <td>0.487830</td>\n",
       "      <td>0.466040</td>\n",
       "      <td>0.459459</td>\n",
       "      <td>0.491720</td>\n",
       "      <td>1</td>\n",
       "      <td>1</td>\n",
       "      <td>0.941115</td>\n",
       "      <td>0.058885</td>\n",
       "    </tr>\n",
       "    <tr>\n",
       "      <th>3</th>\n",
       "      <td>0.509397</td>\n",
       "      <td>0.519009</td>\n",
       "      <td>0.524632</td>\n",
       "      <td>0.545270</td>\n",
       "      <td>0.551526</td>\n",
       "      <td>0.499860</td>\n",
       "      <td>0.477958</td>\n",
       "      <td>0.475556</td>\n",
       "      <td>0.488552</td>\n",
       "      <td>0.495912</td>\n",
       "      <td>...</td>\n",
       "      <td>0.539728</td>\n",
       "      <td>0.515977</td>\n",
       "      <td>0.491494</td>\n",
       "      <td>0.469436</td>\n",
       "      <td>0.458665</td>\n",
       "      <td>0.480502</td>\n",
       "      <td>1</td>\n",
       "      <td>1</td>\n",
       "      <td>0.990586</td>\n",
       "      <td>0.009414</td>\n",
       "    </tr>\n",
       "    <tr>\n",
       "      <th>4</th>\n",
       "      <td>0.521178</td>\n",
       "      <td>0.524923</td>\n",
       "      <td>0.528029</td>\n",
       "      <td>0.541799</td>\n",
       "      <td>0.547597</td>\n",
       "      <td>0.499580</td>\n",
       "      <td>0.482341</td>\n",
       "      <td>0.477908</td>\n",
       "      <td>0.488294</td>\n",
       "      <td>0.490036</td>\n",
       "      <td>...</td>\n",
       "      <td>0.559671</td>\n",
       "      <td>0.530703</td>\n",
       "      <td>0.495943</td>\n",
       "      <td>0.470742</td>\n",
       "      <td>0.468468</td>\n",
       "      <td>0.508814</td>\n",
       "      <td>1</td>\n",
       "      <td>1</td>\n",
       "      <td>0.986572</td>\n",
       "      <td>0.013428</td>\n",
       "    </tr>\n",
       "  </tbody>\n",
       "</table>\n",
       "<p>5 rows × 182 columns</p>\n",
       "</div>"
      ],
      "text/plain": [
       "          0         1         2         3         4         5         6  \\\n",
       "0  0.442076  0.443537  0.445640  0.459069  0.463282  0.421495  0.410157   \n",
       "1  0.493408  0.499578  0.505096  0.520393  0.532185  0.483627  0.462233   \n",
       "2  0.472370  0.471698  0.470555  0.481921  0.485947  0.440526  0.425883   \n",
       "3  0.509397  0.519009  0.524632  0.545270  0.551526  0.499860  0.477958   \n",
       "4  0.521178  0.524923  0.528029  0.541799  0.547597  0.499580  0.482341   \n",
       "\n",
       "          7         8         9  ...       172       173       174       175  \\\n",
       "0  0.403137  0.411629  0.414410  ...  0.560620  0.529869  0.495682  0.471787   \n",
       "1  0.450196  0.455107  0.454522  ...  0.517885  0.492915  0.461398  0.438610   \n",
       "2  0.419869  0.431438  0.436127  ...  0.545742  0.518477  0.487830  0.466040   \n",
       "3  0.475556  0.488552  0.495912  ...  0.539728  0.515977  0.491494  0.469436   \n",
       "4  0.477908  0.488294  0.490036  ...  0.559671  0.530703  0.495943  0.470742   \n",
       "\n",
       "        176       177  truth  clf_pred  clf_prob     error  \n",
       "0  0.462374  0.491186      1         0  0.000188  0.999812  \n",
       "1  0.431108  0.465812      1         1  0.995822  0.004178  \n",
       "2  0.459459  0.491720      1         1  0.941115  0.058885  \n",
       "3  0.458665  0.480502      1         1  0.990586  0.009414  \n",
       "4  0.468468  0.508814      1         1  0.986572  0.013428  \n",
       "\n",
       "[5 rows x 182 columns]"
      ]
     },
     "execution_count": 65,
     "metadata": {},
     "output_type": "execute_result"
    }
   ],
   "source": [
    "df_err = pd.DataFrame(data=X_test[:, 0, :])\n",
    "df_err['truth'] = y_test\n",
    "df_err['clf_pred'] = y_pred\n",
    "df_err['clf_prob'] = proba_class_one\n",
    "df_err['error'] = model_error\n",
    "df_err.head()"
   ]
  },
  {
   "cell_type": "code",
   "execution_count": 66,
   "id": "2be4c5eb-420b-4b99-a1e3-11af9724c5eb",
   "metadata": {},
   "outputs": [],
   "source": [
    "df_err.to_csv('Epilepsy2_processed_error.csv', index=False)"
   ]
  }
 ],
 "metadata": {
  "kernelspec": {
   "display_name": "Python 3 (ipykernel)",
   "language": "python",
   "name": "python3"
  },
  "language_info": {
   "codemirror_mode": {
    "name": "ipython",
    "version": 3
   },
   "file_extension": ".py",
   "mimetype": "text/x-python",
   "name": "python",
   "nbconvert_exporter": "python",
   "pygments_lexer": "ipython3",
   "version": "3.11.5"
  }
 },
 "nbformat": 4,
 "nbformat_minor": 5
}
