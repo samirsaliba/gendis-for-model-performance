{
 "cells": [
  {
   "cell_type": "code",
   "execution_count": 1,
   "id": "0b5babfb-8da0-4dab-884b-fb13b83a8374",
   "metadata": {},
   "outputs": [
    {
     "name": "stdout",
     "output_type": "stream",
     "text": [
      " Shape of X =  (200, 1, 96)\n",
      " Meta data =  {'problemname': 'ecg200', 'timestamps': False, 'missing': False, 'univariate': True, 'equallength': True, 'classlabel': True, 'targetlabel': False, 'class_values': ['-1', '1']}\n"
     ]
    }
   ],
   "source": [
    "from aeon.datasets import load_classification\n",
    "X, y, meta_data = load_classification(\"ECG200\")\n",
    "print(\" Shape of X = \", X.shape)\n",
    "print(\" Meta data = \", meta_data)"
   ]
  },
  {
   "cell_type": "code",
   "execution_count": 2,
   "id": "42af20f7-028c-4b86-b989-92961164a1c7",
   "metadata": {
    "scrolled": true
   },
   "outputs": [
    {
     "data": {
      "text/plain": [
       "(200, 1, 96)"
      ]
     },
     "execution_count": 2,
     "metadata": {},
     "output_type": "execute_result"
    }
   ],
   "source": [
    "X.shape"
   ]
  },
  {
   "cell_type": "code",
   "execution_count": 3,
   "id": "bc8502f7-2203-4c8e-aa32-eb8807cf420a",
   "metadata": {},
   "outputs": [
    {
     "data": {
      "text/plain": [
       "(200,)"
      ]
     },
     "execution_count": 3,
     "metadata": {},
     "output_type": "execute_result"
    }
   ],
   "source": [
    "y.shape"
   ]
  },
  {
   "cell_type": "code",
   "execution_count": 4,
   "id": "68fccf66-95f8-4cb5-976d-cdd9b6e7ef29",
   "metadata": {},
   "outputs": [
    {
     "data": {
      "text/plain": [
       "{'problemname': 'ecg200',\n",
       " 'timestamps': False,\n",
       " 'missing': False,\n",
       " 'univariate': True,\n",
       " 'equallength': True,\n",
       " 'classlabel': True,\n",
       " 'targetlabel': False,\n",
       " 'class_values': ['-1', '1']}"
      ]
     },
     "execution_count": 4,
     "metadata": {},
     "output_type": "execute_result"
    }
   ],
   "source": [
    "meta_data"
   ]
  },
  {
   "cell_type": "code",
   "execution_count": 33,
   "id": "3d8b0683-c57a-45e1-8175-810e5d69725a",
   "metadata": {},
   "outputs": [
    {
     "data": {
      "text/plain": [
       "array([-1,  1, -1, -1,  1,  1, -1, -1,  1,  1,  1,  1,  1,  1, -1,  1,  1,\n",
       "        1, -1, -1,  1,  1,  1, -1,  1,  1,  1, -1,  1,  1,  1,  1,  1,  1,\n",
       "        1, -1,  1,  1,  1,  1,  1,  1,  1, -1, -1,  1, -1, -1,  1, -1,  1,\n",
       "        1,  1, -1,  1,  1, -1, -1,  1,  1,  1, -1,  1,  1,  1, -1,  1,  1,\n",
       "        1,  1,  1,  1, -1,  1,  1,  1,  1,  1,  1,  1,  1,  1,  1, -1, -1,\n",
       "       -1, -1,  1, -1,  1, -1,  1,  1, -1,  1,  1, -1, -1,  1,  1,  1,  1,\n",
       "        1,  1, -1,  1,  1,  1,  1, -1, -1,  1, -1, -1, -1,  1,  1,  1, -1,\n",
       "        1, -1,  1,  1,  1,  1,  1, -1,  1, -1,  1,  1,  1, -1, -1,  1,  1,\n",
       "        1,  1, -1, -1,  1,  1, -1,  1,  1,  1,  1,  1,  1,  1,  1, -1, -1,\n",
       "       -1, -1, -1,  1, -1, -1, -1, -1,  1,  1, -1, -1, -1,  1,  1,  1,  1,\n",
       "        1,  1,  1,  1,  1, -1,  1,  1,  1,  1,  1, -1,  1,  1, -1, -1, -1,\n",
       "       -1,  1,  1,  1, -1,  1,  1,  1,  1,  1, -1, -1,  1])"
      ]
     },
     "execution_count": 33,
     "metadata": {},
     "output_type": "execute_result"
    }
   ],
   "source": [
    "y = y.astype(int)\n",
    "y"
   ]
  },
  {
   "cell_type": "code",
   "execution_count": 35,
   "id": "5fbbcd8b-b3b1-484c-8d78-5cd10b1aa88d",
   "metadata": {},
   "outputs": [
    {
     "data": {
      "text/plain": [
       "array([0, 1, 0, 0, 1, 1, 0, 0, 1, 1, 1, 1, 1, 1, 0, 1, 1, 1, 0, 0, 1, 1,\n",
       "       1, 0, 1, 1, 1, 0, 1, 1, 1, 1, 1, 1, 1, 0, 1, 1, 1, 1, 1, 1, 1, 0,\n",
       "       0, 1, 0, 0, 1, 0, 1, 1, 1, 0, 1, 1, 0, 0, 1, 1, 1, 0, 1, 1, 1, 0,\n",
       "       1, 1, 1, 1, 1, 1, 0, 1, 1, 1, 1, 1, 1, 1, 1, 1, 1, 0, 0, 0, 0, 1,\n",
       "       0, 1, 0, 1, 1, 0, 1, 1, 0, 0, 1, 1, 1, 1, 1, 1, 0, 1, 1, 1, 1, 0,\n",
       "       0, 1, 0, 0, 0, 1, 1, 1, 0, 1, 0, 1, 1, 1, 1, 1, 0, 1, 0, 1, 1, 1,\n",
       "       0, 0, 1, 1, 1, 1, 0, 0, 1, 1, 0, 1, 1, 1, 1, 1, 1, 1, 1, 0, 0, 0,\n",
       "       0, 0, 1, 0, 0, 0, 0, 1, 1, 0, 0, 0, 1, 1, 1, 1, 1, 1, 1, 1, 1, 0,\n",
       "       1, 1, 1, 1, 1, 0, 1, 1, 0, 0, 0, 0, 1, 1, 1, 0, 1, 1, 1, 1, 1, 0,\n",
       "       0, 1])"
      ]
     },
     "execution_count": 35,
     "metadata": {},
     "output_type": "execute_result"
    }
   ],
   "source": [
    "y[y == -1] = 0\n",
    "y"
   ]
  },
  {
   "cell_type": "code",
   "execution_count": 36,
   "id": "8ae6a828-bb04-4278-be32-100c7463bd98",
   "metadata": {},
   "outputs": [
    {
     "data": {
      "text/html": [
       "<div>\n",
       "<style scoped>\n",
       "    .dataframe tbody tr th:only-of-type {\n",
       "        vertical-align: middle;\n",
       "    }\n",
       "\n",
       "    .dataframe tbody tr th {\n",
       "        vertical-align: top;\n",
       "    }\n",
       "\n",
       "    .dataframe thead th {\n",
       "        text-align: right;\n",
       "    }\n",
       "</style>\n",
       "<table border=\"1\" class=\"dataframe\">\n",
       "  <thead>\n",
       "    <tr style=\"text-align: right;\">\n",
       "      <th></th>\n",
       "      <th>0</th>\n",
       "      <th>1</th>\n",
       "      <th>2</th>\n",
       "      <th>3</th>\n",
       "      <th>4</th>\n",
       "      <th>5</th>\n",
       "      <th>6</th>\n",
       "      <th>7</th>\n",
       "      <th>8</th>\n",
       "      <th>9</th>\n",
       "      <th>...</th>\n",
       "      <th>87</th>\n",
       "      <th>88</th>\n",
       "      <th>89</th>\n",
       "      <th>90</th>\n",
       "      <th>91</th>\n",
       "      <th>92</th>\n",
       "      <th>93</th>\n",
       "      <th>94</th>\n",
       "      <th>95</th>\n",
       "      <th>label</th>\n",
       "    </tr>\n",
       "  </thead>\n",
       "  <tbody>\n",
       "    <tr>\n",
       "      <th>0</th>\n",
       "      <td>0.502055</td>\n",
       "      <td>0.542163</td>\n",
       "      <td>0.722383</td>\n",
       "      <td>1.428885</td>\n",
       "      <td>2.136516</td>\n",
       "      <td>2.281149</td>\n",
       "      <td>1.936274</td>\n",
       "      <td>1.468890</td>\n",
       "      <td>1.008845</td>\n",
       "      <td>0.380282</td>\n",
       "      <td>...</td>\n",
       "      <td>0.610298</td>\n",
       "      <td>0.638894</td>\n",
       "      <td>0.684679</td>\n",
       "      <td>0.583238</td>\n",
       "      <td>0.640522</td>\n",
       "      <td>0.708585</td>\n",
       "      <td>0.705011</td>\n",
       "      <td>0.713815</td>\n",
       "      <td>0.433765</td>\n",
       "      <td>0</td>\n",
       "    </tr>\n",
       "    <tr>\n",
       "      <th>1</th>\n",
       "      <td>0.147647</td>\n",
       "      <td>0.804668</td>\n",
       "      <td>0.367771</td>\n",
       "      <td>0.243894</td>\n",
       "      <td>0.026614</td>\n",
       "      <td>-0.274402</td>\n",
       "      <td>0.096731</td>\n",
       "      <td>-0.747731</td>\n",
       "      <td>-1.609777</td>\n",
       "      <td>-1.179593</td>\n",
       "      <td>...</td>\n",
       "      <td>-0.400228</td>\n",
       "      <td>0.176084</td>\n",
       "      <td>1.111768</td>\n",
       "      <td>2.438428</td>\n",
       "      <td>2.734889</td>\n",
       "      <td>1.736054</td>\n",
       "      <td>0.036857</td>\n",
       "      <td>-1.265074</td>\n",
       "      <td>-0.208024</td>\n",
       "      <td>1</td>\n",
       "    </tr>\n",
       "    <tr>\n",
       "      <th>2</th>\n",
       "      <td>0.316646</td>\n",
       "      <td>0.243199</td>\n",
       "      <td>0.370471</td>\n",
       "      <td>1.063738</td>\n",
       "      <td>1.678187</td>\n",
       "      <td>1.759558</td>\n",
       "      <td>1.697717</td>\n",
       "      <td>1.612159</td>\n",
       "      <td>1.168188</td>\n",
       "      <td>0.499957</td>\n",
       "      <td>...</td>\n",
       "      <td>0.610621</td>\n",
       "      <td>0.552900</td>\n",
       "      <td>0.566786</td>\n",
       "      <td>0.604002</td>\n",
       "      <td>0.777068</td>\n",
       "      <td>0.812345</td>\n",
       "      <td>0.748848</td>\n",
       "      <td>0.818042</td>\n",
       "      <td>0.539347</td>\n",
       "      <td>0</td>\n",
       "    </tr>\n",
       "    <tr>\n",
       "      <th>3</th>\n",
       "      <td>1.168874</td>\n",
       "      <td>2.075901</td>\n",
       "      <td>1.760141</td>\n",
       "      <td>1.606446</td>\n",
       "      <td>1.949046</td>\n",
       "      <td>1.302842</td>\n",
       "      <td>0.459332</td>\n",
       "      <td>0.516412</td>\n",
       "      <td>0.852180</td>\n",
       "      <td>0.989227</td>\n",
       "      <td>...</td>\n",
       "      <td>0.723888</td>\n",
       "      <td>1.323947</td>\n",
       "      <td>2.136488</td>\n",
       "      <td>1.746597</td>\n",
       "      <td>1.470220</td>\n",
       "      <td>1.893512</td>\n",
       "      <td>1.256949</td>\n",
       "      <td>0.800407</td>\n",
       "      <td>0.731540</td>\n",
       "      <td>0</td>\n",
       "    </tr>\n",
       "    <tr>\n",
       "      <th>4</th>\n",
       "      <td>0.648658</td>\n",
       "      <td>0.752026</td>\n",
       "      <td>2.636231</td>\n",
       "      <td>3.455716</td>\n",
       "      <td>2.118157</td>\n",
       "      <td>0.520620</td>\n",
       "      <td>-0.188627</td>\n",
       "      <td>0.780818</td>\n",
       "      <td>0.933775</td>\n",
       "      <td>0.701402</td>\n",
       "      <td>...</td>\n",
       "      <td>-0.136787</td>\n",
       "      <td>-0.340237</td>\n",
       "      <td>-0.089441</td>\n",
       "      <td>-0.080297</td>\n",
       "      <td>-0.192584</td>\n",
       "      <td>-0.304704</td>\n",
       "      <td>-0.454556</td>\n",
       "      <td>0.314590</td>\n",
       "      <td>0.582190</td>\n",
       "      <td>1</td>\n",
       "    </tr>\n",
       "  </tbody>\n",
       "</table>\n",
       "<p>5 rows × 97 columns</p>\n",
       "</div>"
      ],
      "text/plain": [
       "          0         1         2         3         4         5         6  \\\n",
       "0  0.502055  0.542163  0.722383  1.428885  2.136516  2.281149  1.936274   \n",
       "1  0.147647  0.804668  0.367771  0.243894  0.026614 -0.274402  0.096731   \n",
       "2  0.316646  0.243199  0.370471  1.063738  1.678187  1.759558  1.697717   \n",
       "3  1.168874  2.075901  1.760141  1.606446  1.949046  1.302842  0.459332   \n",
       "4  0.648658  0.752026  2.636231  3.455716  2.118157  0.520620 -0.188627   \n",
       "\n",
       "          7         8         9  ...        87        88        89        90  \\\n",
       "0  1.468890  1.008845  0.380282  ...  0.610298  0.638894  0.684679  0.583238   \n",
       "1 -0.747731 -1.609777 -1.179593  ... -0.400228  0.176084  1.111768  2.438428   \n",
       "2  1.612159  1.168188  0.499957  ...  0.610621  0.552900  0.566786  0.604002   \n",
       "3  0.516412  0.852180  0.989227  ...  0.723888  1.323947  2.136488  1.746597   \n",
       "4  0.780818  0.933775  0.701402  ... -0.136787 -0.340237 -0.089441 -0.080297   \n",
       "\n",
       "         91        92        93        94        95  label  \n",
       "0  0.640522  0.708585  0.705011  0.713815  0.433765      0  \n",
       "1  2.734889  1.736054  0.036857 -1.265074 -0.208024      1  \n",
       "2  0.777068  0.812345  0.748848  0.818042  0.539347      0  \n",
       "3  1.470220  1.893512  1.256949  0.800407  0.731540      0  \n",
       "4 -0.192584 -0.304704 -0.454556  0.314590  0.582190      1  \n",
       "\n",
       "[5 rows x 97 columns]"
      ]
     },
     "execution_count": 36,
     "metadata": {},
     "output_type": "execute_result"
    }
   ],
   "source": [
    "import pandas as pd\n",
    "df = pd.DataFrame(data=X[:, 0, :])\n",
    "df['label'] = y\n",
    "df.head()"
   ]
  },
  {
   "cell_type": "code",
   "execution_count": 37,
   "id": "20daeb8b-e77b-43be-a4e7-8c5e37b5cb02",
   "metadata": {},
   "outputs": [],
   "source": [
    "df.to_csv('ECG200_raw.csv', index=False)"
   ]
  },
  {
   "cell_type": "code",
   "execution_count": 38,
   "id": "3f95ef3c-f7e6-406a-9482-7889f1647d1a",
   "metadata": {},
   "outputs": [],
   "source": [
    "from sklearn.model_selection import train_test_split\n",
    "\n",
    "X_train, X_test, y_train, y_test = train_test_split(\n",
    "    X, y, test_size=0.5, random_state=0)"
   ]
  },
  {
   "cell_type": "code",
   "execution_count": 39,
   "id": "bc94b940-c4f8-4209-b0fb-10c1de5ce461",
   "metadata": {},
   "outputs": [
    {
     "data": {
      "text/plain": [
       "(100, 1, 96)"
      ]
     },
     "execution_count": 39,
     "metadata": {},
     "output_type": "execute_result"
    }
   ],
   "source": [
    "X_train.shape"
   ]
  },
  {
   "cell_type": "code",
   "execution_count": 40,
   "id": "41e459b1-37ac-4d63-94a9-fc0cc81a8345",
   "metadata": {},
   "outputs": [],
   "source": [
    "from sktime.transformations.panel.rocket import Rocket\n",
    "from sktime.datasets import load_unit_test\n",
    "import multiprocessing\n",
    "\n",
    "trf = Rocket(num_kernels=20, n_jobs=multiprocessing.cpu_count()-1) \n",
    "trf.fit(X_train) \n",
    "X_train_transform = trf.transform(X_train) \n",
    "X_test_transform = trf.transform(X_test) "
   ]
  },
  {
   "cell_type": "code",
   "execution_count": 41,
   "id": "7a71f96e-6289-4288-ba58-6bfd515f1a34",
   "metadata": {},
   "outputs": [
    {
     "name": "stderr",
     "output_type": "stream",
     "text": [
      "/home/samir/miniconda3/envs/gendis_pp/lib/python3.11/site-packages/sklearn/linear_model/_logistic.py:458: ConvergenceWarning: lbfgs failed to converge (status=1):\n",
      "STOP: TOTAL NO. of ITERATIONS REACHED LIMIT.\n",
      "\n",
      "Increase the number of iterations (max_iter) or scale the data as shown in:\n",
      "    https://scikit-learn.org/stable/modules/preprocessing.html\n",
      "Please also refer to the documentation for alternative solver options:\n",
      "    https://scikit-learn.org/stable/modules/linear_model.html#logistic-regression\n",
      "  n_iter_i = _check_optimize_result(\n"
     ]
    },
    {
     "data": {
      "text/plain": [
       "0.86"
      ]
     },
     "execution_count": 41,
     "metadata": {},
     "output_type": "execute_result"
    }
   ],
   "source": [
    "from sklearn.datasets import load_iris\n",
    "from sklearn.linear_model import LogisticRegression\n",
    "\n",
    "clf = LogisticRegression(random_state=0).fit(X_train_transform, y_train)\n",
    "clf.score(X_test_transform, y_test)"
   ]
  },
  {
   "cell_type": "code",
   "execution_count": 43,
   "id": "816ff9e4-739c-465e-97e7-25f62a8e4587",
   "metadata": {},
   "outputs": [
    {
     "data": {
      "text/plain": [
       "array([0, 1, 1, 1, 1, 1, 1, 1, 1, 0])"
      ]
     },
     "execution_count": 43,
     "metadata": {},
     "output_type": "execute_result"
    }
   ],
   "source": [
    "truth_class_one = y_test.astype(int)\n",
    "# truth_class_one[truth_class_one != 1] = 0\n",
    "truth_class_one[0:10]"
   ]
  },
  {
   "cell_type": "code",
   "execution_count": 44,
   "id": "d4190a12-e7d9-4c16-91da-6552fedc5ff1",
   "metadata": {},
   "outputs": [
    {
     "data": {
      "text/plain": [
       "array([0, 1, 1, 1, 1, 0, 1, 1, 0, 0])"
      ]
     },
     "execution_count": 44,
     "metadata": {},
     "output_type": "execute_result"
    }
   ],
   "source": [
    "y_pred = clf.predict(X_test_transform)\n",
    "y_pred[0:10]"
   ]
  },
  {
   "cell_type": "code",
   "execution_count": 45,
   "id": "d0961b60-c99b-4645-ad54-612aacd62a6b",
   "metadata": {},
   "outputs": [
    {
     "data": {
      "text/plain": [
       "array([[0.90360245, 0.09639755],\n",
       "       [0.02973659, 0.97026341],\n",
       "       [0.01389127, 0.98610873],\n",
       "       [0.00777547, 0.99222453],\n",
       "       [0.14870608, 0.85129392],\n",
       "       [0.81918018, 0.18081982],\n",
       "       [0.07711489, 0.92288511],\n",
       "       [0.03101249, 0.96898751],\n",
       "       [0.87638892, 0.12361108],\n",
       "       [0.64659942, 0.35340058]])"
      ]
     },
     "execution_count": 45,
     "metadata": {},
     "output_type": "execute_result"
    }
   ],
   "source": [
    "y_pred_proba = clf.predict_proba(X_test_transform)\n",
    "y_pred_proba[0:10]"
   ]
  },
  {
   "cell_type": "code",
   "execution_count": 46,
   "id": "a303854c-f38d-49c2-9ce2-a42de4e88630",
   "metadata": {},
   "outputs": [
    {
     "data": {
      "text/plain": [
       "array([0.09639755, 0.97026341, 0.98610873, 0.99222453, 0.85129392,\n",
       "       0.18081982, 0.92288511, 0.96898751, 0.12361108, 0.35340058])"
      ]
     },
     "execution_count": 46,
     "metadata": {},
     "output_type": "execute_result"
    }
   ],
   "source": [
    "proba_class_one = y_pred_proba[:, 1]\n",
    "proba_class_one[0:10]"
   ]
  },
  {
   "cell_type": "code",
   "execution_count": 47,
   "id": "79f43ef4-da57-48f5-9b13-90ab1468dabe",
   "metadata": {},
   "outputs": [
    {
     "data": {
      "text/plain": [
       "array([0.09639755, 0.02973659, 0.01389127, 0.00777547, 0.14870608,\n",
       "       0.81918018, 0.07711489, 0.03101249, 0.87638892, 0.35340058])"
      ]
     },
     "execution_count": 47,
     "metadata": {},
     "output_type": "execute_result"
    }
   ],
   "source": [
    "import numpy as np\n",
    "model_error = np.absolute(truth_class_one - proba_class_one)\n",
    "model_error[0:10]"
   ]
  },
  {
   "cell_type": "code",
   "execution_count": 48,
   "id": "b9e47573-93d7-426a-95ce-31b57bf4b9bc",
   "metadata": {},
   "outputs": [
    {
     "data": {
      "text/html": [
       "<div>\n",
       "<style scoped>\n",
       "    .dataframe tbody tr th:only-of-type {\n",
       "        vertical-align: middle;\n",
       "    }\n",
       "\n",
       "    .dataframe tbody tr th {\n",
       "        vertical-align: top;\n",
       "    }\n",
       "\n",
       "    .dataframe thead th {\n",
       "        text-align: right;\n",
       "    }\n",
       "</style>\n",
       "<table border=\"1\" class=\"dataframe\">\n",
       "  <thead>\n",
       "    <tr style=\"text-align: right;\">\n",
       "      <th></th>\n",
       "      <th>0</th>\n",
       "      <th>1</th>\n",
       "      <th>2</th>\n",
       "      <th>3</th>\n",
       "      <th>4</th>\n",
       "      <th>5</th>\n",
       "      <th>6</th>\n",
       "      <th>7</th>\n",
       "      <th>8</th>\n",
       "      <th>9</th>\n",
       "      <th>...</th>\n",
       "      <th>90</th>\n",
       "      <th>91</th>\n",
       "      <th>92</th>\n",
       "      <th>93</th>\n",
       "      <th>94</th>\n",
       "      <th>95</th>\n",
       "      <th>truth</th>\n",
       "      <th>clf_pred</th>\n",
       "      <th>clf_prob</th>\n",
       "      <th>error</th>\n",
       "    </tr>\n",
       "  </thead>\n",
       "  <tbody>\n",
       "    <tr>\n",
       "      <th>0</th>\n",
       "      <td>1.088076</td>\n",
       "      <td>1.564040</td>\n",
       "      <td>1.368890</td>\n",
       "      <td>1.250157</td>\n",
       "      <td>1.491498</td>\n",
       "      <td>1.682589</td>\n",
       "      <td>1.226951</td>\n",
       "      <td>0.343969</td>\n",
       "      <td>-0.335317</td>\n",
       "      <td>-0.729320</td>\n",
       "      <td>...</td>\n",
       "      <td>2.150796</td>\n",
       "      <td>2.385066</td>\n",
       "      <td>1.993872</td>\n",
       "      <td>1.760286</td>\n",
       "      <td>1.269218</td>\n",
       "      <td>0.399103</td>\n",
       "      <td>0</td>\n",
       "      <td>0</td>\n",
       "      <td>0.096398</td>\n",
       "      <td>0.096398</td>\n",
       "    </tr>\n",
       "    <tr>\n",
       "      <th>1</th>\n",
       "      <td>0.955804</td>\n",
       "      <td>1.603964</td>\n",
       "      <td>2.728597</td>\n",
       "      <td>4.147563</td>\n",
       "      <td>2.942624</td>\n",
       "      <td>1.382093</td>\n",
       "      <td>0.037531</td>\n",
       "      <td>-0.339903</td>\n",
       "      <td>0.465481</td>\n",
       "      <td>0.797179</td>\n",
       "      <td>...</td>\n",
       "      <td>-0.137032</td>\n",
       "      <td>-0.510956</td>\n",
       "      <td>-0.414687</td>\n",
       "      <td>-0.289843</td>\n",
       "      <td>-0.471944</td>\n",
       "      <td>-0.345898</td>\n",
       "      <td>1</td>\n",
       "      <td>1</td>\n",
       "      <td>0.970263</td>\n",
       "      <td>0.029737</td>\n",
       "    </tr>\n",
       "    <tr>\n",
       "      <th>2</th>\n",
       "      <td>1.709221</td>\n",
       "      <td>2.752852</td>\n",
       "      <td>1.682990</td>\n",
       "      <td>1.241862</td>\n",
       "      <td>-0.037972</td>\n",
       "      <td>-0.217589</td>\n",
       "      <td>0.789646</td>\n",
       "      <td>0.547428</td>\n",
       "      <td>0.302104</td>\n",
       "      <td>0.339065</td>\n",
       "      <td>...</td>\n",
       "      <td>0.111021</td>\n",
       "      <td>0.308668</td>\n",
       "      <td>0.048724</td>\n",
       "      <td>0.072167</td>\n",
       "      <td>0.348025</td>\n",
       "      <td>0.658488</td>\n",
       "      <td>1</td>\n",
       "      <td>1</td>\n",
       "      <td>0.986109</td>\n",
       "      <td>0.013891</td>\n",
       "    </tr>\n",
       "    <tr>\n",
       "      <th>3</th>\n",
       "      <td>0.179500</td>\n",
       "      <td>1.038409</td>\n",
       "      <td>1.946421</td>\n",
       "      <td>2.705141</td>\n",
       "      <td>1.670706</td>\n",
       "      <td>-0.101167</td>\n",
       "      <td>-1.578876</td>\n",
       "      <td>-0.750906</td>\n",
       "      <td>0.175310</td>\n",
       "      <td>0.064901</td>\n",
       "      <td>...</td>\n",
       "      <td>0.567132</td>\n",
       "      <td>0.136757</td>\n",
       "      <td>0.444768</td>\n",
       "      <td>0.151050</td>\n",
       "      <td>0.193378</td>\n",
       "      <td>0.451709</td>\n",
       "      <td>1</td>\n",
       "      <td>1</td>\n",
       "      <td>0.992225</td>\n",
       "      <td>0.007775</td>\n",
       "    </tr>\n",
       "    <tr>\n",
       "      <th>4</th>\n",
       "      <td>0.465348</td>\n",
       "      <td>0.860500</td>\n",
       "      <td>1.247617</td>\n",
       "      <td>1.987052</td>\n",
       "      <td>2.265494</td>\n",
       "      <td>1.639544</td>\n",
       "      <td>0.933286</td>\n",
       "      <td>0.252858</td>\n",
       "      <td>-0.256997</td>\n",
       "      <td>-0.006043</td>\n",
       "      <td>...</td>\n",
       "      <td>0.325771</td>\n",
       "      <td>0.032964</td>\n",
       "      <td>0.081087</td>\n",
       "      <td>0.201554</td>\n",
       "      <td>0.316433</td>\n",
       "      <td>0.347387</td>\n",
       "      <td>1</td>\n",
       "      <td>1</td>\n",
       "      <td>0.851294</td>\n",
       "      <td>0.148706</td>\n",
       "    </tr>\n",
       "  </tbody>\n",
       "</table>\n",
       "<p>5 rows × 100 columns</p>\n",
       "</div>"
      ],
      "text/plain": [
       "          0         1         2         3         4         5         6  \\\n",
       "0  1.088076  1.564040  1.368890  1.250157  1.491498  1.682589  1.226951   \n",
       "1  0.955804  1.603964  2.728597  4.147563  2.942624  1.382093  0.037531   \n",
       "2  1.709221  2.752852  1.682990  1.241862 -0.037972 -0.217589  0.789646   \n",
       "3  0.179500  1.038409  1.946421  2.705141  1.670706 -0.101167 -1.578876   \n",
       "4  0.465348  0.860500  1.247617  1.987052  2.265494  1.639544  0.933286   \n",
       "\n",
       "          7         8         9  ...        90        91        92        93  \\\n",
       "0  0.343969 -0.335317 -0.729320  ...  2.150796  2.385066  1.993872  1.760286   \n",
       "1 -0.339903  0.465481  0.797179  ... -0.137032 -0.510956 -0.414687 -0.289843   \n",
       "2  0.547428  0.302104  0.339065  ...  0.111021  0.308668  0.048724  0.072167   \n",
       "3 -0.750906  0.175310  0.064901  ...  0.567132  0.136757  0.444768  0.151050   \n",
       "4  0.252858 -0.256997 -0.006043  ...  0.325771  0.032964  0.081087  0.201554   \n",
       "\n",
       "         94        95  truth  clf_pred  clf_prob     error  \n",
       "0  1.269218  0.399103      0         0  0.096398  0.096398  \n",
       "1 -0.471944 -0.345898      1         1  0.970263  0.029737  \n",
       "2  0.348025  0.658488      1         1  0.986109  0.013891  \n",
       "3  0.193378  0.451709      1         1  0.992225  0.007775  \n",
       "4  0.316433  0.347387      1         1  0.851294  0.148706  \n",
       "\n",
       "[5 rows x 100 columns]"
      ]
     },
     "execution_count": 48,
     "metadata": {},
     "output_type": "execute_result"
    }
   ],
   "source": [
    "df_err = pd.DataFrame(data=X_test[:, 0, :])\n",
    "df_err['truth'] = y_test\n",
    "df_err['clf_pred'] = y_pred\n",
    "df_err['clf_prob'] = proba_class_one\n",
    "df_err['error'] = model_error\n",
    "df_err.head()"
   ]
  },
  {
   "cell_type": "code",
   "execution_count": 49,
   "id": "2be4c5eb-420b-4b99-a1e3-11af9724c5eb",
   "metadata": {},
   "outputs": [],
   "source": [
    "df_err.to_csv('ECG200_processed_error.csv', index=False)"
   ]
  }
 ],
 "metadata": {
  "kernelspec": {
   "display_name": "Python 3 (ipykernel)",
   "language": "python",
   "name": "python3"
  },
  "language_info": {
   "codemirror_mode": {
    "name": "ipython",
    "version": 3
   },
   "file_extension": ".py",
   "mimetype": "text/x-python",
   "name": "python",
   "nbconvert_exporter": "python",
   "pygments_lexer": "ipython3",
   "version": "3.11.5"
  }
 },
 "nbformat": 4,
 "nbformat_minor": 5
}
