{
 "cells": [
  {
   "cell_type": "code",
   "execution_count": 121,
   "id": "0b5babfb-8da0-4dab-884b-fb13b83a8374",
   "metadata": {},
   "outputs": [
    {
     "name": "stdout",
     "output_type": "stream",
     "text": [
      " Shape of X =  (200, 1, 150)\n",
      " Meta data =  {'problemname': 'gunpoint', 'timestamps': False, 'missing': False, 'univariate': True, 'equallength': True, 'classlabel': True, 'targetlabel': False, 'class_values': ['1', '2']}\n"
     ]
    }
   ],
   "source": [
    "from aeon.datasets import load_classification\n",
    "X, y, meta_data = load_classification(\"GunPoint\")\n",
    "print(\" Shape of X = \", X.shape)\n",
    "print(\" Meta data = \", meta_data)"
   ]
  },
  {
   "cell_type": "code",
   "execution_count": 122,
   "id": "42af20f7-028c-4b86-b989-92961164a1c7",
   "metadata": {
    "scrolled": true
   },
   "outputs": [
    {
     "data": {
      "text/plain": [
       "(200, 1, 150)"
      ]
     },
     "execution_count": 122,
     "metadata": {},
     "output_type": "execute_result"
    }
   ],
   "source": [
    "X.shape"
   ]
  },
  {
   "cell_type": "code",
   "execution_count": 123,
   "id": "8ae6a828-bb04-4278-be32-100c7463bd98",
   "metadata": {},
   "outputs": [
    {
     "data": {
      "text/html": [
       "<div>\n",
       "<style scoped>\n",
       "    .dataframe tbody tr th:only-of-type {\n",
       "        vertical-align: middle;\n",
       "    }\n",
       "\n",
       "    .dataframe tbody tr th {\n",
       "        vertical-align: top;\n",
       "    }\n",
       "\n",
       "    .dataframe thead th {\n",
       "        text-align: right;\n",
       "    }\n",
       "</style>\n",
       "<table border=\"1\" class=\"dataframe\">\n",
       "  <thead>\n",
       "    <tr style=\"text-align: right;\">\n",
       "      <th></th>\n",
       "      <th>0</th>\n",
       "      <th>1</th>\n",
       "      <th>2</th>\n",
       "      <th>3</th>\n",
       "      <th>4</th>\n",
       "      <th>5</th>\n",
       "      <th>6</th>\n",
       "      <th>7</th>\n",
       "      <th>8</th>\n",
       "      <th>9</th>\n",
       "      <th>...</th>\n",
       "      <th>141</th>\n",
       "      <th>142</th>\n",
       "      <th>143</th>\n",
       "      <th>144</th>\n",
       "      <th>145</th>\n",
       "      <th>146</th>\n",
       "      <th>147</th>\n",
       "      <th>148</th>\n",
       "      <th>149</th>\n",
       "      <th>label</th>\n",
       "    </tr>\n",
       "  </thead>\n",
       "  <tbody>\n",
       "    <tr>\n",
       "      <th>0</th>\n",
       "      <td>-0.647885</td>\n",
       "      <td>-0.641992</td>\n",
       "      <td>-0.638186</td>\n",
       "      <td>-0.638259</td>\n",
       "      <td>-0.638345</td>\n",
       "      <td>-0.638697</td>\n",
       "      <td>-0.643049</td>\n",
       "      <td>-0.643768</td>\n",
       "      <td>-0.645050</td>\n",
       "      <td>-0.647118</td>\n",
       "      <td>...</td>\n",
       "      <td>-0.639716</td>\n",
       "      <td>-0.639735</td>\n",
       "      <td>-0.640184</td>\n",
       "      <td>-0.639235</td>\n",
       "      <td>-0.639395</td>\n",
       "      <td>-0.640231</td>\n",
       "      <td>-0.640429</td>\n",
       "      <td>-0.638666</td>\n",
       "      <td>-0.638657</td>\n",
       "      <td>2</td>\n",
       "    </tr>\n",
       "    <tr>\n",
       "      <th>1</th>\n",
       "      <td>-0.644427</td>\n",
       "      <td>-0.645401</td>\n",
       "      <td>-0.647055</td>\n",
       "      <td>-0.647492</td>\n",
       "      <td>-0.646910</td>\n",
       "      <td>-0.643884</td>\n",
       "      <td>-0.639731</td>\n",
       "      <td>-0.638094</td>\n",
       "      <td>-0.635297</td>\n",
       "      <td>-0.635384</td>\n",
       "      <td>...</td>\n",
       "      <td>-0.641426</td>\n",
       "      <td>-0.639267</td>\n",
       "      <td>-0.637797</td>\n",
       "      <td>-0.637680</td>\n",
       "      <td>-0.635260</td>\n",
       "      <td>-0.635490</td>\n",
       "      <td>-0.634934</td>\n",
       "      <td>-0.634497</td>\n",
       "      <td>-0.631596</td>\n",
       "      <td>2</td>\n",
       "    </tr>\n",
       "    <tr>\n",
       "      <th>2</th>\n",
       "      <td>-0.778353</td>\n",
       "      <td>-0.778279</td>\n",
       "      <td>-0.777151</td>\n",
       "      <td>-0.777684</td>\n",
       "      <td>-0.775900</td>\n",
       "      <td>-0.772421</td>\n",
       "      <td>-0.765464</td>\n",
       "      <td>-0.762275</td>\n",
       "      <td>-0.763752</td>\n",
       "      <td>-0.765356</td>\n",
       "      <td>...</td>\n",
       "      <td>-0.718712</td>\n",
       "      <td>-0.713534</td>\n",
       "      <td>-0.710021</td>\n",
       "      <td>-0.704126</td>\n",
       "      <td>-0.703263</td>\n",
       "      <td>-0.703393</td>\n",
       "      <td>-0.704196</td>\n",
       "      <td>-0.707605</td>\n",
       "      <td>-0.707120</td>\n",
       "      <td>1</td>\n",
       "    </tr>\n",
       "    <tr>\n",
       "      <th>3</th>\n",
       "      <td>-0.750060</td>\n",
       "      <td>-0.748103</td>\n",
       "      <td>-0.746164</td>\n",
       "      <td>-0.745926</td>\n",
       "      <td>-0.743767</td>\n",
       "      <td>-0.743805</td>\n",
       "      <td>-0.745213</td>\n",
       "      <td>-0.745082</td>\n",
       "      <td>-0.745727</td>\n",
       "      <td>-0.745815</td>\n",
       "      <td>...</td>\n",
       "      <td>-0.724661</td>\n",
       "      <td>-0.729229</td>\n",
       "      <td>-0.728940</td>\n",
       "      <td>-0.727834</td>\n",
       "      <td>-0.728244</td>\n",
       "      <td>-0.726453</td>\n",
       "      <td>-0.725517</td>\n",
       "      <td>-0.725191</td>\n",
       "      <td>-0.724679</td>\n",
       "      <td>1</td>\n",
       "    </tr>\n",
       "    <tr>\n",
       "      <th>4</th>\n",
       "      <td>-0.599539</td>\n",
       "      <td>-0.597422</td>\n",
       "      <td>-0.599269</td>\n",
       "      <td>-0.598259</td>\n",
       "      <td>-0.597582</td>\n",
       "      <td>-0.591303</td>\n",
       "      <td>-0.589020</td>\n",
       "      <td>-0.587533</td>\n",
       "      <td>-0.585462</td>\n",
       "      <td>-0.583847</td>\n",
       "      <td>...</td>\n",
       "      <td>-0.643885</td>\n",
       "      <td>-0.645742</td>\n",
       "      <td>-0.646458</td>\n",
       "      <td>-0.646464</td>\n",
       "      <td>-0.645585</td>\n",
       "      <td>-0.642412</td>\n",
       "      <td>-0.643337</td>\n",
       "      <td>-0.636803</td>\n",
       "      <td>-0.631716</td>\n",
       "      <td>2</td>\n",
       "    </tr>\n",
       "  </tbody>\n",
       "</table>\n",
       "<p>5 rows × 151 columns</p>\n",
       "</div>"
      ],
      "text/plain": [
       "          0         1         2         3         4         5         6  \\\n",
       "0 -0.647885 -0.641992 -0.638186 -0.638259 -0.638345 -0.638697 -0.643049   \n",
       "1 -0.644427 -0.645401 -0.647055 -0.647492 -0.646910 -0.643884 -0.639731   \n",
       "2 -0.778353 -0.778279 -0.777151 -0.777684 -0.775900 -0.772421 -0.765464   \n",
       "3 -0.750060 -0.748103 -0.746164 -0.745926 -0.743767 -0.743805 -0.745213   \n",
       "4 -0.599539 -0.597422 -0.599269 -0.598259 -0.597582 -0.591303 -0.589020   \n",
       "\n",
       "          7         8         9  ...       141       142       143       144  \\\n",
       "0 -0.643768 -0.645050 -0.647118  ... -0.639716 -0.639735 -0.640184 -0.639235   \n",
       "1 -0.638094 -0.635297 -0.635384  ... -0.641426 -0.639267 -0.637797 -0.637680   \n",
       "2 -0.762275 -0.763752 -0.765356  ... -0.718712 -0.713534 -0.710021 -0.704126   \n",
       "3 -0.745082 -0.745727 -0.745815  ... -0.724661 -0.729229 -0.728940 -0.727834   \n",
       "4 -0.587533 -0.585462 -0.583847  ... -0.643885 -0.645742 -0.646458 -0.646464   \n",
       "\n",
       "        145       146       147       148       149  label  \n",
       "0 -0.639395 -0.640231 -0.640429 -0.638666 -0.638657      2  \n",
       "1 -0.635260 -0.635490 -0.634934 -0.634497 -0.631596      2  \n",
       "2 -0.703263 -0.703393 -0.704196 -0.707605 -0.707120      1  \n",
       "3 -0.728244 -0.726453 -0.725517 -0.725191 -0.724679      1  \n",
       "4 -0.645585 -0.642412 -0.643337 -0.636803 -0.631716      2  \n",
       "\n",
       "[5 rows x 151 columns]"
      ]
     },
     "execution_count": 123,
     "metadata": {},
     "output_type": "execute_result"
    }
   ],
   "source": [
    "import pandas as pd\n",
    "df = pd.DataFrame(data=X[:, 0, :])\n",
    "df['label'] = y\n",
    "df.head()"
   ]
  },
  {
   "cell_type": "code",
   "execution_count": 124,
   "id": "20daeb8b-e77b-43be-a4e7-8c5e37b5cb02",
   "metadata": {},
   "outputs": [],
   "source": [
    "df.to_csv('gunpoint_raw.csv', index=False)"
   ]
  },
  {
   "cell_type": "code",
   "execution_count": 125,
   "id": "3f95ef3c-f7e6-406a-9482-7889f1647d1a",
   "metadata": {},
   "outputs": [],
   "source": [
    "from sklearn.model_selection import train_test_split\n",
    "\n",
    "X_train, X_test, y_train, y_test = train_test_split(\n",
    "    X, y, test_size=0.33, random_state=0)"
   ]
  },
  {
   "cell_type": "code",
   "execution_count": 126,
   "id": "bc94b940-c4f8-4209-b0fb-10c1de5ce461",
   "metadata": {},
   "outputs": [
    {
     "data": {
      "text/plain": [
       "(134, 1, 150)"
      ]
     },
     "execution_count": 126,
     "metadata": {},
     "output_type": "execute_result"
    }
   ],
   "source": [
    "X_train.shape"
   ]
  },
  {
   "cell_type": "code",
   "execution_count": 127,
   "id": "41e459b1-37ac-4d63-94a9-fc0cc81a8345",
   "metadata": {},
   "outputs": [],
   "source": [
    "from sktime.transformations.panel.rocket import Rocket\n",
    "from sktime.datasets import load_unit_test\n",
    "import multiprocessing\n",
    "\n",
    "trf = Rocket(num_kernels=10, n_jobs=multiprocessing.cpu_count()-1) \n",
    "trf.fit(X_train) \n",
    "X_train_transform = trf.transform(X_train) \n",
    "X_test_transform = trf.transform(X_test) "
   ]
  },
  {
   "cell_type": "code",
   "execution_count": 128,
   "id": "7a71f96e-6289-4288-ba58-6bfd515f1a34",
   "metadata": {},
   "outputs": [
    {
     "data": {
      "text/plain": [
       "0.8636363636363636"
      ]
     },
     "execution_count": 128,
     "metadata": {},
     "output_type": "execute_result"
    }
   ],
   "source": [
    "from sklearn.datasets import load_iris\n",
    "from sklearn.linear_model import LogisticRegression\n",
    "\n",
    "clf = LogisticRegression(random_state=0).fit(X_train_transform, y_train)\n",
    "clf.score(X_test_transform, y_test)"
   ]
  },
  {
   "cell_type": "code",
   "execution_count": 129,
   "id": "8b377e42-95fa-4569-aecb-00175f9ffd23",
   "metadata": {},
   "outputs": [
    {
     "data": {
      "text/plain": [
       "array(['1', '1', '2', '1', '1', '1', '2', '2', '1', '1'], dtype='<U1')"
      ]
     },
     "execution_count": 129,
     "metadata": {},
     "output_type": "execute_result"
    }
   ],
   "source": [
    "y_test[0:10]"
   ]
  },
  {
   "cell_type": "code",
   "execution_count": 130,
   "id": "816ff9e4-739c-465e-97e7-25f62a8e4587",
   "metadata": {},
   "outputs": [
    {
     "data": {
      "text/plain": [
       "array([1, 1, 0, 1, 1, 1, 0, 0, 1, 1])"
      ]
     },
     "execution_count": 130,
     "metadata": {},
     "output_type": "execute_result"
    }
   ],
   "source": [
    "truth_class_one = y_test.astype(int)\n",
    "truth_class_one[truth_class_one != 1] = 0\n",
    "truth_class_one[0:10]"
   ]
  },
  {
   "cell_type": "code",
   "execution_count": 131,
   "id": "d4190a12-e7d9-4c16-91da-6552fedc5ff1",
   "metadata": {},
   "outputs": [
    {
     "data": {
      "text/plain": [
       "array(['1', '1', '2', '2', '1', '1', '1', '2', '1', '1'], dtype='<U1')"
      ]
     },
     "execution_count": 131,
     "metadata": {},
     "output_type": "execute_result"
    }
   ],
   "source": [
    "y_pred = clf.predict(X_test_transform)\n",
    "y_pred[0:10]"
   ]
  },
  {
   "cell_type": "code",
   "execution_count": 132,
   "id": "d0961b60-c99b-4645-ad54-612aacd62a6b",
   "metadata": {},
   "outputs": [
    {
     "data": {
      "text/plain": [
       "array([[0.9202544 , 0.0797456 ],\n",
       "       [0.92763466, 0.07236534],\n",
       "       [0.09537825, 0.90462175],\n",
       "       [0.26502188, 0.73497812],\n",
       "       [0.9336416 , 0.0663584 ],\n",
       "       [0.94985878, 0.05014122],\n",
       "       [0.51431854, 0.48568146],\n",
       "       [0.32810629, 0.67189371],\n",
       "       [0.87471776, 0.12528224],\n",
       "       [0.86671917, 0.13328083]])"
      ]
     },
     "execution_count": 132,
     "metadata": {},
     "output_type": "execute_result"
    }
   ],
   "source": [
    "y_pred_proba = clf.predict_proba(X_test_transform)\n",
    "y_pred_proba[0:10]"
   ]
  },
  {
   "cell_type": "code",
   "execution_count": 133,
   "id": "a303854c-f38d-49c2-9ce2-a42de4e88630",
   "metadata": {},
   "outputs": [
    {
     "data": {
      "text/plain": [
       "array([0.9202544 , 0.92763466, 0.09537825, 0.26502188, 0.9336416 ,\n",
       "       0.94985878, 0.51431854, 0.32810629, 0.87471776, 0.86671917])"
      ]
     },
     "execution_count": 133,
     "metadata": {},
     "output_type": "execute_result"
    }
   ],
   "source": [
    "proba_class_one = y_pred_proba[:, 0]\n",
    "proba_class_one[0:10]"
   ]
  },
  {
   "cell_type": "code",
   "execution_count": 134,
   "id": "79f43ef4-da57-48f5-9b13-90ab1468dabe",
   "metadata": {},
   "outputs": [
    {
     "data": {
      "text/plain": [
       "array([0.0797456 , 0.07236534, 0.09537825, 0.73497812, 0.0663584 ,\n",
       "       0.05014122, 0.51431854, 0.32810629, 0.12528224, 0.13328083])"
      ]
     },
     "execution_count": 134,
     "metadata": {},
     "output_type": "execute_result"
    }
   ],
   "source": [
    "model_error = np.absolute(truth_class_one - proba_class_one)\n",
    "model_error[0:10]"
   ]
  },
  {
   "cell_type": "code",
   "execution_count": 136,
   "id": "b9e47573-93d7-426a-95ce-31b57bf4b9bc",
   "metadata": {},
   "outputs": [
    {
     "data": {
      "text/html": [
       "<div>\n",
       "<style scoped>\n",
       "    .dataframe tbody tr th:only-of-type {\n",
       "        vertical-align: middle;\n",
       "    }\n",
       "\n",
       "    .dataframe tbody tr th {\n",
       "        vertical-align: top;\n",
       "    }\n",
       "\n",
       "    .dataframe thead th {\n",
       "        text-align: right;\n",
       "    }\n",
       "</style>\n",
       "<table border=\"1\" class=\"dataframe\">\n",
       "  <thead>\n",
       "    <tr style=\"text-align: right;\">\n",
       "      <th></th>\n",
       "      <th>0</th>\n",
       "      <th>1</th>\n",
       "      <th>2</th>\n",
       "      <th>3</th>\n",
       "      <th>4</th>\n",
       "      <th>5</th>\n",
       "      <th>6</th>\n",
       "      <th>7</th>\n",
       "      <th>8</th>\n",
       "      <th>9</th>\n",
       "      <th>...</th>\n",
       "      <th>144</th>\n",
       "      <th>145</th>\n",
       "      <th>146</th>\n",
       "      <th>147</th>\n",
       "      <th>148</th>\n",
       "      <th>149</th>\n",
       "      <th>truth</th>\n",
       "      <th>clf_pred</th>\n",
       "      <th>clf_prob</th>\n",
       "      <th>error</th>\n",
       "    </tr>\n",
       "  </thead>\n",
       "  <tbody>\n",
       "    <tr>\n",
       "      <th>0</th>\n",
       "      <td>-1.054014</td>\n",
       "      <td>-1.050717</td>\n",
       "      <td>-1.047666</td>\n",
       "      <td>-1.047448</td>\n",
       "      <td>-1.048769</td>\n",
       "      <td>-1.047781</td>\n",
       "      <td>-1.047891</td>\n",
       "      <td>-1.047536</td>\n",
       "      <td>-1.047369</td>\n",
       "      <td>-1.044656</td>\n",
       "      <td>...</td>\n",
       "      <td>-1.071325</td>\n",
       "      <td>-1.068112</td>\n",
       "      <td>-1.068966</td>\n",
       "      <td>-1.069154</td>\n",
       "      <td>-1.066642</td>\n",
       "      <td>-1.064798</td>\n",
       "      <td>1</td>\n",
       "      <td>1</td>\n",
       "      <td>0.920254</td>\n",
       "      <td>0.079746</td>\n",
       "    </tr>\n",
       "    <tr>\n",
       "      <th>1</th>\n",
       "      <td>-0.966288</td>\n",
       "      <td>-0.971525</td>\n",
       "      <td>-0.971881</td>\n",
       "      <td>-0.972672</td>\n",
       "      <td>-0.966935</td>\n",
       "      <td>-0.966532</td>\n",
       "      <td>-0.967584</td>\n",
       "      <td>-0.966147</td>\n",
       "      <td>-0.966501</td>\n",
       "      <td>-0.966086</td>\n",
       "      <td>...</td>\n",
       "      <td>-1.009584</td>\n",
       "      <td>-1.011476</td>\n",
       "      <td>-1.010935</td>\n",
       "      <td>-1.008073</td>\n",
       "      <td>-1.009745</td>\n",
       "      <td>-1.006284</td>\n",
       "      <td>1</td>\n",
       "      <td>1</td>\n",
       "      <td>0.927635</td>\n",
       "      <td>0.072365</td>\n",
       "    </tr>\n",
       "    <tr>\n",
       "      <th>2</th>\n",
       "      <td>-0.693911</td>\n",
       "      <td>-0.690750</td>\n",
       "      <td>-0.683657</td>\n",
       "      <td>-0.676097</td>\n",
       "      <td>-0.675943</td>\n",
       "      <td>-0.674141</td>\n",
       "      <td>-0.671976</td>\n",
       "      <td>-0.670974</td>\n",
       "      <td>-0.670276</td>\n",
       "      <td>-0.670103</td>\n",
       "      <td>...</td>\n",
       "      <td>-0.591039</td>\n",
       "      <td>-0.590049</td>\n",
       "      <td>-0.588937</td>\n",
       "      <td>-0.586893</td>\n",
       "      <td>-0.586506</td>\n",
       "      <td>-0.589174</td>\n",
       "      <td>2</td>\n",
       "      <td>2</td>\n",
       "      <td>0.095378</td>\n",
       "      <td>0.095378</td>\n",
       "    </tr>\n",
       "    <tr>\n",
       "      <th>3</th>\n",
       "      <td>-0.621861</td>\n",
       "      <td>-0.622251</td>\n",
       "      <td>-0.622982</td>\n",
       "      <td>-0.623165</td>\n",
       "      <td>-0.625679</td>\n",
       "      <td>-0.624674</td>\n",
       "      <td>-0.628023</td>\n",
       "      <td>-0.628529</td>\n",
       "      <td>-0.629481</td>\n",
       "      <td>-0.630061</td>\n",
       "      <td>...</td>\n",
       "      <td>-0.649271</td>\n",
       "      <td>-0.650146</td>\n",
       "      <td>-0.649936</td>\n",
       "      <td>-0.650529</td>\n",
       "      <td>-0.650530</td>\n",
       "      <td>-0.649983</td>\n",
       "      <td>1</td>\n",
       "      <td>2</td>\n",
       "      <td>0.265022</td>\n",
       "      <td>0.734978</td>\n",
       "    </tr>\n",
       "    <tr>\n",
       "      <th>4</th>\n",
       "      <td>-0.779429</td>\n",
       "      <td>-0.776860</td>\n",
       "      <td>-0.776728</td>\n",
       "      <td>-0.775657</td>\n",
       "      <td>-0.777356</td>\n",
       "      <td>-0.776667</td>\n",
       "      <td>-0.778071</td>\n",
       "      <td>-0.778201</td>\n",
       "      <td>-0.780394</td>\n",
       "      <td>-0.779949</td>\n",
       "      <td>...</td>\n",
       "      <td>-0.766655</td>\n",
       "      <td>-0.756226</td>\n",
       "      <td>-0.739417</td>\n",
       "      <td>-0.732552</td>\n",
       "      <td>-0.727968</td>\n",
       "      <td>-0.726643</td>\n",
       "      <td>1</td>\n",
       "      <td>1</td>\n",
       "      <td>0.933642</td>\n",
       "      <td>0.066358</td>\n",
       "    </tr>\n",
       "  </tbody>\n",
       "</table>\n",
       "<p>5 rows × 154 columns</p>\n",
       "</div>"
      ],
      "text/plain": [
       "          0         1         2         3         4         5         6  \\\n",
       "0 -1.054014 -1.050717 -1.047666 -1.047448 -1.048769 -1.047781 -1.047891   \n",
       "1 -0.966288 -0.971525 -0.971881 -0.972672 -0.966935 -0.966532 -0.967584   \n",
       "2 -0.693911 -0.690750 -0.683657 -0.676097 -0.675943 -0.674141 -0.671976   \n",
       "3 -0.621861 -0.622251 -0.622982 -0.623165 -0.625679 -0.624674 -0.628023   \n",
       "4 -0.779429 -0.776860 -0.776728 -0.775657 -0.777356 -0.776667 -0.778071   \n",
       "\n",
       "          7         8         9  ...       144       145       146       147  \\\n",
       "0 -1.047536 -1.047369 -1.044656  ... -1.071325 -1.068112 -1.068966 -1.069154   \n",
       "1 -0.966147 -0.966501 -0.966086  ... -1.009584 -1.011476 -1.010935 -1.008073   \n",
       "2 -0.670974 -0.670276 -0.670103  ... -0.591039 -0.590049 -0.588937 -0.586893   \n",
       "3 -0.628529 -0.629481 -0.630061  ... -0.649271 -0.650146 -0.649936 -0.650529   \n",
       "4 -0.778201 -0.780394 -0.779949  ... -0.766655 -0.756226 -0.739417 -0.732552   \n",
       "\n",
       "        148       149  truth  clf_pred  clf_prob     error  \n",
       "0 -1.066642 -1.064798      1         1  0.920254  0.079746  \n",
       "1 -1.009745 -1.006284      1         1  0.927635  0.072365  \n",
       "2 -0.586506 -0.589174      2         2  0.095378  0.095378  \n",
       "3 -0.650530 -0.649983      1         2  0.265022  0.734978  \n",
       "4 -0.727968 -0.726643      1         1  0.933642  0.066358  \n",
       "\n",
       "[5 rows x 154 columns]"
      ]
     },
     "execution_count": 136,
     "metadata": {},
     "output_type": "execute_result"
    }
   ],
   "source": [
    "df_err = pd.DataFrame(data=X_test[:, 0, :])\n",
    "df_err['truth'] = y_test\n",
    "df_err['clf_pred'] = y_pred\n",
    "df_err['clf_prob'] = proba_class_one\n",
    "df_err['error'] = model_error\n",
    "df_err.head()"
   ]
  },
  {
   "cell_type": "code",
   "execution_count": 137,
   "id": "2be4c5eb-420b-4b99-a1e3-11af9724c5eb",
   "metadata": {},
   "outputs": [],
   "source": [
    "df_err.to_csv('gunpoint_processed_error.csv', index=False)"
   ]
  },
  {
   "cell_type": "code",
   "execution_count": null,
   "id": "9e03c973-30e5-4d65-9e43-9f0d8beaf52a",
   "metadata": {},
   "outputs": [],
   "source": []
  }
 ],
 "metadata": {
  "kernelspec": {
   "display_name": "Python 3 (ipykernel)",
   "language": "python",
   "name": "python3"
  },
  "language_info": {
   "codemirror_mode": {
    "name": "ipython",
    "version": 3
   },
   "file_extension": ".py",
   "mimetype": "text/x-python",
   "name": "python",
   "nbconvert_exporter": "python",
   "pygments_lexer": "ipython3",
   "version": "3.11.5"
  }
 },
 "nbformat": 4,
 "nbformat_minor": 5
}
